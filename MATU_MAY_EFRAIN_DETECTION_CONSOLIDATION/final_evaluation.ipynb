{
 "cells": [
  {
   "cell_type": "code",
   "execution_count": null,
   "id": "1e2050bc-2ed6-425a-b5de-3b6436362f66",
   "metadata": {},
   "outputs": [],
   "source": [
    "import os\n",
    "import cv2\n",
    "import numpy as np\n",
    "import pandas as pd\n",
    "from keras.models import load_model\n",
    "import seaborn as sns\n",
    "import matplotlib.pyplot as plt\n",
    "from sklearn.metrics import accuracy_score, precision_score, recall_score, f1_score\n",
    "import tensorflow as tf"
   ]
  },
  {
   "cell_type": "code",
   "execution_count": null,
   "id": "51954d85-a90c-47ae-af69-84b22b749ff2",
   "metadata": {},
   "outputs": [],
   "source": []
  },
  {
   "cell_type": "code",
   "execution_count": 2,
   "id": "46e22f22-5597-48e4-82b4-7302ac913956",
   "metadata": {},
   "outputs": [],
   "source": [
    "def predict_images_128(csv_path, model_path, label_names):\n",
    "    # Load the model\n",
    "    model = load_model(model_path)\n",
    "\n",
    "    # Load the CSV file\n",
    "    df = pd.read_csv(csv_path)\n",
    "\n",
    "    # Initialize an empty list to store the results\n",
    "    results = []\n",
    "\n",
    "    # Loop through the rows in the CSV file\n",
    "    for idx, row in df.iterrows():\n",
    "        # Load the image and preprocess it\n",
    "        img_path = row['name']\n",
    "        img = cv2.imread(img_path)\n",
    "        img = cv2.resize(img, (128, 128))\n",
    "        img = img.astype('float32') / 255.0\n",
    "        img = np.expand_dims(img, axis=0)\n",
    "\n",
    "        # Make the prediction\n",
    "        pred = model.predict(img)[0]\n",
    "\n",
    "        # Get the predicted label and probability\n",
    "        max_prob_index = np.argmax(pred)\n",
    "        label = label_names[max_prob_index]\n",
    "        prob = round(pred[max_prob_index] * 100, 2)\n",
    "\n",
    "        # Append the results to the list\n",
    "        results.append([img_path,row['label'], label, prob])\n",
    "\n",
    "    # Convert the results list to a pandas dataframe and return it\n",
    "    df = pd.DataFrame(results, columns=['image_file', 'correct_label', 'predicted_label', 'prediction_probability'])\n",
    "    return df"
   ]
  },
  {
   "cell_type": "code",
   "execution_count": 3,
   "id": "a7167b0d-f729-4bd9-9482-53f7823ed0a7",
   "metadata": {},
   "outputs": [],
   "source": [
    "def predict_images_224(csv_path, model_path, label_names):\n",
    "    # Load the model\n",
    "    model = load_model(model_path)\n",
    "\n",
    "    # Load the CSV file\n",
    "    df = pd.read_csv(csv_path)\n",
    "\n",
    "    # Initialize an empty list to store the results\n",
    "    results = []\n",
    "\n",
    "    # Loop through the rows in the CSV file\n",
    "    for idx, row in df.iterrows():\n",
    "        # Load the image and preprocess it\n",
    "        img_path = row['name']\n",
    "        img = cv2.imread(img_path)\n",
    "        img = cv2.resize(img, (224, 224))\n",
    "        img = img.astype('float32') / 255.0\n",
    "        img = np.expand_dims(img, axis=0)\n",
    "\n",
    "        # Make the prediction\n",
    "        pred = model.predict(img)[0]\n",
    "\n",
    "        # Get the predicted label and probability\n",
    "        max_prob_index = np.argmax(pred)\n",
    "        label = label_names[max_prob_index]\n",
    "        prob = round(pred[max_prob_index] * 100, 2)\n",
    "\n",
    "        # Append the results to the list\n",
    "        results.append([img_path,row['label'], label, prob])\n",
    "\n",
    "    # Convert the results list to a pandas dataframe and return it\n",
    "    df = pd.DataFrame(results, columns=['image_file', 'correct_label', 'predicted_label', 'prediction_probability'])\n",
    "    return df"
   ]
  },
  {
   "cell_type": "code",
   "execution_count": 4,
   "id": "86939e80-a02d-4efa-807e-64d47285b01b",
   "metadata": {},
   "outputs": [],
   "source": [
    "def calculate_metrics(tp, tn, fp, fn):\n",
    "    precision = tp / (tp + fp)\n",
    "    recall = tp / (tp + fn)\n",
    "    f1_score = 2 * precision * recall / (precision + recall)\n",
    "    accuracy = (tp + tn) / (tp + tn + fp + fn)\n",
    "    return precision, recall, f1_score, accuracy"
   ]
  },
  {
   "cell_type": "code",
   "execution_count": 5,
   "id": "b417e2a5-d442-4962-9191-2b52756cd7f4",
   "metadata": {},
   "outputs": [],
   "source": [
    "csv_path  = 'test_sample_df.csv'\n",
    "csv_path  = 'val_sample_df.csv'"
   ]
  },
  {
   "cell_type": "code",
   "execution_count": null,
   "id": "473cc503-ad0d-45a3-903f-7c0474f5ed47",
   "metadata": {},
   "outputs": [],
   "source": []
  },
  {
   "cell_type": "markdown",
   "id": "fb7c1a7a-6e72-402e-94b4-19a4c2d1bed5",
   "metadata": {},
   "source": [
    "## MODEL 1"
   ]
  },
  {
   "cell_type": "markdown",
   "id": "549a4515-7cd0-4303-b09f-d3cb77117f90",
   "metadata": {},
   "source": [
    "#### MODEL 1 (128, 128, 3)"
   ]
  },
  {
   "cell_type": "code",
   "execution_count": 6,
   "id": "5d21f46c-c170-4ec4-9c07-b29a2876f2f3",
   "metadata": {},
   "outputs": [],
   "source": [
    "model_path = 'train_w_model01A/wHC_1.h5'\n",
    "label_names = ['jaguar', 'no-jaguar']"
   ]
  },
  {
   "cell_type": "code",
   "execution_count": null,
   "id": "ed012998-8ec5-40c0-9f72-d5f011b9e604",
   "metadata": {},
   "outputs": [],
   "source": [
    "df_1 = predict_images_128(csv_path, model_path, label_names)"
   ]
  },
  {
   "cell_type": "code",
   "execution_count": 58,
   "id": "e7f5c9b6-f002-4f94-9630-3c20e811b696",
   "metadata": {},
   "outputs": [],
   "source": [
    "df_1.to_csv('preds_df/df_1.csv', index=False)"
   ]
  },
  {
   "cell_type": "code",
   "execution_count": 9,
   "id": "33a2ce39-a928-4138-8ae5-7ea672285b73",
   "metadata": {},
   "outputs": [],
   "source": [
    "threshold = 0.7  # example threshold value\n",
    "\n",
    "tp = len(df_1.query(\"correct_label == 'jaguar' and predicted_label == 'jaguar' and prediction_probability >= @threshold\"))\n",
    "tn = len(df_1.query(\"correct_label == 'no-jaguar' and predicted_label == 'no-jaguar' and prediction_probability < @threshold\"))\n",
    "fp = len(df_1.query(\"correct_label == 'no-jaguar' and predicted_label == 'jaguar' and prediction_probability >= @threshold\"))\n",
    "fn = len(df_1.query(\"correct_label == 'jaguar' and predicted_label == 'no-jaguar' and prediction_probability >= @threshold\"))\n"
   ]
  },
  {
   "cell_type": "code",
   "execution_count": 10,
   "id": "386f0494-f378-4e71-aff8-76fc06919ccf",
   "metadata": {},
   "outputs": [
    {
     "data": {
      "text/html": [
       "<div>\n",
       "<style scoped>\n",
       "    .dataframe tbody tr th:only-of-type {\n",
       "        vertical-align: middle;\n",
       "    }\n",
       "\n",
       "    .dataframe tbody tr th {\n",
       "        vertical-align: top;\n",
       "    }\n",
       "\n",
       "    .dataframe thead th {\n",
       "        text-align: right;\n",
       "    }\n",
       "</style>\n",
       "<table border=\"1\" class=\"dataframe\">\n",
       "  <thead>\n",
       "    <tr style=\"text-align: right;\">\n",
       "      <th></th>\n",
       "      <th>Model 1 (128x128)</th>\n",
       "    </tr>\n",
       "  </thead>\n",
       "  <tbody>\n",
       "    <tr>\n",
       "      <th>Accuracy</th>\n",
       "      <td>0.356452</td>\n",
       "    </tr>\n",
       "    <tr>\n",
       "      <th>Precision</th>\n",
       "      <td>0.356452</td>\n",
       "    </tr>\n",
       "    <tr>\n",
       "      <th>Recall</th>\n",
       "      <td>1.000000</td>\n",
       "    </tr>\n",
       "    <tr>\n",
       "      <th>F1 Score</th>\n",
       "      <td>0.525565</td>\n",
       "    </tr>\n",
       "  </tbody>\n",
       "</table>\n",
       "</div>"
      ],
      "text/plain": [
       "           Model 1 (128x128)\n",
       "Accuracy            0.356452\n",
       "Precision           0.356452\n",
       "Recall              1.000000\n",
       "F1 Score            0.525565"
      ]
     },
     "execution_count": 10,
     "metadata": {},
     "output_type": "execute_result"
    }
   ],
   "source": [
    "# Calculate the metrics\n",
    "precision, recall, f1_score, accuracy = calculate_metrics(tp, tn, fp, fn)\n",
    "\n",
    "# Create a dictionary with the metric values\n",
    "metrics_dict = {'Accuracy': accuracy, 'Precision': precision, 'Recall': recall, 'F1 Score': f1_score}\n",
    "\n",
    "# Convert the dictionary to a pandas dataframe\n",
    "metrics_1 = pd.DataFrame.from_dict(metrics_dict, orient='index', columns=['Model 1 (128x128)'])\n",
    "\n",
    "# Print the dataframe\n",
    "metrics_1"
   ]
  },
  {
   "cell_type": "code",
   "execution_count": null,
   "id": "4e34bc35-9785-427a-83b1-b7785bf08b71",
   "metadata": {},
   "outputs": [],
   "source": []
  },
  {
   "cell_type": "code",
   "execution_count": 11,
   "id": "01193595-a6b3-462a-a956-5d27b5175257",
   "metadata": {},
   "outputs": [
    {
     "data": {
      "image/png": "[encoded data removed]",
      "text/plain": [
       "<Figure size 800x400 with 1 Axes>"
      ]
     },
     "metadata": {},
     "output_type": "display_data"
    }
   ],
   "source": [
    "sns.set_style('whitegrid')\n",
    "plt.figure(figsize=(8, 4))\n",
    "\n",
    "sns.histplot(data=df_1, x=df_1['prediction_probability'], hue='predicted_label', bins=20, kde=True)\n",
    "plt.xlabel('Prediction Probability')\n",
    "plt.ylabel('Count')\n",
    "plt.title('Distribution of Prediction Probabilities')\n",
    "\n",
    "plt.show()"
   ]
  },
  {
   "cell_type": "code",
   "execution_count": null,
   "id": "d08c76a7-ff58-48f2-a38a-98cf607b0827",
   "metadata": {},
   "outputs": [],
   "source": []
  },
  {
   "cell_type": "code",
   "execution_count": null,
   "id": "e1bd848e-8b2c-447d-94ae-494b78975107",
   "metadata": {},
   "outputs": [],
   "source": []
  },
  {
   "cell_type": "markdown",
   "id": "db67196b-cc1a-4ab0-a4f7-c0621bc21621",
   "metadata": {},
   "source": [
    "#### MODEL 1 (224, 224, 3)"
   ]
  },
  {
   "cell_type": "code",
   "execution_count": 12,
   "id": "8df66a3e-75f8-4109-8f45-90f2e588f900",
   "metadata": {},
   "outputs": [],
   "source": [
    "model_path_1 = 'train_w_model01A/wHC_1_1.h5'\n",
    "label_names = ['jaguar', 'no-jaguar']"
   ]
  },
  {
   "cell_type": "code",
   "execution_count": null,
   "id": "0a2765f2-3111-494d-9e68-755abb4ae44e",
   "metadata": {},
   "outputs": [],
   "source": [
    "df_1_1 = predict_images_224(csv_path, model_path_1, label_names)"
   ]
  },
  {
   "cell_type": "code",
   "execution_count": 59,
   "id": "efacad4e-a468-4e96-ae1d-abbf68e3569a",
   "metadata": {},
   "outputs": [],
   "source": [
    "df_1_1.to_csv('preds_df/df_1_1.csv', index=False)"
   ]
  },
  {
   "cell_type": "code",
   "execution_count": 14,
   "id": "97440819-6075-45de-9cd7-143bf5198fd1",
   "metadata": {},
   "outputs": [],
   "source": [
    "threshold = 0.7  \n",
    "\n",
    "tp = len(df_1_1.query(\"correct_label == 'jaguar' and predicted_label == 'jaguar' and prediction_probability >= @threshold\"))\n",
    "tn = len(df_1_1.query(\"correct_label == 'no-jaguar' and predicted_label == 'no-jaguar' and prediction_probability < @threshold\"))\n",
    "fp = len(df_1_1.query(\"correct_label == 'no-jaguar' and predicted_label == 'jaguar' and prediction_probability >= @threshold\"))\n",
    "fn = len(df_1_1.query(\"correct_label == 'jaguar' and predicted_label == 'no-jaguar' and prediction_probability >= @threshold\"))\n"
   ]
  },
  {
   "cell_type": "code",
   "execution_count": 15,
   "id": "fc554246-6d96-4602-88ed-fb54371040f4",
   "metadata": {},
   "outputs": [
    {
     "data": {
      "text/html": [
       "<div>\n",
       "<style scoped>\n",
       "    .dataframe tbody tr th:only-of-type {\n",
       "        vertical-align: middle;\n",
       "    }\n",
       "\n",
       "    .dataframe tbody tr th {\n",
       "        vertical-align: top;\n",
       "    }\n",
       "\n",
       "    .dataframe thead th {\n",
       "        text-align: right;\n",
       "    }\n",
       "</style>\n",
       "<table border=\"1\" class=\"dataframe\">\n",
       "  <thead>\n",
       "    <tr style=\"text-align: right;\">\n",
       "      <th></th>\n",
       "      <th>Model 1 (224x224)</th>\n",
       "    </tr>\n",
       "  </thead>\n",
       "  <tbody>\n",
       "    <tr>\n",
       "      <th>Accuracy</th>\n",
       "      <td>0.392966</td>\n",
       "    </tr>\n",
       "    <tr>\n",
       "      <th>Precision</th>\n",
       "      <td>0.392966</td>\n",
       "    </tr>\n",
       "    <tr>\n",
       "      <th>Recall</th>\n",
       "      <td>1.000000</td>\n",
       "    </tr>\n",
       "    <tr>\n",
       "      <th>F1 Score</th>\n",
       "      <td>0.564215</td>\n",
       "    </tr>\n",
       "  </tbody>\n",
       "</table>\n",
       "</div>"
      ],
      "text/plain": [
       "           Model 1 (224x224)\n",
       "Accuracy            0.392966\n",
       "Precision           0.392966\n",
       "Recall              1.000000\n",
       "F1 Score            0.564215"
      ]
     },
     "execution_count": 15,
     "metadata": {},
     "output_type": "execute_result"
    }
   ],
   "source": [
    "# Calculate the metrics\n",
    "precision, recall, f1_score, accuracy = calculate_metrics(tp, tn, fp, fn)\n",
    "\n",
    "# Create a dictionary with the metric values\n",
    "metrics_dict = {'Accuracy': accuracy, 'Precision': precision, 'Recall': recall, 'F1 Score': f1_score}\n",
    "\n",
    "# Convert the dictionary to a pandas dataframe\n",
    "metrics_1_1 = pd.DataFrame.from_dict(metrics_dict, orient='index', columns=['Model 1 (224x224)'])\n",
    "\n",
    "# Print the dataframe\n",
    "metrics_1_1"
   ]
  },
  {
   "cell_type": "code",
   "execution_count": 16,
   "id": "d27b5f97-d841-4565-b224-0dde707e6ec4",
   "metadata": {},
   "outputs": [
    {
     "data": {
      "image/png": "[encoded data removed]",
      "text/plain": [
       "<Figure size 800x400 with 1 Axes>"
      ]
     },
     "metadata": {},
     "output_type": "display_data"
    }
   ],
   "source": [
    "sns.set_style('whitegrid')\n",
    "plt.figure(figsize=(8, 4))\n",
    "\n",
    "sns.histplot(data=df_1_1, x=df_1_1['prediction_probability'], hue='predicted_label', bins=20, kde=True)\n",
    "plt.xlabel('Prediction Probability')\n",
    "plt.ylabel('Count')\n",
    "plt.title('Distribution of Prediction Probabilities')\n",
    "\n",
    "plt.show()"
   ]
  },
  {
   "cell_type": "code",
   "execution_count": null,
   "id": "69e791e9-c95b-4e97-91c2-8f8faf982581",
   "metadata": {},
   "outputs": [],
   "source": []
  },
  {
   "cell_type": "code",
   "execution_count": null,
   "id": "63608745-5249-463a-9295-72b551f9e8b1",
   "metadata": {},
   "outputs": [],
   "source": []
  },
  {
   "cell_type": "markdown",
   "id": "76586fad-0a97-40ba-b808-16078f569b91",
   "metadata": {},
   "source": [
    "## MODEL 2"
   ]
  },
  {
   "cell_type": "markdown",
   "id": "85a31c13-5eee-45b6-b59c-4b31a383237e",
   "metadata": {},
   "source": [
    "#### MODEL 2 (128, 128, 3)"
   ]
  },
  {
   "cell_type": "code",
   "execution_count": 17,
   "id": "16cb1991-c78b-4cd2-a045-a69f31156e2f",
   "metadata": {},
   "outputs": [],
   "source": [
    "model_path = 'train_w_model02A/wHC_1.h5'\n",
    "label_names = ['jaguar', 'no-jaguar']"
   ]
  },
  {
   "cell_type": "code",
   "execution_count": null,
   "id": "da489b7f-277c-45cc-95ad-dd62f2544f01",
   "metadata": {},
   "outputs": [],
   "source": [
    "df_2 = predict_images_128(csv_path, model_path, label_names)"
   ]
  },
  {
   "cell_type": "code",
   "execution_count": 60,
   "id": "53444f72-c0c2-4083-92b0-b9e56831388c",
   "metadata": {},
   "outputs": [],
   "source": [
    "df_2.to_csv('preds_df/df_2.csv', index=False)"
   ]
  },
  {
   "cell_type": "code",
   "execution_count": 20,
   "id": "4fa20487-2f1c-42e2-a0bd-00433f402f23",
   "metadata": {},
   "outputs": [],
   "source": [
    "threshold = 0.7  # example threshold value\n",
    "\n",
    "tp = len(df_2.query(\"correct_label == 'jaguar' and predicted_label == 'jaguar' and prediction_probability >= @threshold\"))\n",
    "tn = len(df_2.query(\"correct_label == 'no-jaguar' and predicted_label == 'no-jaguar' and prediction_probability < @threshold\"))\n",
    "fp = len(df_2.query(\"correct_label == 'no-jaguar' and predicted_label == 'jaguar' and prediction_probability >= @threshold\"))\n",
    "fn = len(df_2.query(\"correct_label == 'jaguar' and predicted_label == 'no-jaguar' and prediction_probability >= @threshold\"))\n"
   ]
  },
  {
   "cell_type": "code",
   "execution_count": 21,
   "id": "e48b30bd-198d-4b05-9b90-b1a952337c99",
   "metadata": {},
   "outputs": [
    {
     "data": {
      "text/html": [
       "<div>\n",
       "<style scoped>\n",
       "    .dataframe tbody tr th:only-of-type {\n",
       "        vertical-align: middle;\n",
       "    }\n",
       "\n",
       "    .dataframe tbody tr th {\n",
       "        vertical-align: top;\n",
       "    }\n",
       "\n",
       "    .dataframe thead th {\n",
       "        text-align: right;\n",
       "    }\n",
       "</style>\n",
       "<table border=\"1\" class=\"dataframe\">\n",
       "  <thead>\n",
       "    <tr style=\"text-align: right;\">\n",
       "      <th></th>\n",
       "      <th>Model 2 (128x128)</th>\n",
       "    </tr>\n",
       "  </thead>\n",
       "  <tbody>\n",
       "    <tr>\n",
       "      <th>Accuracy</th>\n",
       "      <td>0.500000</td>\n",
       "    </tr>\n",
       "    <tr>\n",
       "      <th>Precision</th>\n",
       "      <td>0.500000</td>\n",
       "    </tr>\n",
       "    <tr>\n",
       "      <th>Recall</th>\n",
       "      <td>1.000000</td>\n",
       "    </tr>\n",
       "    <tr>\n",
       "      <th>F1 Score</th>\n",
       "      <td>0.666667</td>\n",
       "    </tr>\n",
       "  </tbody>\n",
       "</table>\n",
       "</div>"
      ],
      "text/plain": [
       "           Model 2 (128x128)\n",
       "Accuracy            0.500000\n",
       "Precision           0.500000\n",
       "Recall              1.000000\n",
       "F1 Score            0.666667"
      ]
     },
     "execution_count": 21,
     "metadata": {},
     "output_type": "execute_result"
    }
   ],
   "source": [
    "# Calculate the metrics\n",
    "precision, recall, f1_score, accuracy = calculate_metrics(tp, tn, fp, fn)\n",
    "\n",
    "# Create a dictionary with the metric values\n",
    "metrics_dict = {'Accuracy': accuracy, 'Precision': precision, 'Recall': recall, 'F1 Score': f1_score}\n",
    "\n",
    "# Convert the dictionary to a pandas dataframe\n",
    "metrics_2 = pd.DataFrame.from_dict(metrics_dict, orient='index', columns=['Model 2 (128x128)'])\n",
    "\n",
    "# Print the dataframe\n",
    "metrics_2"
   ]
  },
  {
   "cell_type": "code",
   "execution_count": null,
   "id": "7b116a32-8dff-401a-9c03-5d536b818899",
   "metadata": {},
   "outputs": [],
   "source": []
  },
  {
   "cell_type": "code",
   "execution_count": 22,
   "id": "b3ddee4f-d238-4474-9481-ca63784b50c0",
   "metadata": {},
   "outputs": [
    {
     "data": {
      "image/png": "[encoded data removed]",
      "text/plain": [
       "<Figure size 800x400 with 1 Axes>"
      ]
     },
     "metadata": {},
     "output_type": "display_data"
    }
   ],
   "source": [
    "sns.set_style('whitegrid')\n",
    "plt.figure(figsize=(8, 4))\n",
    "\n",
    "sns.histplot(data=df_2, x=df_2['prediction_probability'], hue='predicted_label', bins=20, kde=True)\n",
    "plt.xlabel('Prediction Probability')\n",
    "plt.ylabel('Count')\n",
    "plt.title('Distribution of Prediction Probabilities')\n",
    "\n",
    "plt.show()"
   ]
  },
  {
   "cell_type": "code",
   "execution_count": null,
   "id": "b67676d7-9188-4be5-b445-61bc1a2c0834",
   "metadata": {},
   "outputs": [],
   "source": []
  },
  {
   "cell_type": "code",
   "execution_count": null,
   "id": "3ec37b10-05a7-4b9b-98c1-aa54a87f84ed",
   "metadata": {},
   "outputs": [],
   "source": []
  },
  {
   "cell_type": "markdown",
   "id": "6d0a0d49-48b7-4cad-a4bd-a5e9e8121f09",
   "metadata": {},
   "source": [
    "#### MODEL 2 (224, 224, 3)"
   ]
  },
  {
   "cell_type": "code",
   "execution_count": 23,
   "id": "e234b536-249e-42ed-a8c4-2ee43bb081ea",
   "metadata": {},
   "outputs": [],
   "source": [
    "model_path = 'train_w_model02A/wHC_1_1.h5'\n",
    "label_names = ['jaguar', 'no-jaguar']"
   ]
  },
  {
   "cell_type": "code",
   "execution_count": null,
   "id": "3ce2fccb-0bb7-4f5f-9a2e-723a70c90feb",
   "metadata": {},
   "outputs": [],
   "source": [
    "df_2_1 = predict_images_224(csv_path, model_path, label_names)"
   ]
  },
  {
   "cell_type": "code",
   "execution_count": 61,
   "id": "400854c1-1d84-4319-82e6-cb443331decb",
   "metadata": {},
   "outputs": [],
   "source": [
    "df_2_1.to_csv('preds_df/df_2_1.csv', index=False)"
   ]
  },
  {
   "cell_type": "code",
   "execution_count": 26,
   "id": "5fc96e82-24f9-49ae-92c7-84499aa5d7bd",
   "metadata": {},
   "outputs": [],
   "source": [
    "threshold = 0.7  # example threshold value\n",
    "\n",
    "tp = len(df_2_1.query(\"correct_label == 'jaguar' and predicted_label == 'jaguar' and prediction_probability >= @threshold\"))\n",
    "tn = len(df_2_1.query(\"correct_label == 'no-jaguar' and predicted_label == 'no-jaguar' and prediction_probability < @threshold\"))\n",
    "fp = len(df_2_1.query(\"correct_label == 'no-jaguar' and predicted_label == 'jaguar' and prediction_probability >= @threshold\"))\n",
    "fn = len(df_2_1.query(\"correct_label == 'jaguar' and predicted_label == 'no-jaguar' and prediction_probability >= @threshold\"))\n"
   ]
  },
  {
   "cell_type": "code",
   "execution_count": 27,
   "id": "beb0fe62-8451-48c2-a0e1-ffe1e8d966d6",
   "metadata": {},
   "outputs": [
    {
     "data": {
      "text/html": [
       "<div>\n",
       "<style scoped>\n",
       "    .dataframe tbody tr th:only-of-type {\n",
       "        vertical-align: middle;\n",
       "    }\n",
       "\n",
       "    .dataframe tbody tr th {\n",
       "        vertical-align: top;\n",
       "    }\n",
       "\n",
       "    .dataframe thead th {\n",
       "        text-align: right;\n",
       "    }\n",
       "</style>\n",
       "<table border=\"1\" class=\"dataframe\">\n",
       "  <thead>\n",
       "    <tr style=\"text-align: right;\">\n",
       "      <th></th>\n",
       "      <th>Model 2 (224x224)</th>\n",
       "    </tr>\n",
       "  </thead>\n",
       "  <tbody>\n",
       "    <tr>\n",
       "      <th>Accuracy</th>\n",
       "      <td>0.500000</td>\n",
       "    </tr>\n",
       "    <tr>\n",
       "      <th>Precision</th>\n",
       "      <td>0.500000</td>\n",
       "    </tr>\n",
       "    <tr>\n",
       "      <th>Recall</th>\n",
       "      <td>1.000000</td>\n",
       "    </tr>\n",
       "    <tr>\n",
       "      <th>F1 Score</th>\n",
       "      <td>0.666667</td>\n",
       "    </tr>\n",
       "  </tbody>\n",
       "</table>\n",
       "</div>"
      ],
      "text/plain": [
       "           Model 2 (224x224)\n",
       "Accuracy            0.500000\n",
       "Precision           0.500000\n",
       "Recall              1.000000\n",
       "F1 Score            0.666667"
      ]
     },
     "execution_count": 27,
     "metadata": {},
     "output_type": "execute_result"
    }
   ],
   "source": [
    "# Calculate the metrics\n",
    "precision, recall, f1_score, accuracy = calculate_metrics(tp, tn, fp, fn)\n",
    "\n",
    "# Create a dictionary with the metric values\n",
    "metrics_dict = {'Accuracy': accuracy, 'Precision': precision, 'Recall': recall, 'F1 Score': f1_score}\n",
    "\n",
    "# Convert the dictionary to a pandas dataframe\n",
    "metrics_2_1 = pd.DataFrame.from_dict(metrics_dict, orient='index', columns=['Model 2 (224x224)'])\n",
    "\n",
    "# Print the dataframe\n",
    "metrics_2_1"
   ]
  },
  {
   "cell_type": "code",
   "execution_count": null,
   "id": "60479a2e-6a9e-464a-ac34-3c56e697cd3e",
   "metadata": {},
   "outputs": [],
   "source": []
  },
  {
   "cell_type": "code",
   "execution_count": 28,
   "id": "8a5838ce-befe-485e-82db-c7ea04c52bf1",
   "metadata": {},
   "outputs": [
    {
     "data": {
      "image/png": "[encoded data removed]",
      "text/plain": [
       "<Figure size 800x400 with 1 Axes>"
      ]
     },
     "metadata": {},
     "output_type": "display_data"
    }
   ],
   "source": [
    "sns.set_style('whitegrid')\n",
    "plt.figure(figsize=(8, 4))\n",
    "\n",
    "sns.histplot(data=df_2_1, x=df_2_1['prediction_probability'], hue='predicted_label', bins=20, kde=True)\n",
    "plt.xlabel('Prediction Probability')\n",
    "plt.ylabel('Count')\n",
    "plt.title('Distribution of Prediction Probabilities')\n",
    "\n",
    "plt.show()"
   ]
  },
  {
   "cell_type": "code",
   "execution_count": null,
   "id": "212657a3-f16b-42f9-a934-b073bbfcdbb8",
   "metadata": {},
   "outputs": [],
   "source": []
  },
  {
   "cell_type": "markdown",
   "id": "2e2d01e8-03d0-4552-8789-aa6f6bdffa6f",
   "metadata": {},
   "source": [
    "## MODEL 3"
   ]
  },
  {
   "cell_type": "markdown",
   "id": "44582c84-83a1-4376-ba95-37ab53f2662e",
   "metadata": {},
   "source": [
    "#### MODEL 3 (128, 128, 3)"
   ]
  },
  {
   "cell_type": "code",
   "execution_count": 29,
   "id": "b625e983-463a-4276-a93b-79df36368ef7",
   "metadata": {},
   "outputs": [],
   "source": [
    "model_path = 'train_w_model03E/wHC_1.h5'\n",
    "label_names = ['jaguar', 'no-jaguar']"
   ]
  },
  {
   "cell_type": "code",
   "execution_count": null,
   "id": "389f4b26-9f85-433c-8146-4c2defb54c34",
   "metadata": {},
   "outputs": [],
   "source": [
    "df_3 = predict_images_128(csv_path, model_path, label_names)"
   ]
  },
  {
   "cell_type": "code",
   "execution_count": 62,
   "id": "2d7eb851-f291-434d-abb5-83d4e7501973",
   "metadata": {},
   "outputs": [],
   "source": [
    "df_3.to_csv('preds_df/df_3.csv', index=False)"
   ]
  },
  {
   "cell_type": "code",
   "execution_count": 32,
   "id": "4a261d68-af69-4381-b313-2ca6f57bb43e",
   "metadata": {},
   "outputs": [],
   "source": [
    "threshold = 0.7  # example threshold value\n",
    "\n",
    "tp = len(df_3.query(\"correct_label == 'jaguar' and predicted_label == 'jaguar' and prediction_probability >= @threshold\"))\n",
    "tn = len(df_3.query(\"correct_label == 'no-jaguar' and predicted_label == 'no-jaguar' and prediction_probability < @threshold\"))\n",
    "fp = len(df_3.query(\"correct_label == 'no-jaguar' and predicted_label == 'jaguar' and prediction_probability >= @threshold\"))\n",
    "fn = len(df_3.query(\"correct_label == 'jaguar' and predicted_label == 'no-jaguar' and prediction_probability >= @threshold\"))\n"
   ]
  },
  {
   "cell_type": "code",
   "execution_count": 33,
   "id": "591425cf-e47f-45eb-a7da-039a5e930253",
   "metadata": {},
   "outputs": [
    {
     "data": {
      "text/html": [
       "<div>\n",
       "<style scoped>\n",
       "    .dataframe tbody tr th:only-of-type {\n",
       "        vertical-align: middle;\n",
       "    }\n",
       "\n",
       "    .dataframe tbody tr th {\n",
       "        vertical-align: top;\n",
       "    }\n",
       "\n",
       "    .dataframe thead th {\n",
       "        text-align: right;\n",
       "    }\n",
       "</style>\n",
       "<table border=\"1\" class=\"dataframe\">\n",
       "  <thead>\n",
       "    <tr style=\"text-align: right;\">\n",
       "      <th></th>\n",
       "      <th>Model 3 (128x128)</th>\n",
       "    </tr>\n",
       "  </thead>\n",
       "  <tbody>\n",
       "    <tr>\n",
       "      <th>Accuracy</th>\n",
       "      <td>0.759082</td>\n",
       "    </tr>\n",
       "    <tr>\n",
       "      <th>Precision</th>\n",
       "      <td>0.759082</td>\n",
       "    </tr>\n",
       "    <tr>\n",
       "      <th>Recall</th>\n",
       "      <td>1.000000</td>\n",
       "    </tr>\n",
       "    <tr>\n",
       "      <th>F1 Score</th>\n",
       "      <td>0.863043</td>\n",
       "    </tr>\n",
       "  </tbody>\n",
       "</table>\n",
       "</div>"
      ],
      "text/plain": [
       "           Model 3 (128x128)\n",
       "Accuracy            0.759082\n",
       "Precision           0.759082\n",
       "Recall              1.000000\n",
       "F1 Score            0.863043"
      ]
     },
     "execution_count": 33,
     "metadata": {},
     "output_type": "execute_result"
    }
   ],
   "source": [
    "# Calculate the metrics\n",
    "precision, recall, f1_score, accuracy = calculate_metrics(tp, tn, fp, fn)\n",
    "\n",
    "# Create a dictionary with the metric values\n",
    "metrics_dict = {'Accuracy': accuracy, 'Precision': precision, 'Recall': recall, 'F1 Score': f1_score}\n",
    "\n",
    "# Convert the dictionary to a pandas dataframe\n",
    "metrics_3 = pd.DataFrame.from_dict(metrics_dict, orient='index', columns=['Model 3 (128x128)'])\n",
    "\n",
    "# Print the dataframe\n",
    "metrics_3"
   ]
  },
  {
   "cell_type": "code",
   "execution_count": 34,
   "id": "29352e1a-67d5-4bd0-aed9-8ff6632a9cb3",
   "metadata": {},
   "outputs": [
    {
     "data": {
      "image/png": "[encoded data removed]",
      "text/plain": [
       "<Figure size 800x400 with 1 Axes>"
      ]
     },
     "metadata": {},
     "output_type": "display_data"
    }
   ],
   "source": [
    "sns.set_style('whitegrid')\n",
    "plt.figure(figsize=(8, 4))\n",
    "\n",
    "sns.histplot(data=df_3, x=df_3['prediction_probability'], hue='predicted_label', bins=20, kde=True)\n",
    "plt.xlabel('Prediction Probability')\n",
    "plt.ylabel('Count')\n",
    "plt.title('Distribution of Prediction Probabilities')\n",
    "\n",
    "plt.show()"
   ]
  },
  {
   "cell_type": "code",
   "execution_count": null,
   "id": "9d3f2e7f-ad58-40a8-86e7-804de36c018d",
   "metadata": {},
   "outputs": [],
   "source": []
  },
  {
   "cell_type": "markdown",
   "id": "b3ab8e4e-b6ca-48c5-a631-e9ba017cf162",
   "metadata": {},
   "source": [
    "#### MODEL 3 (224, 224, 3)"
   ]
  },
  {
   "cell_type": "code",
   "execution_count": 35,
   "id": "483ef3d8-79bb-4577-8678-49385892f442",
   "metadata": {},
   "outputs": [],
   "source": [
    "model_path = 'train_w_model03E/wHC_1_1.h5'\n",
    "label_names = ['jaguar', 'no-jaguar']"
   ]
  },
  {
   "cell_type": "code",
   "execution_count": null,
   "id": "32699b95-1eeb-4295-9d96-595b0ac3a27d",
   "metadata": {},
   "outputs": [],
   "source": [
    "df_3_1 = predict_images_224(csv_path, model_path, label_names)"
   ]
  },
  {
   "cell_type": "code",
   "execution_count": 63,
   "id": "d3f5de13-cb5a-4ac4-b22d-df3c2a9f6277",
   "metadata": {},
   "outputs": [],
   "source": [
    "df_3_1.to_csv('preds_df/df_3_1.csv', index=False)"
   ]
  },
  {
   "cell_type": "code",
   "execution_count": 38,
   "id": "91b0c3f9-b09b-4650-af75-119edc50cfcd",
   "metadata": {},
   "outputs": [],
   "source": [
    "threshold = 0.7  # example threshold value\n",
    "\n",
    "tp = len(df_3_1.query(\"correct_label == 'jaguar' and predicted_label == 'jaguar' and prediction_probability >= @threshold\"))\n",
    "tn = len(df_3_1.query(\"correct_label == 'no-jaguar' and predicted_label == 'no-jaguar' and prediction_probability < @threshold\"))\n",
    "fp = len(df_3_1.query(\"correct_label == 'no-jaguar' and predicted_label == 'jaguar' and prediction_probability >= @threshold\"))\n",
    "fn = len(df_3_1.query(\"correct_label == 'jaguar' and predicted_label == 'no-jaguar' and prediction_probability >= @threshold\"))\n"
   ]
  },
  {
   "cell_type": "code",
   "execution_count": 39,
   "id": "c3247f46-1c81-44c7-9635-0d7e230ce193",
   "metadata": {},
   "outputs": [
    {
     "data": {
      "text/html": [
       "<div>\n",
       "<style scoped>\n",
       "    .dataframe tbody tr th:only-of-type {\n",
       "        vertical-align: middle;\n",
       "    }\n",
       "\n",
       "    .dataframe tbody tr th {\n",
       "        vertical-align: top;\n",
       "    }\n",
       "\n",
       "    .dataframe thead th {\n",
       "        text-align: right;\n",
       "    }\n",
       "</style>\n",
       "<table border=\"1\" class=\"dataframe\">\n",
       "  <thead>\n",
       "    <tr style=\"text-align: right;\">\n",
       "      <th></th>\n",
       "      <th>Model 3 (224x224)</th>\n",
       "    </tr>\n",
       "  </thead>\n",
       "  <tbody>\n",
       "    <tr>\n",
       "      <th>Accuracy</th>\n",
       "      <td>0.845316</td>\n",
       "    </tr>\n",
       "    <tr>\n",
       "      <th>Precision</th>\n",
       "      <td>0.845316</td>\n",
       "    </tr>\n",
       "    <tr>\n",
       "      <th>Recall</th>\n",
       "      <td>1.000000</td>\n",
       "    </tr>\n",
       "    <tr>\n",
       "      <th>F1 Score</th>\n",
       "      <td>0.916175</td>\n",
       "    </tr>\n",
       "  </tbody>\n",
       "</table>\n",
       "</div>"
      ],
      "text/plain": [
       "           Model 3 (224x224)\n",
       "Accuracy            0.845316\n",
       "Precision           0.845316\n",
       "Recall              1.000000\n",
       "F1 Score            0.916175"
      ]
     },
     "execution_count": 39,
     "metadata": {},
     "output_type": "execute_result"
    }
   ],
   "source": [
    "# Calculate the metrics\n",
    "precision, recall, f1_score, accuracy = calculate_metrics(tp, tn, fp, fn)\n",
    "\n",
    "# Create a dictionary with the metric values\n",
    "metrics_dict = {'Accuracy': accuracy, 'Precision': precision, 'Recall': recall, 'F1 Score': f1_score}\n",
    "\n",
    "# Convert the dictionary to a pandas dataframe\n",
    "metrics_3_1 = pd.DataFrame.from_dict(metrics_dict, orient='index', columns=['Model 3 (224x224)'])\n",
    "\n",
    "# Print the dataframe\n",
    "metrics_3_1"
   ]
  },
  {
   "cell_type": "code",
   "execution_count": 40,
   "id": "59c72d86-b804-4624-9ab2-83418d5924bb",
   "metadata": {},
   "outputs": [
    {
     "data": {
      "image/png": "[encoded data removed]",
      "text/plain": [
       "<Figure size 800x400 with 1 Axes>"
      ]
     },
     "metadata": {},
     "output_type": "display_data"
    }
   ],
   "source": [
    "sns.set_style('whitegrid')\n",
    "plt.figure(figsize=(8, 4))\n",
    "\n",
    "sns.histplot(data=df_3_1, x=df_3_1['prediction_probability'], hue='predicted_label', bins=20, kde=True)\n",
    "plt.xlabel('Prediction Probability')\n",
    "plt.ylabel('Count')\n",
    "plt.title('Distribution of Prediction Probabilities')\n",
    "\n",
    "plt.show()"
   ]
  },
  {
   "cell_type": "code",
   "execution_count": null,
   "id": "b231a16e-e275-4a11-9aba-76f594a7dfaf",
   "metadata": {},
   "outputs": [],
   "source": []
  },
  {
   "cell_type": "code",
   "execution_count": null,
   "id": "7321fd7e-0562-4449-ba0f-440a48137e59",
   "metadata": {},
   "outputs": [],
   "source": []
  },
  {
   "cell_type": "markdown",
   "id": "537601c1-22c2-49ea-a0a7-0631e8c160b0",
   "metadata": {},
   "source": [
    "## MODEL 3v2"
   ]
  },
  {
   "cell_type": "markdown",
   "id": "63434490-7b51-41ff-b1f8-12bc03975e02",
   "metadata": {},
   "source": [
    "#### MODEL 3v2 (128, 128, 3)"
   ]
  },
  {
   "cell_type": "code",
   "execution_count": 41,
   "id": "ccd902a4-1903-4580-b80a-163e2a9dcbf4",
   "metadata": {},
   "outputs": [],
   "source": [
    "model_path = 'train_w_model03v2/wHC_1.h5'\n",
    "label_names = ['jaguar', 'no-jaguar']"
   ]
  },
  {
   "cell_type": "code",
   "execution_count": null,
   "id": "71a1c791-4cf3-4374-8d07-9081c0f36112",
   "metadata": {},
   "outputs": [],
   "source": [
    "df_results = predict_images_128(csv_path, model_path, label_names)"
   ]
  },
  {
   "cell_type": "code",
   "execution_count": null,
   "id": "40ef06fd-160d-4361-be9f-67b2b224cb5e",
   "metadata": {},
   "outputs": [],
   "source": [
    "df_3v2 = df_results"
   ]
  },
  {
   "cell_type": "code",
   "execution_count": 64,
   "id": "7b65c399-eeb7-4c43-8ff7-61030292a475",
   "metadata": {},
   "outputs": [],
   "source": [
    "df_3v2.to_csv('preds_df/df_3v2.csv', index=False)"
   ]
  },
  {
   "cell_type": "code",
   "execution_count": 44,
   "id": "14c60240-b469-4c12-b348-456eec067572",
   "metadata": {},
   "outputs": [],
   "source": [
    "threshold = 0.7  # example threshold value\n",
    "\n",
    "tp = len(df_3v2.query(\"correct_label == 'jaguar' and predicted_label == 'jaguar' and prediction_probability >= @threshold\"))\n",
    "tn = len(df_3v2.query(\"correct_label == 'no-jaguar' and predicted_label == 'no-jaguar' and prediction_probability < @threshold\"))\n",
    "fp = len(df_3v2.query(\"correct_label == 'no-jaguar' and predicted_label == 'jaguar' and prediction_probability >= @threshold\"))\n",
    "fn = len(df_3v2.query(\"correct_label == 'jaguar' and predicted_label == 'no-jaguar' and prediction_probability >= @threshold\"))\n"
   ]
  },
  {
   "cell_type": "code",
   "execution_count": 45,
   "id": "e7db1b67-2943-490d-932f-573ac8ebefb7",
   "metadata": {},
   "outputs": [
    {
     "data": {
      "text/html": [
       "<div>\n",
       "<style scoped>\n",
       "    .dataframe tbody tr th:only-of-type {\n",
       "        vertical-align: middle;\n",
       "    }\n",
       "\n",
       "    .dataframe tbody tr th {\n",
       "        vertical-align: top;\n",
       "    }\n",
       "\n",
       "    .dataframe thead th {\n",
       "        text-align: right;\n",
       "    }\n",
       "</style>\n",
       "<table border=\"1\" class=\"dataframe\">\n",
       "  <thead>\n",
       "    <tr style=\"text-align: right;\">\n",
       "      <th></th>\n",
       "      <th>Model 3v2 (128x128)</th>\n",
       "    </tr>\n",
       "  </thead>\n",
       "  <tbody>\n",
       "    <tr>\n",
       "      <th>Accuracy</th>\n",
       "      <td>0.855792</td>\n",
       "    </tr>\n",
       "    <tr>\n",
       "      <th>Precision</th>\n",
       "      <td>0.940260</td>\n",
       "    </tr>\n",
       "    <tr>\n",
       "      <th>Recall</th>\n",
       "      <td>0.905000</td>\n",
       "    </tr>\n",
       "    <tr>\n",
       "      <th>F1 Score</th>\n",
       "      <td>0.922293</td>\n",
       "    </tr>\n",
       "  </tbody>\n",
       "</table>\n",
       "</div>"
      ],
      "text/plain": [
       "           Model 3v2 (128x128)\n",
       "Accuracy              0.855792\n",
       "Precision             0.940260\n",
       "Recall                0.905000\n",
       "F1 Score              0.922293"
      ]
     },
     "execution_count": 45,
     "metadata": {},
     "output_type": "execute_result"
    }
   ],
   "source": [
    "# Calculate the metrics\n",
    "precision, recall, f1_score, accuracy = calculate_metrics(tp, tn, fp, fn)\n",
    "\n",
    "# Create a dictionary with the metric values\n",
    "metrics_dict = {'Accuracy': accuracy, 'Precision': precision, 'Recall': recall, 'F1 Score': f1_score}\n",
    "\n",
    "# Convert the dictionary to a pandas dataframe\n",
    "metrics_3v2 = pd.DataFrame.from_dict(metrics_dict, orient='index', columns=['Model 3v2 (128x128)'])\n",
    "\n",
    "# Print the dataframe\n",
    "metrics_3v2"
   ]
  },
  {
   "cell_type": "code",
   "execution_count": 46,
   "id": "0332abe8-8d71-4a52-9273-119033ecab4b",
   "metadata": {},
   "outputs": [
    {
     "data": {
      "image/png": "[encoded data removed]",
      "text/plain": [
       "<Figure size 800x400 with 1 Axes>"
      ]
     },
     "metadata": {},
     "output_type": "display_data"
    }
   ],
   "source": [
    "sns.set_style('whitegrid')\n",
    "plt.figure(figsize=(8, 4))\n",
    "\n",
    "sns.histplot(data=df_3v2, x=df_3v2['prediction_probability'], hue='predicted_label', bins=20, kde=True)\n",
    "plt.xlabel('Prediction Probability')\n",
    "plt.ylabel('Count')\n",
    "plt.title('Distribution of Prediction Probabilities')\n",
    "\n",
    "plt.show()"
   ]
  },
  {
   "cell_type": "code",
   "execution_count": null,
   "id": "a51ede37-5716-449a-b664-9e80c4de07c1",
   "metadata": {},
   "outputs": [],
   "source": []
  },
  {
   "cell_type": "code",
   "execution_count": null,
   "id": "7a9c57af-bf79-4344-a51d-41bf1e6d5f49",
   "metadata": {},
   "outputs": [],
   "source": []
  },
  {
   "cell_type": "code",
   "execution_count": null,
   "id": "c0caf0bc-e832-48a7-9ec5-6829429e898e",
   "metadata": {},
   "outputs": [],
   "source": []
  },
  {
   "cell_type": "markdown",
   "id": "96edabf7-7ecf-4080-86b6-de74325dd2ec",
   "metadata": {},
   "source": [
    "#### MODEL 3v2 (224, 224, 3)"
   ]
  },
  {
   "cell_type": "code",
   "execution_count": 47,
   "id": "161baa89-431b-4f99-8344-20951d5a92d3",
   "metadata": {},
   "outputs": [],
   "source": [
    "model_path = 'train_w_model03v2/wHC_1_1.h5'\n",
    "label_names = ['jaguar', 'no-jaguar']"
   ]
  },
  {
   "cell_type": "code",
   "execution_count": null,
   "id": "6bf6f96e-ebac-44b2-8ac5-b78670cafcdb",
   "metadata": {},
   "outputs": [],
   "source": [
    "df_3v2_1 = predict_images_224(csv_path, model_path, label_names)"
   ]
  },
  {
   "cell_type": "code",
   "execution_count": 65,
   "id": "13b0b398-7654-4d7e-92cb-97134e57fd68",
   "metadata": {},
   "outputs": [],
   "source": [
    "df_3v2_1.to_csv('preds_df/df_3v2_1.csv', index=False)"
   ]
  },
  {
   "cell_type": "code",
   "execution_count": null,
   "id": "1e89bd22-e3e4-46ca-8951-bbb73f8d2d3f",
   "metadata": {},
   "outputs": [],
   "source": []
  },
  {
   "cell_type": "code",
   "execution_count": 50,
   "id": "97916918-8245-4584-9f15-c10f75097795",
   "metadata": {},
   "outputs": [],
   "source": [
    "threshold = 0.7  # example threshold value\n",
    "\n",
    "tp = len(df_3v2_1.query(\"correct_label == 'jaguar' and predicted_label == 'jaguar' and prediction_probability >= @threshold\"))\n",
    "tn = len(df_3v2_1.query(\"correct_label == 'no-jaguar' and predicted_label == 'no-jaguar' and prediction_probability < @threshold\"))\n",
    "fp = len(df_3v2_1.query(\"correct_label == 'no-jaguar' and predicted_label == 'jaguar' and prediction_probability >= @threshold\"))\n",
    "fn = len(df_3v2_1.query(\"correct_label == 'jaguar' and predicted_label == 'no-jaguar' and prediction_probability >= @threshold\"))\n"
   ]
  },
  {
   "cell_type": "code",
   "execution_count": 51,
   "id": "fc04a36f-b52b-4664-88f7-c39c19c0ea29",
   "metadata": {},
   "outputs": [
    {
     "data": {
      "text/html": [
       "<div>\n",
       "<style scoped>\n",
       "    .dataframe tbody tr th:only-of-type {\n",
       "        vertical-align: middle;\n",
       "    }\n",
       "\n",
       "    .dataframe tbody tr th {\n",
       "        vertical-align: top;\n",
       "    }\n",
       "\n",
       "    .dataframe thead th {\n",
       "        text-align: right;\n",
       "    }\n",
       "</style>\n",
       "<table border=\"1\" class=\"dataframe\">\n",
       "  <thead>\n",
       "    <tr style=\"text-align: right;\">\n",
       "      <th></th>\n",
       "      <th>Model 3v2 (224x224)</th>\n",
       "    </tr>\n",
       "  </thead>\n",
       "  <tbody>\n",
       "    <tr>\n",
       "      <th>Accuracy</th>\n",
       "      <td>0.883991</td>\n",
       "    </tr>\n",
       "    <tr>\n",
       "      <th>Precision</th>\n",
       "      <td>0.924757</td>\n",
       "    </tr>\n",
       "    <tr>\n",
       "      <th>Recall</th>\n",
       "      <td>0.952500</td>\n",
       "    </tr>\n",
       "    <tr>\n",
       "      <th>F1 Score</th>\n",
       "      <td>0.938424</td>\n",
       "    </tr>\n",
       "  </tbody>\n",
       "</table>\n",
       "</div>"
      ],
      "text/plain": [
       "           Model 3v2 (224x224)\n",
       "Accuracy              0.883991\n",
       "Precision             0.924757\n",
       "Recall                0.952500\n",
       "F1 Score              0.938424"
      ]
     },
     "execution_count": 51,
     "metadata": {},
     "output_type": "execute_result"
    }
   ],
   "source": [
    "# Calculate the metrics\n",
    "precision, recall, f1_score, accuracy = calculate_metrics(tp, tn, fp, fn)\n",
    "\n",
    "# Create a dictionary with the metric values\n",
    "metrics_dict = {'Accuracy': accuracy, 'Precision': precision, 'Recall': recall, 'F1 Score': f1_score}\n",
    "\n",
    "# Convert the dictionary to a pandas dataframe\n",
    "metrics_3v2_1 = pd.DataFrame.from_dict(metrics_dict, orient='index', columns=['Model 3v2 (224x224)'])\n",
    "\n",
    "# Print the dataframe\n",
    "metrics_3v2_1"
   ]
  },
  {
   "cell_type": "code",
   "execution_count": 52,
   "id": "c2bd517d-ae16-44e4-b537-403a37fc3585",
   "metadata": {},
   "outputs": [
    {
     "data": {
      "image/png": "[encoded data removed]",
      "text/plain": [
       "<Figure size 800x400 with 1 Axes>"
      ]
     },
     "metadata": {},
     "output_type": "display_data"
    }
   ],
   "source": [
    "sns.set_style('whitegrid')\n",
    "plt.figure(figsize=(8, 4))\n",
    "\n",
    "sns.histplot(data=df_3v2_1, x=df_3v2_1['prediction_probability'], hue='predicted_label', bins=20, kde=True)\n",
    "plt.xlabel('Prediction Probability')\n",
    "plt.ylabel('Count')\n",
    "plt.title('Distribution of Prediction Probabilities')\n",
    "\n",
    "plt.show()"
   ]
  },
  {
   "cell_type": "code",
   "execution_count": null,
   "id": "6e4d8cbc-2168-4d60-a935-a39905578c90",
   "metadata": {},
   "outputs": [],
   "source": []
  },
  {
   "cell_type": "code",
   "execution_count": null,
   "id": "f99fe846-7deb-4a65-bba2-d3fb67d2682f",
   "metadata": {},
   "outputs": [],
   "source": []
  },
  {
   "cell_type": "markdown",
   "id": "285d77c2-275c-4410-85af-8867a7ea51b3",
   "metadata": {},
   "source": [
    "## Final results"
   ]
  },
  {
   "cell_type": "code",
   "execution_count": 53,
   "id": "760a0b20-5149-4e9d-bc12-4dd53046bc09",
   "metadata": {},
   "outputs": [
    {
     "name": "stdout",
     "output_type": "stream",
     "text": [
      "                     Accuracy  Precision  Recall  F1 Score\n",
      "Model 1 (128x128)    0.356452   0.356452  1.0000  0.525565\n",
      "Model 1 (224x224)    0.392966   0.392966  1.0000  0.564215\n",
      "Model 2 (128x128)    0.500000   0.500000  1.0000  0.666667\n",
      "Model 2 (224x224)    0.500000   0.500000  1.0000  0.666667\n",
      "Model 3 (128x128)    0.759082   0.759082  1.0000  0.863043\n",
      "Model 3 (224x224)    0.845316   0.845316  1.0000  0.916175\n",
      "Model 3v2 (128x128)  0.855792   0.940260  0.9050  0.922293\n",
      "Model 3v2 (224x224)  0.883991   0.924757  0.9525  0.938424\n"
     ]
    }
   ],
   "source": [
    "# Create a list of dataframes\n",
    "dfs = [metrics_1, metrics_1_1, metrics_2, metrics_2_1, metrics_3, metrics_3_1, metrics_3v2, metrics_3v2_1]\n",
    "\n",
    "# Create a list of model names\n",
    "models = ['Model 1 (128x128)', 'Model 1 (224x224)', 'Model 2 (128x128)', 'Model 2 (224x224)', 'Model 3 (128x128)', 'Model 3 (224x224)', 'Model 3v2 (128x128)', 'Model 3v2 (224x224)']\n",
    "\n",
    "# Concatenate the dataframes along the columns axis, using the 'models' list as the keys\n",
    "df_concat = pd.concat(dfs, axis=1, keys=models)\n",
    "\n",
    "# Group the dataframe by the 'model' column and calculate the mean of the metrics\n",
    "df_grouped = df_concat.groupby(level=0, axis=1).mean()\n",
    "\n",
    "# Transpose the dataframe to have the 'model' column as the index\n",
    "df_metrics = df_grouped.T\n",
    "\n",
    "# Print the resulting dataframe\n",
    "print(df_metrics)\n"
   ]
  },
  {
   "cell_type": "code",
   "execution_count": 54,
   "id": "45975514-f574-41e2-abee-f2c6ea4e9854",
   "metadata": {},
   "outputs": [
    {
     "data": {
      "text/html": [
       "<div>\n",
       "<style scoped>\n",
       "    .dataframe tbody tr th:only-of-type {\n",
       "        vertical-align: middle;\n",
       "    }\n",
       "\n",
       "    .dataframe tbody tr th {\n",
       "        vertical-align: top;\n",
       "    }\n",
       "\n",
       "    .dataframe thead th {\n",
       "        text-align: right;\n",
       "    }\n",
       "</style>\n",
       "<table border=\"1\" class=\"dataframe\">\n",
       "  <thead>\n",
       "    <tr style=\"text-align: right;\">\n",
       "      <th></th>\n",
       "      <th>Accuracy</th>\n",
       "      <th>Precision</th>\n",
       "      <th>Recall</th>\n",
       "      <th>F1 Score</th>\n",
       "    </tr>\n",
       "  </thead>\n",
       "  <tbody>\n",
       "    <tr>\n",
       "      <th>Model 1 (128x128)</th>\n",
       "      <td>0.356452</td>\n",
       "      <td>0.356452</td>\n",
       "      <td>1.0000</td>\n",
       "      <td>0.525565</td>\n",
       "    </tr>\n",
       "    <tr>\n",
       "      <th>Model 1 (224x224)</th>\n",
       "      <td>0.392966</td>\n",
       "      <td>0.392966</td>\n",
       "      <td>1.0000</td>\n",
       "      <td>0.564215</td>\n",
       "    </tr>\n",
       "    <tr>\n",
       "      <th>Model 2 (128x128)</th>\n",
       "      <td>0.500000</td>\n",
       "      <td>0.500000</td>\n",
       "      <td>1.0000</td>\n",
       "      <td>0.666667</td>\n",
       "    </tr>\n",
       "    <tr>\n",
       "      <th>Model 2 (224x224)</th>\n",
       "      <td>0.500000</td>\n",
       "      <td>0.500000</td>\n",
       "      <td>1.0000</td>\n",
       "      <td>0.666667</td>\n",
       "    </tr>\n",
       "    <tr>\n",
       "      <th>Model 3 (128x128)</th>\n",
       "      <td>0.759082</td>\n",
       "      <td>0.759082</td>\n",
       "      <td>1.0000</td>\n",
       "      <td>0.863043</td>\n",
       "    </tr>\n",
       "    <tr>\n",
       "      <th>Model 3 (224x224)</th>\n",
       "      <td>0.845316</td>\n",
       "      <td>0.845316</td>\n",
       "      <td>1.0000</td>\n",
       "      <td>0.916175</td>\n",
       "    </tr>\n",
       "    <tr>\n",
       "      <th>Model 3v2 (128x128)</th>\n",
       "      <td>0.855792</td>\n",
       "      <td>0.940260</td>\n",
       "      <td>0.9050</td>\n",
       "      <td>0.922293</td>\n",
       "    </tr>\n",
       "    <tr>\n",
       "      <th>Model 3v2 (224x224)</th>\n",
       "      <td>0.883991</td>\n",
       "      <td>0.924757</td>\n",
       "      <td>0.9525</td>\n",
       "      <td>0.938424</td>\n",
       "    </tr>\n",
       "  </tbody>\n",
       "</table>\n",
       "</div>"
      ],
      "text/plain": [
       "                     Accuracy  Precision  Recall  F1 Score\n",
       "Model 1 (128x128)    0.356452   0.356452  1.0000  0.525565\n",
       "Model 1 (224x224)    0.392966   0.392966  1.0000  0.564215\n",
       "Model 2 (128x128)    0.500000   0.500000  1.0000  0.666667\n",
       "Model 2 (224x224)    0.500000   0.500000  1.0000  0.666667\n",
       "Model 3 (128x128)    0.759082   0.759082  1.0000  0.863043\n",
       "Model 3 (224x224)    0.845316   0.845316  1.0000  0.916175\n",
       "Model 3v2 (128x128)  0.855792   0.940260  0.9050  0.922293\n",
       "Model 3v2 (224x224)  0.883991   0.924757  0.9525  0.938424"
      ]
     },
     "execution_count": 54,
     "metadata": {},
     "output_type": "execute_result"
    }
   ],
   "source": [
    "df_metrics"
   ]
  },
  {
   "cell_type": "code",
   "execution_count": 55,
   "id": "e455c871-8c93-493f-ba64-779de3473a9f",
   "metadata": {},
   "outputs": [
    {
     "data": {
      "text/html": [
       "<div>\n",
       "<style scoped>\n",
       "    .dataframe tbody tr th:only-of-type {\n",
       "        vertical-align: middle;\n",
       "    }\n",
       "\n",
       "    .dataframe tbody tr th {\n",
       "        vertical-align: top;\n",
       "    }\n",
       "\n",
       "    .dataframe thead th {\n",
       "        text-align: right;\n",
       "    }\n",
       "</style>\n",
       "<table border=\"1\" class=\"dataframe\">\n",
       "  <thead>\n",
       "    <tr style=\"text-align: right;\">\n",
       "      <th></th>\n",
       "      <th>Accuracy</th>\n",
       "      <th>Precision</th>\n",
       "      <th>Recall</th>\n",
       "      <th>F1 Score</th>\n",
       "    </tr>\n",
       "  </thead>\n",
       "  <tbody>\n",
       "    <tr>\n",
       "      <th>Model 3v2 (224x224)</th>\n",
       "      <td>0.883991</td>\n",
       "      <td>0.924757</td>\n",
       "      <td>0.9525</td>\n",
       "      <td>0.938424</td>\n",
       "    </tr>\n",
       "    <tr>\n",
       "      <th>Model 3v2 (128x128)</th>\n",
       "      <td>0.855792</td>\n",
       "      <td>0.940260</td>\n",
       "      <td>0.9050</td>\n",
       "      <td>0.922293</td>\n",
       "    </tr>\n",
       "    <tr>\n",
       "      <th>Model 3 (224x224)</th>\n",
       "      <td>0.845316</td>\n",
       "      <td>0.845316</td>\n",
       "      <td>1.0000</td>\n",
       "      <td>0.916175</td>\n",
       "    </tr>\n",
       "    <tr>\n",
       "      <th>Model 3 (128x128)</th>\n",
       "      <td>0.759082</td>\n",
       "      <td>0.759082</td>\n",
       "      <td>1.0000</td>\n",
       "      <td>0.863043</td>\n",
       "    </tr>\n",
       "    <tr>\n",
       "      <th>Model 2 (128x128)</th>\n",
       "      <td>0.500000</td>\n",
       "      <td>0.500000</td>\n",
       "      <td>1.0000</td>\n",
       "      <td>0.666667</td>\n",
       "    </tr>\n",
       "    <tr>\n",
       "      <th>Model 2 (224x224)</th>\n",
       "      <td>0.500000</td>\n",
       "      <td>0.500000</td>\n",
       "      <td>1.0000</td>\n",
       "      <td>0.666667</td>\n",
       "    </tr>\n",
       "    <tr>\n",
       "      <th>Model 1 (224x224)</th>\n",
       "      <td>0.392966</td>\n",
       "      <td>0.392966</td>\n",
       "      <td>1.0000</td>\n",
       "      <td>0.564215</td>\n",
       "    </tr>\n",
       "    <tr>\n",
       "      <th>Model 1 (128x128)</th>\n",
       "      <td>0.356452</td>\n",
       "      <td>0.356452</td>\n",
       "      <td>1.0000</td>\n",
       "      <td>0.525565</td>\n",
       "    </tr>\n",
       "  </tbody>\n",
       "</table>\n",
       "</div>"
      ],
      "text/plain": [
       "                     Accuracy  Precision  Recall  F1 Score\n",
       "Model 3v2 (224x224)  0.883991   0.924757  0.9525  0.938424\n",
       "Model 3v2 (128x128)  0.855792   0.940260  0.9050  0.922293\n",
       "Model 3 (224x224)    0.845316   0.845316  1.0000  0.916175\n",
       "Model 3 (128x128)    0.759082   0.759082  1.0000  0.863043\n",
       "Model 2 (128x128)    0.500000   0.500000  1.0000  0.666667\n",
       "Model 2 (224x224)    0.500000   0.500000  1.0000  0.666667\n",
       "Model 1 (224x224)    0.392966   0.392966  1.0000  0.564215\n",
       "Model 1 (128x128)    0.356452   0.356452  1.0000  0.525565"
      ]
     },
     "execution_count": 55,
     "metadata": {},
     "output_type": "execute_result"
    }
   ],
   "source": [
    "sorted_metrics_df = df_metrics.sort_values(by='F1 Score', ascending=False)\n",
    "sorted_metrics_df"
   ]
  },
  {
   "cell_type": "code",
   "execution_count": 56,
   "id": "a7271a6c-4c5d-4bfc-8650-08bdb002be93",
   "metadata": {},
   "outputs": [],
   "source": [
    "sorted_metrics_df.to_csv('sorted_metrics_test.csv', index=True)"
   ]
  },
  {
   "cell_type": "code",
   "execution_count": 66,
   "id": "ed629b0b-0d27-461b-92b9-388c93881853",
   "metadata": {},
   "outputs": [
    {
     "name": "stdout",
     "output_type": "stream",
     "text": [
      "  adding: preds_df/ (stored 0%)\n",
      "  adding: preds_df/df_1.csv (deflated 92%)\n",
      "  adding: preds_df/df_1_1.csv (deflated 92%)\n",
      "  adding: preds_df/df_2.csv (deflated 93%)\n",
      "  adding: preds_df/df_2_1.csv (deflated 93%)\n",
      "  adding: preds_df/df_3.csv (deflated 94%)\n",
      "  adding: preds_df/df_3_1.csv (deflated 93%)\n",
      "  adding: preds_df/df_3v2.csv (deflated 94%)\n",
      "  adding: preds_df/df_3v2_1.csv (deflated 95%)\n"
     ]
    }
   ],
   "source": [
    "!zip -r preds_df.zip preds_df\n"
   ]
  },
  {
   "cell_type": "code",
   "execution_count": null,
   "id": "b8740e10-eef2-4aa5-9936-2cede7fcb3a0",
   "metadata": {},
   "outputs": [],
   "source": []
  }
 ],
 "metadata": {
  "kernelspec": {
   "display_name": "Python 3",
   "language": "python",
   "name": "python3"
  },
  "language_info": {
   "codemirror_mode": {
    "name": "ipython",
    "version": 3
   },
   "file_extension": ".py",
   "mimetype": "text/x-python",
   "name": "python",
   "nbconvert_exporter": "python",
   "pygments_lexer": "ipython3",
   "version": "3.10.4"
  }
 },
 "nbformat": 4,
 "nbformat_minor": 5
}
