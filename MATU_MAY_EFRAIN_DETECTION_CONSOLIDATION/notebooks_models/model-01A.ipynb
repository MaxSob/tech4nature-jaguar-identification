{
 "cells": [
  {
   "cell_type": "markdown",
   "id": "77141b86-21da-4670-b273-062aeb335371",
   "metadata": {},
   "source": [
    "# Jaguar_Cassification \n",
    "\n",
    "objective: the objective is to \n",
    "train a network to detect whether there is a jaguar or not \n",
    "\n",
    "\n",
    "\n",
    "the labels are two: \n",
    "jaguar or no-jaguar \n",
    "\n",
    "this notebook is based on the work \n",
    "https://github.com/MaxSob/ML_Notebooks/blob/main/Fashion%20MNIST%20in%20Keras.ipynb\n",
    "\n",
    "\n",
    "The network structure is described below\n",
    "\n",
    "\n"
   ]
  },
  {
   "cell_type": "code",
   "execution_count": null,
   "id": "fe8352a9-ff4c-4777-bde0-09290f51196f",
   "metadata": {},
   "outputs": [],
   "source": [
    "import tensorflow as tf\n",
    "tf.__version__"
   ]
  },
  {
   "cell_type": "code",
   "execution_count": 7,
   "id": "2dd0f271-39f9-465f-923a-3d46232ac97b",
   "metadata": {},
   "outputs": [
    {
     "name": "stderr",
     "output_type": "stream",
     "text": [
      "2023-04-14 05:58:12.827282: I tensorflow/core/platform/cpu_feature_guard.cc:193] This TensorFlow binary is optimized with oneAPI Deep Neural Network Library (oneDNN) to use the following CPU instructions in performance-critical operations:  AVX2 AVX512F AVX512_VNNI FMA\n",
      "To enable them in other operations, rebuild TensorFlow with the appropriate compiler flags.\n",
      "2023-04-14 05:58:12.978622: I tensorflow/core/util/port.cc:104] oneDNN custom operations are on. You may see slightly different numerical results due to floating-point round-off errors from different computation orders. To turn them off, set the environment variable `TF_ENABLE_ONEDNN_OPTS=0`.\n",
      "2023-04-14 05:58:12.983803: W tensorflow/compiler/xla/stream_executor/platform/default/dso_loader.cc:64] Could not load dynamic library 'libcudart.so.11.0'; dlerror: libcudart.so.11.0: cannot open shared object file: No such file or directory; LD_LIBRARY_PATH: /usr/local/cuda/lib64:/usr/local/cuda/extras/CUPTI/lib64:/usr/local/nvidia/lib:/usr/local/nvidia/lib64:/usr/lib/x86_64-linux-gnu/\n",
      "2023-04-14 05:58:12.983827: I tensorflow/compiler/xla/stream_executor/cuda/cudart_stub.cc:29] Ignore above cudart dlerror if you do not have a GPU set up on your machine.\n",
      "2023-04-14 05:58:13.639876: W tensorflow/compiler/xla/stream_executor/platform/default/dso_loader.cc:64] Could not load dynamic library 'libnvinfer.so.7'; dlerror: libnvinfer.so.7: cannot open shared object file: No such file or directory; LD_LIBRARY_PATH: /usr/local/cuda/lib64:/usr/local/cuda/extras/CUPTI/lib64:/usr/local/nvidia/lib:/usr/local/nvidia/lib64:/usr/lib/x86_64-linux-gnu/\n",
      "2023-04-14 05:58:13.639996: W tensorflow/compiler/xla/stream_executor/platform/default/dso_loader.cc:64] Could not load dynamic library 'libnvinfer_plugin.so.7'; dlerror: libnvinfer_plugin.so.7: cannot open shared object file: No such file or directory; LD_LIBRARY_PATH: /usr/local/cuda/lib64:/usr/local/cuda/extras/CUPTI/lib64:/usr/local/nvidia/lib:/usr/local/nvidia/lib64:/usr/lib/x86_64-linux-gnu/\n",
      "2023-04-14 05:58:13.640008: W tensorflow/compiler/tf2tensorrt/utils/py_utils.cc:38] TF-TRT Warning: Cannot dlopen some TensorRT libraries. If you would like to use Nvidia GPU with TensorRT, please make sure the missing libraries mentioned above are installed properly.\n"
     ]
    }
   ],
   "source": [
    "import matplotlib.pyplot as plt\n",
    "import numpy as np\n",
    "import os\n",
    "import PIL\n",
    "import tensorflow as tf\n",
    "\n",
    "from tensorflow import keras\n",
    "from tensorflow.keras import layers\n",
    "from tensorflow.keras.models import Sequential                  # advanced math library\n",
    "import matplotlib.pyplot as plt      # MATLAB like plotting routines\n",
    "import random                        # for generating random numbers\n",
    "\n",
    "from keras.datasets import fashion_mnist     # MNIST dataset is included in Keras\n",
    "from keras.models import Sequential  # Model type to be used\n",
    "\n",
    "from keras.layers.core import Dense, Dropout, Activation # Types of layers to be used in our model\n",
    "from keras.utils import np_utils     \n",
    "from keras.models import Sequential\n",
    "from keras.layers import Conv2D, MaxPooling2D\n",
    "from keras.layers import Activation, Dropout, Flatten, Dense\n",
    "\n",
    "from keras.preprocessing.image import ImageDataGenerator\n",
    "from keras.models import Sequential\n",
    "from keras.layers import Conv2D, MaxPooling2D\n",
    "from keras.layers import Activation, Dropout, Flatten, Dense\n",
    "from keras import backend as K\n",
    "import tensorflow as tf"
   ]
  },
  {
   "cell_type": "code",
   "execution_count": 9,
   "id": "431dc50f-7e18-43ab-a25f-3f256e0a8a04",
   "metadata": {},
   "outputs": [],
   "source": [
    "import imutils\n",
    "import os\n",
    "import cv2\n",
    "import datetime\n",
    "import numpy as np\n",
    "\n",
    "import matplotlib.pyplot as plt\n",
    "from sklearn.model_selection import train_test_split\n",
    "\n",
    "from tensorflow.keras.layers import Flatten\n",
    "from tensorflow.keras.layers import Dense\n",
    "from tensorflow.keras.layers import Input\n",
    "from tensorflow.keras.models import Model\n",
    "from tensorflow.keras.optimizers import Adam\n",
    "from tensorflow.keras.preprocessing.image import img_to_array\n",
    "from tensorflow.keras.preprocessing.image import load_img\n",
    "from tensorflow.keras.models import load_model\n",
    "from tensorflow.keras.applications import VGG16\n",
    "from tensorflow.keras.layers import Dropout\n",
    "from tensorflow.keras.utils import to_categorical\n",
    "from sklearn.preprocessing import LabelBinarizer\n"
   ]
  },
  {
   "cell_type": "markdown",
   "id": "4bd8030c-481a-4aed-89d0-80fddb777d26",
   "metadata": {},
   "source": [
    "## Sample data to balance the classes"
   ]
  },
  {
   "cell_type": "code",
   "execution_count": 68,
   "id": "dafcb559-e8d4-4df4-ace6-cc79d039828f",
   "metadata": {},
   "outputs": [
    {
     "name": "stdout",
     "output_type": "stream",
     "text": [
      "Sampled 400 images from ../test01/test/jaguar to ../test01/test/jaguar_sample\n",
      "Sampled 400 images from ../test01/test/no-jaguar to ../test01/test/no-jaguar_sample\n"
     ]
    }
   ],
   "source": [
    "import os\n",
    "import random\n",
    "import shutil\n",
    "\n",
    "# Source folders\n",
    "folder1 = '../test01/test/jaguar'\n",
    "folder2 = '../test01/test/no-jaguar'\n",
    "\n",
    "# Destination folders for sampled images\n",
    "sampled_folder1 = '../test01/test/jaguar_sample'\n",
    "sampled_folder2 = '../test01/test/no-jaguar_sample'\n",
    "\n",
    "# Number of images to sample\n",
    "num_images = 1400  \n",
    "\n",
    "# List files in folder1 and folder2\n",
    "files_folder1 = [file for file in os.listdir(folder1) if file.endswith('.jpg')]\n",
    "files_folder2 = [file for file in os.listdir(folder2) if file.endswith('.jpg')]\n",
    "\n",
    "# Randomly sample num_images from each folder\n",
    "sampled_files_folder1 = random.sample(files_folder1, num_images)\n",
    "sampled_files_folder2 = random.sample(files_folder2, num_images)\n",
    "\n",
    "# Copy sampled files to the destination folders\n",
    "for file in sampled_files_folder1:\n",
    "    src = os.path.join(folder1, file)\n",
    "    dst = os.path.join(sampled_folder1, file)\n",
    "    shutil.copy(src, dst)\n",
    "\n",
    "for file in sampled_files_folder2:\n",
    "    src = os.path.join(folder2, file)\n",
    "    dst = os.path.join(sampled_folder2, file)\n",
    "    shutil.copy(src, dst)\n",
    "\n",
    "print(f\"Sampled {num_images} images from {folder1} to {sampled_folder1}\")\n",
    "print(f\"Sampled {num_images} images from {folder2} to {sampled_folder2}\")\n"
   ]
  },
  {
   "cell_type": "markdown",
   "id": "3f1efcc3-a6ef-44c0-859a-e80b59ec735e",
   "metadata": {},
   "source": [
    "## Train begin"
   ]
  },
  {
   "cell_type": "code",
   "execution_count": 89,
   "id": "2c1d8c6a-f6b2-4bd0-9f9a-308e194e38bd",
   "metadata": {},
   "outputs": [],
   "source": [
    "# dimensions of our images.\n",
    "img_width, img_height = 224, 224\n",
    "\n",
    "train_data_dir = '../test01/train_sample/'\n",
    "validation_data_dir = '../test01/val/'\n",
    "test_data_dir = '../test01/test_sample/'\n",
    "#values to train the netwrok \n",
    "nb_train_samples = 1400\n",
    "nb_validation_samples = 330\n",
    "#epochs = 20\n",
    "batch_size = 16"
   ]
  },
  {
   "cell_type": "code",
   "execution_count": 90,
   "id": "7e56d6cd-213e-4f73-8e95-4ba7783fdb96",
   "metadata": {},
   "outputs": [],
   "source": [
    "if K.image_data_format() == 'channels_first':\n",
    "    input_shape = (3, img_width, img_height)\n",
    "else:\n",
    "    input_shape = (img_width, img_height, 3)"
   ]
  },
  {
   "cell_type": "code",
   "execution_count": 91,
   "id": "74c32996-5d78-454f-b771-1e4f3d6e1448",
   "metadata": {},
   "outputs": [],
   "source": [
    "from keras.preprocessing.image import ImageDataGenerator\n",
    "from keras.layers import Conv2D, MaxPooling2D, ZeroPadding2D, GlobalAveragePooling2D, Flatten,  BatchNormalization\n",
    "\n",
    "model = Sequential()                                 # Linear stacking of layers\n",
    "\n",
    "# Convolution Layer 1\n",
    "model.add(Conv2D(32, (3, 3), input_shape=(224,224,3))) # 32 different 3x3 kernels -- so 32 feature maps\n",
    "model.add(BatchNormalization(axis=-1))               # normalize each feature map before activation\n",
    "convLayer01 = Activation('relu')                     # activation\n",
    "model.add(convLayer01)\n",
    "\n",
    "# Convolution Layer 2\n",
    "model.add(Conv2D(32, (3, 3)))                        # 32 different 3x3 kernels -- so 32 feature maps\n",
    "model.add(BatchNormalization(axis=-1))               # normalize each feature map before activation\n",
    "model.add(Activation('relu'))                        # activation\n",
    "convLayer02 = MaxPooling2D(pool_size=(2,2))          # Pool the max values over a 2x2 kernel\n",
    "model.add(convLayer02)\n",
    "\n",
    "# Convolution Layer 3\n",
    "model.add(Conv2D(64,(3, 3)))                         # 64 different 3x3 kernels -- so 64 feature maps\n",
    "model.add(BatchNormalization(axis=-1))               # normalize each feature map before activation\n",
    "convLayer03 = Activation('relu')                     # activation\n",
    "model.add(convLayer03)\n",
    "\n",
    "# Convolution Layer 4\n",
    "model.add(Conv2D(64, (3, 3)))                        # 64 different 3x3 kernels -- so 64 feature maps\n",
    "model.add(BatchNormalization(axis=-1))               # normalize each feature map before activation\n",
    "model.add(Activation('relu'))                        # activation\n",
    "convLayer04 = MaxPooling2D(pool_size=(2,2))          # Pool the max values over a 2x2 kernel\n",
    "model.add(convLayer04)\n",
    "model.add(Flatten())                                 # Flatten final 4x4x64 output matrix into a 1024-length vector\n",
    "\n",
    "# Fully Connected Layer 5\n",
    "model.add(Dense(128))                                # 512 FCN nodes\n",
    "model.add(BatchNormalization())                      # normalization\n",
    "model.add(Activation('relu'))                        # activation\n",
    "\n",
    "# Fully Connected Layer 6                       \n",
    "model.add(Dropout(0.5))                              # 20% dropout of randomly selected nodes\n",
    "model.add(Dense(1))                                 # final 10 FCN nodes\n",
    "model.add(Activation('sigmoid'))    "
   ]
  },
  {
   "cell_type": "code",
   "execution_count": 92,
   "id": "24e8e36a-d968-42a8-aa4c-5c72f8dba9df",
   "metadata": {},
   "outputs": [],
   "source": [
    "INIT_LR = 1e-4\n",
    "opt = Adam(INIT_LR)\n",
    "\n",
    "model.compile(loss='binary_crossentropy',\n",
    "              optimizer='rmsprop',\n",
    "              metrics=['accuracy','Recall', 'Precision', 'FalsePositives', 'TruePositives', 'FalseNegatives'])"
   ]
  },
  {
   "cell_type": "code",
   "execution_count": 93,
   "id": "bc0652f7-0ad5-49a0-af4b-60f3b597a493",
   "metadata": {},
   "outputs": [],
   "source": [
    "# this is the augmentation configuration we will use for training\n",
    "train_datagen = ImageDataGenerator(\n",
    "    rescale=1. / 255,\n",
    "    shear_range=0.2,\n",
    "    zoom_range=0.2,\n",
    "    horizontal_flip=True)"
   ]
  },
  {
   "cell_type": "code",
   "execution_count": 94,
   "id": "ed49e8f2-49a5-4000-a1de-1098f56822aa",
   "metadata": {},
   "outputs": [],
   "source": [
    "# this is the augmentation configuration we will use for testing:\n",
    "# only rescaling\n",
    "test_datagen = ImageDataGenerator(rescale=1. / 255)"
   ]
  },
  {
   "cell_type": "code",
   "execution_count": 95,
   "id": "c0ca84e8-1c59-4e5b-bf7b-b80eed9d7125",
   "metadata": {},
   "outputs": [
    {
     "name": "stdout",
     "output_type": "stream",
     "text": [
      "Found 2800 images belonging to 2 classes.\n"
     ]
    }
   ],
   "source": [
    "#loading the data \n",
    "train_generator = train_datagen.flow_from_directory(\n",
    "    train_data_dir,\n",
    "    #color_mode=\"grayscale\",\n",
    "    target_size=(img_width, img_height),\n",
    "    batch_size=batch_size,\n",
    "    class_mode='binary')"
   ]
  },
  {
   "cell_type": "code",
   "execution_count": 96,
   "id": "31c4d32b-8441-44d1-9556-5772bcbd1d4f",
   "metadata": {},
   "outputs": [
    {
     "name": "stdout",
     "output_type": "stream",
     "text": [
      "Found 1156 images belonging to 2 classes.\n"
     ]
    }
   ],
   "source": [
    "validation_generator = test_datagen.flow_from_directory(\n",
    "    validation_data_dir,\n",
    "    #color_mode=\"grayscale\",\n",
    "    target_size=(img_width, img_height),\n",
    "    batch_size=batch_size,\n",
    "    class_mode='binary')"
   ]
  },
  {
   "cell_type": "code",
   "execution_count": 97,
   "id": "d1c4da91-e24c-41bc-848a-cb201f734745",
   "metadata": {},
   "outputs": [
    {
     "name": "stdout",
     "output_type": "stream",
     "text": [
      "Found 800 images belonging to 2 classes.\n"
     ]
    }
   ],
   "source": [
    "test_generator = test_datagen.flow_from_directory(\n",
    "    test_data_dir,\n",
    "    #color_mode=\"grayscale\",\n",
    "    target_size=(img_width, img_height),\n",
    "    batch_size=batch_size,\n",
    "    class_mode='binary')"
   ]
  },
  {
   "cell_type": "code",
   "execution_count": 98,
   "id": "7ba4d070-985b-4bc0-b10b-50279bf3325d",
   "metadata": {},
   "outputs": [
    {
     "name": "stdout",
     "output_type": "stream",
     "text": [
      "Model: \"sequential_6\"\n",
      "_________________________________________________________________\n",
      " Layer (type)                Output Shape              Param #   \n",
      "=================================================================\n",
      " conv2d_24 (Conv2D)          (None, 222, 222, 32)      896       \n",
      "                                                                 \n",
      " batch_normalization_30 (Bat  (None, 222, 222, 32)     128       \n",
      " chNormalization)                                                \n",
      "                                                                 \n",
      " activation_36 (Activation)  (None, 222, 222, 32)      0         \n",
      "                                                                 \n",
      " conv2d_25 (Conv2D)          (None, 220, 220, 32)      9248      \n",
      "                                                                 \n",
      " batch_normalization_31 (Bat  (None, 220, 220, 32)     128       \n",
      " chNormalization)                                                \n",
      "                                                                 \n",
      " activation_37 (Activation)  (None, 220, 220, 32)      0         \n",
      "                                                                 \n",
      " max_pooling2d_12 (MaxPoolin  (None, 110, 110, 32)     0         \n",
      " g2D)                                                            \n",
      "                                                                 \n",
      " conv2d_26 (Conv2D)          (None, 108, 108, 64)      18496     \n",
      "                                                                 \n",
      " batch_normalization_32 (Bat  (None, 108, 108, 64)     256       \n",
      " chNormalization)                                                \n",
      "                                                                 \n",
      " activation_38 (Activation)  (None, 108, 108, 64)      0         \n",
      "                                                                 \n",
      " conv2d_27 (Conv2D)          (None, 106, 106, 64)      36928     \n",
      "                                                                 \n",
      " batch_normalization_33 (Bat  (None, 106, 106, 64)     256       \n",
      " chNormalization)                                                \n",
      "                                                                 \n",
      " activation_39 (Activation)  (None, 106, 106, 64)      0         \n",
      "                                                                 \n",
      " max_pooling2d_13 (MaxPoolin  (None, 53, 53, 64)       0         \n",
      " g2D)                                                            \n",
      "                                                                 \n",
      " flatten_6 (Flatten)         (None, 179776)            0         \n",
      "                                                                 \n",
      " dense_12 (Dense)            (None, 128)               23011456  \n",
      "                                                                 \n",
      " batch_normalization_34 (Bat  (None, 128)              512       \n",
      " chNormalization)                                                \n",
      "                                                                 \n",
      " activation_40 (Activation)  (None, 128)               0         \n",
      "                                                                 \n",
      " dropout_6 (Dropout)         (None, 128)               0         \n",
      "                                                                 \n",
      " dense_13 (Dense)            (None, 1)                 129       \n",
      "                                                                 \n",
      " activation_41 (Activation)  (None, 1)                 0         \n",
      "                                                                 \n",
      "=================================================================\n",
      "Total params: 23,078,433\n",
      "Trainable params: 23,077,793\n",
      "Non-trainable params: 640\n",
      "_________________________________________________________________\n"
     ]
    }
   ],
   "source": [
    "model.summary()"
   ]
  },
  {
   "cell_type": "code",
   "execution_count": 101,
   "id": "c482a752-f3dd-4e1a-90ac-355c94559d33",
   "metadata": {},
   "outputs": [
    {
     "name": "stdout",
     "output_type": "stream",
     "text": [
      "Epoch 1/100\n",
      "100/100 [==============================] - 68s 676ms/step - loss: 0.5449 - accuracy: 0.7456 - recall: 0.7790 - precision: 0.7267 - false_positives: 232.0000 - true_positives: 617.0000 - false_negatives: 175.0000 - val_loss: 0.5921 - val_accuracy: 0.7197 - val_recall: 0.4239 - val_precision: 0.5201 - val_false_positives: 131.0000 - val_true_positives: 142.0000 - val_false_negatives: 193.0000\n",
      "Epoch 2/100\n",
      "100/100 [==============================] - 67s 668ms/step - loss: 0.4859 - accuracy: 0.7869 - recall: 0.8335 - precision: 0.7575 - false_positives: 210.0000 - true_positives: 656.0000 - false_negatives: 131.0000 - val_loss: 0.5983 - val_accuracy: 0.7768 - val_recall: 0.6866 - val_precision: 0.6005 - val_false_positives: 153.0000 - val_true_positives: 230.0000 - val_false_negatives: 105.0000\n",
      "Epoch 3/100\n",
      "100/100 [==============================] - 67s 668ms/step - loss: 0.4055 - accuracy: 0.8219 - recall: 0.8631 - precision: 0.7937 - false_positives: 177.0000 - true_positives: 681.0000 - false_negatives: 108.0000 - val_loss: 0.4960 - val_accuracy: 0.7344 - val_recall: 0.1284 - val_precision: 0.7414 - val_false_positives: 15.0000 - val_true_positives: 43.0000 - val_false_negatives: 292.0000\n",
      "Epoch 4/100\n",
      "100/100 [==============================] - 67s 668ms/step - loss: 0.4092 - accuracy: 0.8112 - recall: 0.8610 - precision: 0.7851 - false_positives: 190.0000 - true_positives: 694.0000 - false_negatives: 112.0000 - val_loss: 0.4577 - val_accuracy: 0.7604 - val_recall: 0.8716 - val_precision: 0.5551 - val_false_positives: 234.0000 - val_true_positives: 292.0000 - val_false_negatives: 43.0000\n",
      "Epoch 5/100\n",
      "100/100 [==============================] - 68s 682ms/step - loss: 0.3900 - accuracy: 0.8425 - recall: 0.9037 - precision: 0.8107 - false_positives: 173.0000 - true_positives: 741.0000 - false_negatives: 79.0000 - val_loss: 0.3255 - val_accuracy: 0.8391 - val_recall: 0.8030 - val_precision: 0.6915 - val_false_positives: 120.0000 - val_true_positives: 269.0000 - val_false_negatives: 66.0000\n",
      "Epoch 6/100\n",
      "100/100 [==============================] - 69s 689ms/step - loss: 0.3902 - accuracy: 0.8175 - recall: 0.8820 - precision: 0.7774 - false_positives: 199.0000 - true_positives: 695.0000 - false_negatives: 93.0000 - val_loss: 0.4336 - val_accuracy: 0.7993 - val_recall: 0.9403 - val_precision: 0.5977 - val_false_positives: 212.0000 - val_true_positives: 315.0000 - val_false_negatives: 20.0000\n",
      "Epoch 7/100\n",
      "100/100 [==============================] - 68s 674ms/step - loss: 0.3510 - accuracy: 0.8512 - recall: 0.8883 - precision: 0.8209 - false_positives: 151.0000 - true_positives: 692.0000 - false_negatives: 87.0000 - val_loss: 0.4555 - val_accuracy: 0.7829 - val_recall: 0.9582 - val_precision: 0.5753 - val_false_positives: 237.0000 - val_true_positives: 321.0000 - val_false_negatives: 14.0000\n",
      "Epoch 8/100\n",
      "100/100 [==============================] - 70s 692ms/step - loss: 0.3590 - accuracy: 0.8512 - recall: 0.8855 - precision: 0.8347 - false_positives: 144.0000 - true_positives: 727.0000 - false_negatives: 94.0000 - val_loss: 0.6124 - val_accuracy: 0.7933 - val_recall: 0.9552 - val_precision: 0.5882 - val_false_positives: 224.0000 - val_true_positives: 320.0000 - val_false_negatives: 15.0000\n",
      "Epoch 9/100\n",
      "100/100 [==============================] - 70s 697ms/step - loss: 0.3167 - accuracy: 0.8619 - recall: 0.9169 - precision: 0.8213 - false_positives: 156.0000 - true_positives: 717.0000 - false_negatives: 65.0000 - val_loss: 0.3600 - val_accuracy: 0.8348 - val_recall: 0.9493 - val_precision: 0.6463 - val_false_positives: 174.0000 - val_true_positives: 318.0000 - val_false_negatives: 17.0000\n",
      "Epoch 10/100\n",
      "100/100 [==============================] - 68s 681ms/step - loss: 0.3122 - accuracy: 0.8656 - recall: 0.9084 - precision: 0.8360 - false_positives: 142.0000 - true_positives: 724.0000 - false_negatives: 73.0000 - val_loss: 0.8852 - val_accuracy: 0.7578 - val_recall: 0.9701 - val_precision: 0.5462 - val_false_positives: 270.0000 - val_true_positives: 325.0000 - val_false_negatives: 10.0000\n",
      "Epoch 11/100\n",
      "100/100 [==============================] - 69s 691ms/step - loss: 0.3315 - accuracy: 0.8650 - recall: 0.8932 - precision: 0.8469 - false_positives: 130.0000 - true_positives: 719.0000 - false_negatives: 86.0000 - val_loss: 0.3917 - val_accuracy: 0.8123 - val_recall: 0.9493 - val_precision: 0.6139 - val_false_positives: 200.0000 - val_true_positives: 318.0000 - val_false_negatives: 17.0000\n",
      "Epoch 12/100\n",
      "100/100 [==============================] - 70s 700ms/step - loss: 0.3178 - accuracy: 0.8662 - recall: 0.9072 - precision: 0.8378 - false_positives: 140.0000 - true_positives: 723.0000 - false_negatives: 74.0000 - val_loss: 0.3102 - val_accuracy: 0.8694 - val_recall: 0.8806 - val_precision: 0.7266 - val_false_positives: 111.0000 - val_true_positives: 295.0000 - val_false_negatives: 40.0000\n",
      "Epoch 13/100\n",
      "100/100 [==============================] - 70s 702ms/step - loss: 0.3073 - accuracy: 0.8687 - recall: 0.8993 - precision: 0.8512 - false_positives: 128.0000 - true_positives: 732.0000 - false_negatives: 82.0000 - val_loss: 0.3267 - val_accuracy: 0.8616 - val_recall: 0.9224 - val_precision: 0.6975 - val_false_positives: 134.0000 - val_true_positives: 309.0000 - val_false_negatives: 26.0000\n",
      "Epoch 14/100\n",
      "100/100 [==============================] - 69s 688ms/step - loss: 0.3043 - accuracy: 0.8725 - recall: 0.9001 - precision: 0.8507 - false_positives: 125.0000 - true_positives: 712.0000 - false_negatives: 79.0000 - val_loss: 0.5999 - val_accuracy: 0.7708 - val_recall: 0.9493 - val_precision: 0.5618 - val_false_positives: 248.0000 - val_true_positives: 318.0000 - val_false_negatives: 17.0000\n",
      "Epoch 15/100\n",
      "100/100 [==============================] - 68s 681ms/step - loss: 0.2770 - accuracy: 0.8838 - recall: 0.9241 - precision: 0.8530 - false_positives: 126.0000 - true_positives: 731.0000 - false_negatives: 60.0000 - val_loss: 0.5367 - val_accuracy: 0.8071 - val_recall: 0.9761 - val_precision: 0.6033 - val_false_positives: 215.0000 - val_true_positives: 327.0000 - val_false_negatives: 8.0000\n",
      "Epoch 16/100\n",
      "100/100 [==============================] - 67s 669ms/step - loss: 0.2697 - accuracy: 0.8850 - recall: 0.9229 - precision: 0.8558 - false_positives: 123.0000 - true_positives: 730.0000 - false_negatives: 61.0000 - val_loss: 0.5649 - val_accuracy: 0.8218 - val_recall: 0.9731 - val_precision: 0.6233 - val_false_positives: 197.0000 - val_true_positives: 326.0000 - val_false_negatives: 9.0000\n",
      "Epoch 17/100\n",
      "100/100 [==============================] - 69s 683ms/step - loss: 0.2643 - accuracy: 0.8925 - recall: 0.9113 - precision: 0.8810 - false_positives: 100.0000 - true_positives: 740.0000 - false_negatives: 72.0000 - val_loss: 0.3813 - val_accuracy: 0.8452 - val_recall: 0.9493 - val_precision: 0.6625 - val_false_positives: 162.0000 - val_true_positives: 318.0000 - val_false_negatives: 17.0000\n",
      "Epoch 18/100\n",
      "100/100 [==============================] - 68s 680ms/step - loss: 0.2759 - accuracy: 0.8856 - recall: 0.9146 - precision: 0.8609 - false_positives: 116.0000 - true_positives: 718.0000 - false_negatives: 67.0000 - val_loss: 0.3695 - val_accuracy: 0.8702 - val_recall: 0.7940 - val_precision: 0.7666 - val_false_positives: 81.0000 - val_true_positives: 266.0000 - val_false_negatives: 69.0000\n",
      "Epoch 19/100\n",
      "100/100 [==============================] - 68s 678ms/step - loss: 0.2450 - accuracy: 0.8969 - recall: 0.9309 - precision: 0.8707 - false_positives: 110.0000 - true_positives: 741.0000 - false_negatives: 55.0000 - val_loss: 0.3628 - val_accuracy: 0.8625 - val_recall: 0.8925 - val_precision: 0.7085 - val_false_positives: 123.0000 - val_true_positives: 299.0000 - val_false_negatives: 36.0000\n",
      "Epoch 20/100\n",
      "100/100 [==============================] - 67s 668ms/step - loss: 0.2523 - accuracy: 0.9006 - recall: 0.9237 - precision: 0.8829 - false_positives: 98.0000 - true_positives: 739.0000 - false_negatives: 61.0000 - val_loss: 0.2619 - val_accuracy: 0.9005 - val_recall: 0.9164 - val_precision: 0.7792 - val_false_positives: 87.0000 - val_true_positives: 307.0000 - val_false_negatives: 28.0000\n",
      "Epoch 21/100\n",
      "100/100 [==============================] - 70s 696ms/step - loss: 0.2519 - accuracy: 0.8988 - recall: 0.9306 - precision: 0.8732 - false_positives: 107.0000 - true_positives: 737.0000 - false_negatives: 55.0000 - val_loss: 0.4349 - val_accuracy: 0.8296 - val_recall: 0.9433 - val_precision: 0.6397 - val_false_positives: 178.0000 - val_true_positives: 316.0000 - val_false_negatives: 19.0000\n",
      "Epoch 22/100\n",
      "100/100 [==============================] - 68s 678ms/step - loss: 0.2477 - accuracy: 0.9025 - recall: 0.9288 - precision: 0.8826 - false_positives: 99.0000 - true_positives: 744.0000 - false_negatives: 57.0000 - val_loss: 0.6259 - val_accuracy: 0.7941 - val_recall: 0.9254 - val_precision: 0.5927 - val_false_positives: 213.0000 - val_true_positives: 310.0000 - val_false_negatives: 25.0000\n",
      "Epoch 23/100\n",
      "100/100 [==============================] - 68s 682ms/step - loss: 0.2497 - accuracy: 0.8975 - recall: 0.9175 - precision: 0.8768 - false_positives: 100.0000 - true_positives: 712.0000 - false_negatives: 64.0000 - val_loss: 0.3216 - val_accuracy: 0.8754 - val_recall: 0.9493 - val_precision: 0.7146 - val_false_positives: 127.0000 - val_true_positives: 318.0000 - val_false_negatives: 17.0000\n",
      "Epoch 24/100\n",
      "100/100 [==============================] - 67s 668ms/step - loss: 0.2321 - accuracy: 0.9112 - recall: 0.9302 - precision: 0.8966 - false_positives: 86.0000 - true_positives: 746.0000 - false_negatives: 56.0000 - val_loss: 0.4098 - val_accuracy: 0.8642 - val_recall: 0.8896 - val_precision: 0.7129 - val_false_positives: 120.0000 - val_true_positives: 298.0000 - val_false_negatives: 37.0000\n",
      "Epoch 25/100\n",
      "100/100 [==============================] - 68s 678ms/step - loss: 0.2215 - accuracy: 0.9050 - recall: 0.9270 - precision: 0.8869 - false_positives: 94.0000 - true_positives: 737.0000 - false_negatives: 58.0000 - val_loss: 0.6386 - val_accuracy: 0.8339 - val_recall: 0.5403 - val_precision: 0.8265 - val_false_positives: 38.0000 - val_true_positives: 181.0000 - val_false_negatives: 154.0000\n",
      "Epoch 26/100\n",
      "100/100 [==============================] - 68s 679ms/step - loss: 0.2472 - accuracy: 0.9019 - recall: 0.9181 - precision: 0.8879 - false_positives: 92.0000 - true_positives: 729.0000 - false_negatives: 65.0000 - val_loss: 0.3757 - val_accuracy: 0.8668 - val_recall: 0.9761 - val_precision: 0.6913 - val_false_positives: 146.0000 - val_true_positives: 327.0000 - val_false_negatives: 8.0000\n",
      "Epoch 27/100\n",
      "100/100 [==============================] - 67s 670ms/step - loss: 0.2271 - accuracy: 0.9119 - recall: 0.9342 - precision: 0.8952 - false_positives: 88.0000 - true_positives: 752.0000 - false_negatives: 53.0000 - val_loss: 0.3917 - val_accuracy: 0.8478 - val_recall: 0.9701 - val_precision: 0.6619 - val_false_positives: 166.0000 - val_true_positives: 325.0000 - val_false_negatives: 10.0000\n",
      "Epoch 28/100\n",
      "100/100 [==============================] - 70s 699ms/step - loss: 0.2472 - accuracy: 0.9013 - recall: 0.9210 - precision: 0.8907 - false_positives: 93.0000 - true_positives: 758.0000 - false_negatives: 65.0000 - val_loss: 2.4003 - val_accuracy: 0.5761 - val_recall: 0.9881 - val_precision: 0.4051 - val_false_positives: 486.0000 - val_true_positives: 331.0000 - val_false_negatives: 4.0000\n",
      "Epoch 29/100\n",
      "100/100 [==============================] - 70s 696ms/step - loss: 0.2460 - accuracy: 0.9081 - recall: 0.9214 - precision: 0.9004 - false_positives: 83.0000 - true_positives: 750.0000 - false_negatives: 64.0000 - val_loss: 0.2646 - val_accuracy: 0.8997 - val_recall: 0.9612 - val_precision: 0.7576 - val_false_positives: 103.0000 - val_true_positives: 322.0000 - val_false_negatives: 13.0000\n",
      "Epoch 30/100\n",
      "100/100 [==============================] - 68s 681ms/step - loss: 0.2290 - accuracy: 0.9075 - recall: 0.9267 - precision: 0.8906 - false_positives: 90.0000 - true_positives: 733.0000 - false_negatives: 58.0000 - val_loss: 0.2991 - val_accuracy: 0.8971 - val_recall: 0.9164 - val_precision: 0.7714 - val_false_positives: 91.0000 - val_true_positives: 307.0000 - val_false_negatives: 28.0000\n",
      "Epoch 31/100\n",
      "100/100 [==============================] - 67s 671ms/step - loss: 0.2086 - accuracy: 0.9112 - recall: 0.9236 - precision: 0.9036 - false_positives: 80.0000 - true_positives: 750.0000 - false_negatives: 62.0000 - val_loss: 0.3415 - val_accuracy: 0.8867 - val_recall: 0.9075 - val_precision: 0.7525 - val_false_positives: 100.0000 - val_true_positives: 304.0000 - val_false_negatives: 31.0000\n",
      "Epoch 32/100\n",
      "100/100 [==============================] - 68s 676ms/step - loss: 0.2295 - accuracy: 0.9056 - recall: 0.9246 - precision: 0.8873 - false_positives: 92.0000 - true_positives: 724.0000 - false_negatives: 59.0000 - val_loss: 0.2514 - val_accuracy: 0.9144 - val_recall: 0.9522 - val_precision: 0.7935 - val_false_positives: 83.0000 - val_true_positives: 319.0000 - val_false_negatives: 16.0000\n",
      "Epoch 33/100\n",
      "100/100 [==============================] - 68s 677ms/step - loss: 0.2041 - accuracy: 0.9169 - recall: 0.9366 - precision: 0.9018 - false_positives: 82.0000 - true_positives: 753.0000 - false_negatives: 51.0000 - val_loss: 0.5053 - val_accuracy: 0.8218 - val_recall: 0.9343 - val_precision: 0.6298 - val_false_positives: 184.0000 - val_true_positives: 313.0000 - val_false_negatives: 22.0000\n",
      "Epoch 34/100\n",
      "100/100 [==============================] - 68s 680ms/step - loss: 0.1894 - accuracy: 0.9319 - recall: 0.9422 - precision: 0.9198 - false_positives: 64.0000 - true_positives: 734.0000 - false_negatives: 45.0000 - val_loss: 0.6017 - val_accuracy: 0.8080 - val_recall: 0.9672 - val_precision: 0.6056 - val_false_positives: 211.0000 - val_true_positives: 324.0000 - val_false_negatives: 11.0000\n",
      "Epoch 35/100\n",
      "100/100 [==============================] - 70s 696ms/step - loss: 0.2042 - accuracy: 0.9175 - recall: 0.9337 - precision: 0.9044 - false_positives: 79.0000 - true_positives: 747.0000 - false_negatives: 53.0000 - val_loss: 0.5079 - val_accuracy: 0.8062 - val_recall: 0.9761 - val_precision: 0.6022 - val_false_positives: 216.0000 - val_true_positives: 327.0000 - val_false_negatives: 8.0000\n",
      "Epoch 36/100\n",
      "100/100 [==============================] - 69s 685ms/step - loss: 0.2039 - accuracy: 0.9237 - recall: 0.9369 - precision: 0.9089 - false_positives: 73.0000 - true_positives: 728.0000 - false_negatives: 49.0000 - val_loss: 0.2880 - val_accuracy: 0.8901 - val_recall: 0.9463 - val_precision: 0.7441 - val_false_positives: 109.0000 - val_true_positives: 317.0000 - val_false_negatives: 18.0000\n",
      "Epoch 37/100\n",
      "100/100 [==============================] - 69s 692ms/step - loss: 0.1735 - accuracy: 0.9425 - recall: 0.9585 - precision: 0.9282 - false_positives: 59.0000 - true_positives: 763.0000 - false_negatives: 33.0000 - val_loss: 0.2123 - val_accuracy: 0.9230 - val_recall: 0.8687 - val_precision: 0.8661 - val_false_positives: 45.0000 - val_true_positives: 291.0000 - val_false_negatives: 44.0000\n",
      "Epoch 38/100\n",
      "100/100 [==============================] - 70s 705ms/step - loss: 0.2092 - accuracy: 0.9244 - recall: 0.9382 - precision: 0.9145 - false_positives: 71.0000 - true_positives: 759.0000 - false_negatives: 50.0000 - val_loss: 0.3523 - val_accuracy: 0.8858 - val_recall: 0.9791 - val_precision: 0.7241 - val_false_positives: 125.0000 - val_true_positives: 328.0000 - val_false_negatives: 7.0000\n",
      "Epoch 39/100\n",
      "100/100 [==============================] - 69s 691ms/step - loss: 0.2071 - accuracy: 0.9212 - recall: 0.9435 - precision: 0.9028 - false_positives: 81.0000 - true_positives: 752.0000 - false_negatives: 45.0000 - val_loss: 0.2668 - val_accuracy: 0.9109 - val_recall: 0.9552 - val_precision: 0.7843 - val_false_positives: 88.0000 - val_true_positives: 320.0000 - val_false_negatives: 15.0000\n",
      "Epoch 40/100\n",
      "100/100 [==============================] - 69s 686ms/step - loss: 0.1999 - accuracy: 0.9306 - recall: 0.9388 - precision: 0.9237 - false_positives: 62.0000 - true_positives: 751.0000 - false_negatives: 49.0000 - val_loss: 0.2518 - val_accuracy: 0.9152 - val_recall: 0.9642 - val_precision: 0.7897 - val_false_positives: 86.0000 - val_true_positives: 323.0000 - val_false_negatives: 12.0000\n",
      "Epoch 41/100\n",
      "100/100 [==============================] - 70s 699ms/step - loss: 0.2043 - accuracy: 0.9225 - recall: 0.9374 - precision: 0.9101 - false_positives: 74.0000 - true_positives: 749.0000 - false_negatives: 50.0000 - val_loss: 0.2592 - val_accuracy: 0.9100 - val_recall: 0.9463 - val_precision: 0.7866 - val_false_positives: 86.0000 - val_true_positives: 317.0000 - val_false_negatives: 18.0000\n",
      "Epoch 42/100\n",
      "100/100 [==============================] - 68s 684ms/step - loss: 0.1930 - accuracy: 0.9206 - recall: 0.9314 - precision: 0.9094 - false_positives: 73.0000 - true_positives: 733.0000 - false_negatives: 54.0000 - val_loss: 0.3010 - val_accuracy: 0.8858 - val_recall: 0.9612 - val_precision: 0.7302 - val_false_positives: 119.0000 - val_true_positives: 322.0000 - val_false_negatives: 13.0000\n",
      "Epoch 43/100\n",
      "100/100 [==============================] - 68s 682ms/step - loss: 0.1765 - accuracy: 0.9325 - recall: 0.9430 - precision: 0.9247 - false_positives: 62.0000 - true_positives: 761.0000 - false_negatives: 46.0000 - val_loss: 0.5117 - val_accuracy: 0.8149 - val_recall: 0.9701 - val_precision: 0.6144 - val_false_positives: 204.0000 - val_true_positives: 325.0000 - val_false_negatives: 10.0000\n",
      "Epoch 44/100\n",
      "100/100 [==============================] - 69s 690ms/step - loss: 0.1754 - accuracy: 0.9381 - recall: 0.9555 - precision: 0.9246 - false_positives: 63.0000 - true_positives: 773.0000 - false_negatives: 36.0000 - val_loss: 0.3442 - val_accuracy: 0.8772 - val_recall: 0.9761 - val_precision: 0.7093 - val_false_positives: 134.0000 - val_true_positives: 327.0000 - val_false_negatives: 8.0000\n",
      "Epoch 45/100\n",
      "100/100 [==============================] - 69s 685ms/step - loss: 0.1812 - accuracy: 0.9262 - recall: 0.9479 - precision: 0.9095 - false_positives: 76.0000 - true_positives: 764.0000 - false_negatives: 42.0000 - val_loss: 0.2811 - val_accuracy: 0.8997 - val_recall: 0.9015 - val_precision: 0.7844 - val_false_positives: 83.0000 - val_true_positives: 302.0000 - val_false_negatives: 33.0000\n",
      "Epoch 46/100\n",
      "100/100 [==============================] - 69s 686ms/step - loss: 0.1618 - accuracy: 0.9375 - recall: 0.9482 - precision: 0.9271 - false_positives: 59.0000 - true_positives: 750.0000 - false_negatives: 41.0000 - val_loss: 0.2022 - val_accuracy: 0.9221 - val_recall: 0.8955 - val_precision: 0.8451 - val_false_positives: 55.0000 - val_true_positives: 300.0000 - val_false_negatives: 35.0000\n",
      "Epoch 47/100\n",
      "100/100 [==============================] - 70s 699ms/step - loss: 0.1566 - accuracy: 0.9413 - recall: 0.9489 - precision: 0.9375 - false_positives: 52.0000 - true_positives: 780.0000 - false_negatives: 42.0000 - val_loss: 0.2392 - val_accuracy: 0.9161 - val_recall: 0.9642 - val_precision: 0.7917 - val_false_positives: 85.0000 - val_true_positives: 323.0000 - val_false_negatives: 12.0000\n",
      "Epoch 48/100\n",
      "100/100 [==============================] - 69s 687ms/step - loss: 0.1713 - accuracy: 0.9262 - recall: 0.9325 - precision: 0.9210 - false_positives: 64.0000 - true_positives: 746.0000 - false_negatives: 54.0000 - val_loss: 0.2610 - val_accuracy: 0.9014 - val_recall: 0.9433 - val_precision: 0.7689 - val_false_positives: 95.0000 - val_true_positives: 316.0000 - val_false_negatives: 19.0000\n",
      "Epoch 49/100\n",
      "100/100 [==============================] - 67s 669ms/step - loss: 0.1751 - accuracy: 0.9337 - recall: 0.9537 - precision: 0.9170 - false_positives: 69.0000 - true_positives: 762.0000 - false_negatives: 37.0000 - val_loss: 0.3624 - val_accuracy: 0.8780 - val_recall: 0.9791 - val_precision: 0.7100 - val_false_positives: 134.0000 - val_true_positives: 328.0000 - val_false_negatives: 7.0000\n",
      "Epoch 50/100\n",
      "100/100 [==============================] - 69s 690ms/step - loss: 0.1695 - accuracy: 0.9419 - recall: 0.9535 - precision: 0.9313 - false_positives: 56.0000 - true_positives: 759.0000 - false_negatives: 37.0000 - val_loss: 0.2396 - val_accuracy: 0.9126 - val_recall: 0.8955 - val_precision: 0.8197 - val_false_positives: 66.0000 - val_true_positives: 300.0000 - val_false_negatives: 35.0000\n",
      "Epoch 51/100\n",
      "100/100 [==============================] - 68s 682ms/step - loss: 0.1426 - accuracy: 0.9450 - recall: 0.9579 - precision: 0.9348 - false_positives: 54.0000 - true_positives: 774.0000 - false_negatives: 34.0000 - val_loss: 0.2251 - val_accuracy: 0.9213 - val_recall: 0.9194 - val_precision: 0.8280 - val_false_positives: 64.0000 - val_true_positives: 308.0000 - val_false_negatives: 27.0000\n",
      "Epoch 52/100\n",
      "100/100 [==============================] - 70s 701ms/step - loss: 0.1645 - accuracy: 0.9356 - recall: 0.9478 - precision: 0.9231 - false_positives: 62.0000 - true_positives: 744.0000 - false_negatives: 41.0000 - val_loss: 0.4482 - val_accuracy: 0.8737 - val_recall: 0.9672 - val_precision: 0.7059 - val_false_positives: 135.0000 - val_true_positives: 324.0000 - val_false_negatives: 11.0000\n",
      "Epoch 53/100\n",
      "100/100 [==============================] - 70s 702ms/step - loss: 0.1579 - accuracy: 0.9356 - recall: 0.9509 - precision: 0.9189 - false_positives: 65.0000 - true_positives: 736.0000 - false_negatives: 38.0000 - val_loss: 0.1779 - val_accuracy: 0.9299 - val_recall: 0.9134 - val_precision: 0.8547 - val_false_positives: 52.0000 - val_true_positives: 306.0000 - val_false_negatives: 29.0000\n",
      "Epoch 54/100\n",
      "100/100 [==============================] - 69s 687ms/step - loss: 0.1775 - accuracy: 0.9350 - recall: 0.9411 - precision: 0.9320 - false_positives: 56.0000 - true_positives: 767.0000 - false_negatives: 48.0000 - val_loss: 0.4612 - val_accuracy: 0.8625 - val_recall: 0.9373 - val_precision: 0.6947 - val_false_positives: 138.0000 - val_true_positives: 314.0000 - val_false_negatives: 21.0000\n",
      "Epoch 55/100\n",
      "100/100 [==============================] - 69s 693ms/step - loss: 0.1575 - accuracy: 0.9362 - recall: 0.9431 - precision: 0.9290 - false_positives: 57.0000 - true_positives: 746.0000 - false_negatives: 45.0000 - val_loss: 0.5975 - val_accuracy: 0.8348 - val_recall: 0.9701 - val_precision: 0.6423 - val_false_positives: 181.0000 - val_true_positives: 325.0000 - val_false_negatives: 10.0000\n",
      "Epoch 56/100\n",
      "100/100 [==============================] - 68s 676ms/step - loss: 0.1516 - accuracy: 0.9375 - recall: 0.9437 - precision: 0.9345 - false_positives: 54.0000 - true_positives: 771.0000 - false_negatives: 46.0000 - val_loss: 0.3046 - val_accuracy: 0.8997 - val_recall: 0.9254 - val_precision: 0.7731 - val_false_positives: 91.0000 - val_true_positives: 310.0000 - val_false_negatives: 25.0000\n",
      "Epoch 57/100\n",
      "100/100 [==============================] - 69s 690ms/step - loss: 0.1455 - accuracy: 0.9381 - recall: 0.9497 - precision: 0.9276 - false_positives: 59.0000 - true_positives: 756.0000 - false_negatives: 40.0000 - val_loss: 0.2329 - val_accuracy: 0.9247 - val_recall: 0.9373 - val_precision: 0.8263 - val_false_positives: 66.0000 - val_true_positives: 314.0000 - val_false_negatives: 21.0000\n",
      "Epoch 58/100\n",
      "100/100 [==============================] - 68s 677ms/step - loss: 0.1918 - accuracy: 0.9275 - recall: 0.9296 - precision: 0.9249 - false_positives: 60.0000 - true_positives: 739.0000 - false_negatives: 56.0000 - val_loss: 0.2409 - val_accuracy: 0.9230 - val_recall: 0.9313 - val_precision: 0.8254 - val_false_positives: 66.0000 - val_true_positives: 312.0000 - val_false_negatives: 23.0000\n",
      "Epoch 59/100\n",
      "100/100 [==============================] - 67s 672ms/step - loss: 0.1511 - accuracy: 0.9400 - recall: 0.9564 - precision: 0.9263 - false_positives: 61.0000 - true_positives: 767.0000 - false_negatives: 35.0000 - val_loss: 0.5253 - val_accuracy: 0.8149 - val_recall: 0.9851 - val_precision: 0.6122 - val_false_positives: 209.0000 - val_true_positives: 330.0000 - val_false_negatives: 5.0000\n",
      "Epoch 60/100\n",
      "100/100 [==============================] - 70s 693ms/step - loss: 0.1787 - accuracy: 0.9300 - recall: 0.9385 - precision: 0.9223 - false_positives: 63.0000 - true_positives: 748.0000 - false_negatives: 49.0000 - val_loss: 0.5200 - val_accuracy: 0.8157 - val_recall: 0.9851 - val_precision: 0.6134 - val_false_positives: 208.0000 - val_true_positives: 330.0000 - val_false_negatives: 5.0000\n",
      "Epoch 61/100\n",
      "100/100 [==============================] - 68s 681ms/step - loss: 0.1531 - accuracy: 0.9431 - recall: 0.9545 - precision: 0.9322 - false_positives: 55.0000 - true_positives: 756.0000 - false_negatives: 36.0000 - val_loss: 1.0304 - val_accuracy: 0.6704 - val_recall: 0.9791 - val_precision: 0.4672 - val_false_positives: 374.0000 - val_true_positives: 328.0000 - val_false_negatives: 7.0000\n",
      "Epoch 62/100\n",
      "100/100 [==============================] - 68s 684ms/step - loss: 0.1268 - accuracy: 0.9481 - recall: 0.9562 - precision: 0.9381 - false_positives: 49.0000 - true_positives: 742.0000 - false_negatives: 34.0000 - val_loss: 0.4993 - val_accuracy: 0.8564 - val_recall: 0.9881 - val_precision: 0.6714 - val_false_positives: 162.0000 - val_true_positives: 331.0000 - val_false_negatives: 4.0000\n",
      "Epoch 63/100\n",
      "100/100 [==============================] - 69s 689ms/step - loss: 0.1881 - accuracy: 0.9325 - recall: 0.9323 - precision: 0.9323 - false_positives: 54.0000 - true_positives: 744.0000 - false_negatives: 54.0000 - val_loss: 0.2785 - val_accuracy: 0.9256 - val_recall: 0.9612 - val_precision: 0.8152 - val_false_positives: 73.0000 - val_true_positives: 322.0000 - val_false_negatives: 13.0000\n",
      "Epoch 64/100\n",
      "100/100 [==============================] - 67s 672ms/step - loss: 0.1412 - accuracy: 0.9450 - recall: 0.9615 - precision: 0.9315 - false_positives: 57.0000 - true_positives: 775.0000 - false_negatives: 31.0000 - val_loss: 0.3252 - val_accuracy: 0.9022 - val_recall: 0.9672 - val_precision: 0.7606 - val_false_positives: 102.0000 - val_true_positives: 324.0000 - val_false_negatives: 11.0000\n",
      "Epoch 65/100\n",
      "100/100 [==============================] - 67s 672ms/step - loss: 0.1388 - accuracy: 0.9438 - recall: 0.9516 - precision: 0.9377 - false_positives: 51.0000 - true_positives: 767.0000 - false_negatives: 39.0000 - val_loss: 0.3700 - val_accuracy: 0.8979 - val_recall: 0.9373 - val_precision: 0.7640 - val_false_positives: 97.0000 - val_true_positives: 314.0000 - val_false_negatives: 21.0000\n",
      "Epoch 66/100\n",
      "100/100 [==============================] - 68s 676ms/step - loss: 0.1440 - accuracy: 0.9438 - recall: 0.9605 - precision: 0.9307 - false_positives: 58.0000 - true_positives: 779.0000 - false_negatives: 32.0000 - val_loss: 0.2307 - val_accuracy: 0.9161 - val_recall: 0.9313 - val_precision: 0.8083 - val_false_positives: 74.0000 - val_true_positives: 312.0000 - val_false_negatives: 23.0000\n",
      "Epoch 67/100\n",
      "100/100 [==============================] - 67s 673ms/step - loss: 0.1256 - accuracy: 0.9531 - recall: 0.9608 - precision: 0.9452 - false_positives: 44.0000 - true_positives: 759.0000 - false_negatives: 31.0000 - val_loss: 0.2603 - val_accuracy: 0.9066 - val_recall: 0.9582 - val_precision: 0.7735 - val_false_positives: 94.0000 - val_true_positives: 321.0000 - val_false_negatives: 14.0000\n",
      "Epoch 68/100\n",
      "100/100 [==============================] - 69s 687ms/step - loss: 0.1588 - accuracy: 0.9375 - recall: 0.9423 - precision: 0.9354 - false_positives: 53.0000 - true_positives: 767.0000 - false_negatives: 47.0000 - val_loss: 0.2329 - val_accuracy: 0.9247 - val_recall: 0.9284 - val_precision: 0.8316 - val_false_positives: 63.0000 - val_true_positives: 311.0000 - val_false_negatives: 24.0000\n",
      "Epoch 69/100\n",
      "100/100 [==============================] - 68s 682ms/step - loss: 0.1401 - accuracy: 0.9438 - recall: 0.9580 - precision: 0.9327 - false_positives: 56.0000 - true_positives: 776.0000 - false_negatives: 34.0000 - val_loss: 0.2743 - val_accuracy: 0.9161 - val_recall: 0.9701 - val_precision: 0.7888 - val_false_positives: 87.0000 - val_true_positives: 325.0000 - val_false_negatives: 10.0000\n",
      "Epoch 70/100\n",
      "100/100 [==============================] - 68s 684ms/step - loss: 0.1546 - accuracy: 0.9469 - recall: 0.9586 - precision: 0.9364 - false_positives: 52.0000 - true_positives: 765.0000 - false_negatives: 33.0000 - val_loss: 0.2307 - val_accuracy: 0.9265 - val_recall: 0.9284 - val_precision: 0.8360 - val_false_positives: 61.0000 - val_true_positives: 311.0000 - val_false_negatives: 24.0000\n",
      "Epoch 71/100\n",
      "100/100 [==============================] - 67s 672ms/step - loss: 0.1425 - accuracy: 0.9419 - recall: 0.9467 - precision: 0.9385 - false_positives: 50.0000 - true_positives: 763.0000 - false_negatives: 43.0000 - val_loss: 0.3017 - val_accuracy: 0.9144 - val_recall: 0.9582 - val_precision: 0.7906 - val_false_positives: 85.0000 - val_true_positives: 321.0000 - val_false_negatives: 14.0000\n",
      "Epoch 72/100\n",
      "100/100 [==============================] - 69s 684ms/step - loss: 0.1409 - accuracy: 0.9506 - recall: 0.9532 - precision: 0.9472 - false_positives: 42.0000 - true_positives: 753.0000 - false_negatives: 37.0000 - val_loss: 1.2666 - val_accuracy: 0.7561 - val_recall: 0.9970 - val_precision: 0.5431 - val_false_positives: 281.0000 - val_true_positives: 334.0000 - val_false_negatives: 1.0000\n",
      "Epoch 73/100\n",
      "100/100 [==============================] - 68s 683ms/step - loss: 0.1477 - accuracy: 0.9463 - recall: 0.9485 - precision: 0.9461 - false_positives: 44.0000 - true_positives: 773.0000 - false_negatives: 42.0000 - val_loss: 0.3908 - val_accuracy: 0.9031 - val_recall: 0.9642 - val_precision: 0.7636 - val_false_positives: 100.0000 - val_true_positives: 323.0000 - val_false_negatives: 12.0000\n",
      "Epoch 74/100\n",
      "100/100 [==============================] - 69s 687ms/step - loss: 0.1748 - accuracy: 0.9438 - recall: 0.9493 - precision: 0.9400 - false_positives: 49.0000 - true_positives: 767.0000 - false_negatives: 41.0000 - val_loss: 0.3371 - val_accuracy: 0.9057 - val_recall: 0.8806 - val_precision: 0.8104 - val_false_positives: 69.0000 - val_true_positives: 295.0000 - val_false_negatives: 40.0000\n",
      "Epoch 75/100\n",
      "100/100 [==============================] - 68s 683ms/step - loss: 0.1076 - accuracy: 0.9619 - recall: 0.9714 - precision: 0.9535 - false_positives: 38.0000 - true_positives: 780.0000 - false_negatives: 23.0000 - val_loss: 0.6873 - val_accuracy: 0.7734 - val_recall: 0.9910 - val_precision: 0.5618 - val_false_positives: 259.0000 - val_true_positives: 332.0000 - val_false_negatives: 3.0000\n",
      "Epoch 76/100\n",
      "100/100 [==============================] - 71s 704ms/step - loss: 0.1573 - accuracy: 0.9381 - recall: 0.9470 - precision: 0.9320 - false_positives: 56.0000 - true_positives: 768.0000 - false_negatives: 43.0000 - val_loss: 0.2792 - val_accuracy: 0.9074 - val_recall: 0.9761 - val_precision: 0.7676 - val_false_positives: 99.0000 - val_true_positives: 327.0000 - val_false_negatives: 8.0000\n",
      "Epoch 77/100\n",
      "100/100 [==============================] - 69s 688ms/step - loss: 0.1382 - accuracy: 0.9475 - recall: 0.9606 - precision: 0.9345 - false_positives: 53.0000 - true_positives: 756.0000 - false_negatives: 31.0000 - val_loss: 0.2577 - val_accuracy: 0.9118 - val_recall: 0.9254 - val_precision: 0.8010 - val_false_positives: 77.0000 - val_true_positives: 310.0000 - val_false_negatives: 25.0000\n",
      "Epoch 78/100\n",
      "100/100 [==============================] - 69s 688ms/step - loss: 0.1331 - accuracy: 0.9513 - recall: 0.9557 - precision: 0.9461 - false_positives: 43.0000 - true_positives: 755.0000 - false_negatives: 35.0000 - val_loss: 0.3574 - val_accuracy: 0.8988 - val_recall: 0.9642 - val_precision: 0.7547 - val_false_positives: 105.0000 - val_true_positives: 323.0000 - val_false_negatives: 12.0000\n",
      "Epoch 79/100\n",
      "100/100 [==============================] - 68s 678ms/step - loss: 0.1581 - accuracy: 0.9431 - recall: 0.9526 - precision: 0.9377 - false_positives: 52.0000 - true_positives: 783.0000 - false_negatives: 39.0000 - val_loss: 0.2958 - val_accuracy: 0.9282 - val_recall: 0.9612 - val_precision: 0.8214 - val_false_positives: 70.0000 - val_true_positives: 322.0000 - val_false_negatives: 13.0000\n",
      "Epoch 80/100\n",
      "100/100 [==============================] - 69s 688ms/step - loss: 0.1421 - accuracy: 0.9481 - recall: 0.9619 - precision: 0.9377 - false_positives: 52.0000 - true_positives: 783.0000 - false_negatives: 31.0000 - val_loss: 0.3919 - val_accuracy: 0.9005 - val_recall: 0.9791 - val_precision: 0.7523 - val_false_positives: 108.0000 - val_true_positives: 328.0000 - val_false_negatives: 7.0000\n",
      "Epoch 81/100\n",
      "100/100 [==============================] - 68s 678ms/step - loss: 0.1302 - accuracy: 0.9550 - recall: 0.9625 - precision: 0.9483 - false_positives: 42.0000 - true_positives: 771.0000 - false_negatives: 30.0000 - val_loss: 0.2547 - val_accuracy: 0.9187 - val_recall: 0.9552 - val_precision: 0.8020 - val_false_positives: 79.0000 - val_true_positives: 320.0000 - val_false_negatives: 15.0000\n",
      "Epoch 82/100\n",
      "100/100 [==============================] - 69s 685ms/step - loss: 0.1406 - accuracy: 0.9463 - recall: 0.9531 - precision: 0.9360 - false_positives: 50.0000 - true_positives: 731.0000 - false_negatives: 36.0000 - val_loss: 0.1814 - val_accuracy: 0.9282 - val_recall: 0.9254 - val_precision: 0.8424 - val_false_positives: 58.0000 - val_true_positives: 310.0000 - val_false_negatives: 25.0000\n",
      "Epoch 83/100\n",
      "100/100 [==============================] - 69s 685ms/step - loss: 0.1345 - accuracy: 0.9500 - recall: 0.9530 - precision: 0.9483 - false_positives: 42.0000 - true_positives: 771.0000 - false_negatives: 38.0000 - val_loss: 0.4757 - val_accuracy: 0.8789 - val_recall: 0.9791 - val_precision: 0.7115 - val_false_positives: 133.0000 - val_true_positives: 328.0000 - val_false_negatives: 7.0000\n",
      "Epoch 84/100\n",
      "100/100 [==============================] - 68s 679ms/step - loss: 0.1252 - accuracy: 0.9488 - recall: 0.9639 - precision: 0.9359 - false_positives: 53.0000 - true_positives: 774.0000 - false_negatives: 29.0000 - val_loss: 0.4090 - val_accuracy: 0.8694 - val_recall: 0.9194 - val_precision: 0.7130 - val_false_positives: 124.0000 - val_true_positives: 308.0000 - val_false_negatives: 27.0000\n",
      "Epoch 85/100\n",
      "100/100 [==============================] - 68s 681ms/step - loss: 0.1452 - accuracy: 0.9444 - recall: 0.9611 - precision: 0.9327 - false_positives: 57.0000 - true_positives: 790.0000 - false_negatives: 32.0000 - val_loss: 0.2853 - val_accuracy: 0.9213 - val_recall: 0.9433 - val_precision: 0.8144 - val_false_positives: 72.0000 - val_true_positives: 316.0000 - val_false_negatives: 19.0000\n",
      "Epoch 86/100\n",
      "100/100 [==============================] - 69s 691ms/step - loss: 0.1413 - accuracy: 0.9494 - recall: 0.9566 - precision: 0.9437 - false_positives: 46.0000 - true_positives: 771.0000 - false_negatives: 35.0000 - val_loss: 0.2693 - val_accuracy: 0.9221 - val_recall: 0.9761 - val_precision: 0.7995 - val_false_positives: 82.0000 - val_true_positives: 327.0000 - val_false_negatives: 8.0000\n",
      "Epoch 87/100\n",
      "100/100 [==============================] - 70s 698ms/step - loss: 0.1431 - accuracy: 0.9450 - recall: 0.9492 - precision: 0.9422 - false_positives: 47.0000 - true_positives: 766.0000 - false_negatives: 41.0000 - val_loss: 0.5250 - val_accuracy: 0.8893 - val_recall: 0.9582 - val_precision: 0.7379 - val_false_positives: 114.0000 - val_true_positives: 321.0000 - val_false_negatives: 14.0000\n",
      "Epoch 88/100\n",
      "100/100 [==============================] - 68s 684ms/step - loss: 0.1366 - accuracy: 0.9556 - recall: 0.9556 - precision: 0.9567 - false_positives: 35.0000 - true_positives: 774.0000 - false_negatives: 36.0000 - val_loss: 0.4432 - val_accuracy: 0.8953 - val_recall: 0.9821 - val_precision: 0.7410 - val_false_positives: 115.0000 - val_true_positives: 329.0000 - val_false_negatives: 6.0000\n",
      "Epoch 89/100\n",
      "100/100 [==============================] - 67s 674ms/step - loss: 0.1215 - accuracy: 0.9550 - recall: 0.9689 - precision: 0.9432 - false_positives: 47.0000 - true_positives: 780.0000 - false_negatives: 25.0000 - val_loss: 0.8036 - val_accuracy: 0.8175 - val_recall: 0.9851 - val_precision: 0.6157 - val_false_positives: 206.0000 - val_true_positives: 330.0000 - val_false_negatives: 5.0000\n",
      "Epoch 90/100\n",
      "100/100 [==============================] - 68s 675ms/step - loss: 0.1125 - accuracy: 0.9556 - recall: 0.9628 - precision: 0.9498 - false_positives: 41.0000 - true_positives: 776.0000 - false_negatives: 30.0000 - val_loss: 0.3156 - val_accuracy: 0.9291 - val_recall: 0.9582 - val_precision: 0.8252 - val_false_positives: 68.0000 - val_true_positives: 321.0000 - val_false_negatives: 14.0000\n",
      "Epoch 91/100\n",
      "100/100 [==============================] - 68s 683ms/step - loss: 0.1256 - accuracy: 0.9600 - recall: 0.9685 - precision: 0.9517 - false_positives: 39.0000 - true_positives: 768.0000 - false_negatives: 25.0000 - val_loss: 0.4537 - val_accuracy: 0.8936 - val_recall: 0.9672 - val_precision: 0.7431 - val_false_positives: 112.0000 - val_true_positives: 324.0000 - val_false_negatives: 11.0000\n",
      "Epoch 92/100\n",
      "100/100 [==============================] - 68s 682ms/step - loss: 0.1257 - accuracy: 0.9600 - recall: 0.9590 - precision: 0.9614 - false_positives: 31.0000 - true_positives: 772.0000 - false_negatives: 33.0000 - val_loss: 0.3194 - val_accuracy: 0.9230 - val_recall: 0.9731 - val_precision: 0.8030 - val_false_positives: 80.0000 - val_true_positives: 326.0000 - val_false_negatives: 9.0000\n",
      "Epoch 93/100\n",
      "100/100 [==============================] - 69s 693ms/step - loss: 0.1270 - accuracy: 0.9538 - recall: 0.9678 - precision: 0.9421 - false_positives: 48.0000 - true_positives: 781.0000 - false_negatives: 26.0000 - val_loss: 0.3010 - val_accuracy: 0.9265 - val_recall: 0.9224 - val_precision: 0.8397 - val_false_positives: 59.0000 - val_true_positives: 309.0000 - val_false_negatives: 26.0000\n",
      "Epoch 94/100\n",
      "100/100 [==============================] - 69s 691ms/step - loss: 0.1334 - accuracy: 0.9475 - recall: 0.9535 - precision: 0.9443 - false_positives: 46.0000 - true_positives: 780.0000 - false_negatives: 38.0000 - val_loss: 0.6023 - val_accuracy: 0.9048 - val_recall: 0.9791 - val_precision: 0.7610 - val_false_positives: 103.0000 - val_true_positives: 328.0000 - val_false_negatives: 7.0000\n",
      "Epoch 95/100\n",
      "100/100 [==============================] - 68s 678ms/step - loss: 0.1204 - accuracy: 0.9525 - recall: 0.9624 - precision: 0.9435 - false_positives: 46.0000 - true_positives: 768.0000 - false_negatives: 30.0000 - val_loss: 0.3825 - val_accuracy: 0.9040 - val_recall: 0.9791 - val_precision: 0.7593 - val_false_positives: 104.0000 - val_true_positives: 328.0000 - val_false_negatives: 7.0000\n",
      "Epoch 96/100\n",
      "100/100 [==============================] - 69s 690ms/step - loss: 0.0943 - accuracy: 0.9669 - recall: 0.9790 - precision: 0.9566 - false_positives: 36.0000 - true_positives: 793.0000 - false_negatives: 17.0000 - val_loss: 0.2133 - val_accuracy: 0.9299 - val_recall: 0.9433 - val_precision: 0.8360 - val_false_positives: 62.0000 - val_true_positives: 316.0000 - val_false_negatives: 19.0000\n",
      "Epoch 97/100\n",
      "100/100 [==============================] - 68s 677ms/step - loss: 0.1259 - accuracy: 0.9581 - recall: 0.9674 - precision: 0.9525 - false_positives: 40.0000 - true_positives: 802.0000 - false_negatives: 27.0000 - val_loss: 0.3761 - val_accuracy: 0.9040 - val_recall: 0.9851 - val_precision: 0.7569 - val_false_positives: 106.0000 - val_true_positives: 330.0000 - val_false_negatives: 5.0000\n",
      "Epoch 98/100\n",
      "100/100 [==============================] - 69s 691ms/step - loss: 0.1077 - accuracy: 0.9538 - recall: 0.9662 - precision: 0.9426 - false_positives: 47.0000 - true_positives: 772.0000 - false_negatives: 27.0000 - val_loss: 0.4651 - val_accuracy: 0.8642 - val_recall: 0.9821 - val_precision: 0.6854 - val_false_positives: 151.0000 - val_true_positives: 329.0000 - val_false_negatives: 6.0000\n",
      "Epoch 99/100\n",
      "100/100 [==============================] - 67s 671ms/step - loss: 0.1311 - accuracy: 0.9606 - recall: 0.9653 - precision: 0.9571 - false_positives: 35.0000 - true_positives: 780.0000 - false_negatives: 28.0000 - val_loss: 0.3242 - val_accuracy: 0.9273 - val_recall: 0.9731 - val_precision: 0.8130 - val_false_positives: 75.0000 - val_true_positives: 326.0000 - val_false_negatives: 9.0000\n",
      "Epoch 100/100\n",
      "100/100 [==============================] - 69s 686ms/step - loss: 0.2005 - accuracy: 0.9413 - recall: 0.9418 - precision: 0.9395 - false_positives: 48.0000 - true_positives: 745.0000 - false_negatives: 46.0000 - val_loss: 0.3530 - val_accuracy: 0.9213 - val_recall: 0.9672 - val_precision: 0.8020 - val_false_positives: 80.0000 - val_true_positives: 324.0000 - val_false_negatives: 11.0000\n"
     ]
    }
   ],
   "source": [
    "epochs = 100\n",
    "history = model.fit(\n",
    "  train_generator,\n",
    "  validation_data=validation_generator,\n",
    "  epochs=epochs,\n",
    "  steps_per_epoch = 100)\n",
    "  #callbacks = [DisplayCallback()]"
   ]
  },
  {
   "cell_type": "code",
   "execution_count": 102,
   "id": "8c423e41-2379-464d-b699-928b52359b66",
   "metadata": {},
   "outputs": [
    {
     "name": "stdout",
     "output_type": "stream",
     "text": [
      "175/175 [==============================] - 46s 259ms/step - loss: 0.0564 - accuracy: 0.9768 - recall: 0.9800 - precision: 0.9737 - false_positives: 37.0000 - true_positives: 1372.0000 - false_negatives: 28.0000\n",
      "Test accuracy : 0.9767857193946838\n",
      "Test recall : 0.9800000190734863\n",
      "Test precision : 0.9737402200698853\n",
      "False Positive : 37.0\n",
      "True Positive : 1372.0\n",
      "False Negative : 28.0\n",
      "True Negative : -1262.0\n",
      "F1 : 0.9768600913492076\n"
     ]
    }
   ],
   "source": [
    "loss, accuracy, recall, precision, fp, tp, fn = model.evaluate(train_generator)\n",
    "print('Test accuracy :', accuracy)\n",
    "print('Test recall :', recall)\n",
    "print('Test precision :', precision)\n",
    "print('F1 :', (2*(precision*recall))/(precision + recall))"
   ]
  },
  {
   "cell_type": "code",
   "execution_count": null,
   "id": "14de11e0-f12b-4d73-8398-3cab72b56cce",
   "metadata": {},
   "outputs": [],
   "source": [
    "# 224 x 224 Model - validation_generator\n",
    "'''\n",
    "73/73 [==============================] - 10s 141ms/step - loss: 0.3530 - accuracy: 0.9213 - recall: 0.9672 - precision: 0.8020 - false_positives: 80.0000 - true_positives: 324.0000 - false_negatives: 11.0000\n",
    "Test accuracy : 0.9212802648544312\n",
    "Test recall : 0.967164158821106\n",
    "Test precision : 0.801980197429657\n",
    "False Positive : 80.0\n",
    "True Positive : 324.0\n",
    "False Negative : 11.0\n",
    "True Negative : -342.0\n",
    "F1 : 0.8768606137737882\n",
    "'''"
   ]
  },
  {
   "cell_type": "code",
   "execution_count": null,
   "id": "98a67c89-89c5-4c6f-ac84-32e42ef7f3e4",
   "metadata": {},
   "outputs": [],
   "source": [
    "# 224 x 224 Model - train_generator\n",
    "'''\n",
    "175/175 [==============================] - 46s 259ms/step - loss: 0.0564 - accuracy: 0.9768 - recall: 0.9800 - precision: 0.9737 - false_positives: 37.0000 - true_positives: 1372.0000 - false_negatives: 28.0000\n",
    "Test accuracy : 0.9767857193946838\n",
    "Test recall : 0.9800000190734863\n",
    "Test precision : 0.9737402200698853\n",
    "False Positive : 37.0\n",
    "True Positive : 1372.0\n",
    "False Negative : 28.0\n",
    "True Negative : -1262.0\n",
    "F1 : 0.9768600913492076\n",
    "'''"
   ]
  },
  {
   "cell_type": "code",
   "execution_count": null,
   "id": "45b5ccb7-61a0-4378-9c03-5a06c84fa5d9",
   "metadata": {},
   "outputs": [],
   "source": [
    "# 224 x 224 Model - test_generator\n",
    "'''\n",
    "50/50 [==============================] - 9s 173ms/step - loss: 0.2405 - accuracy: 0.9337 - recall: 0.9525 - precision: 0.9181 - false_positives: 34.0000 - true_positives: 381.0000 - false_negatives: 19.0000\n",
    "Test accuracy : 0.9337499737739563\n",
    "Test recall : 0.9524999856948853\n",
    "Test precision : 0.9180722832679749\n",
    "False Positive : 34.0\n",
    "True Positive : 381.0\n",
    "False Negative : 19.0\n",
    "True Negative : -384.0\n",
    "F1 : 0.934969315207975\n",
    "'''"
   ]
  },
  {
   "cell_type": "code",
   "execution_count": null,
   "id": "877448d1-ba79-4158-9d0d-749a61770d7b",
   "metadata": {},
   "outputs": [],
   "source": []
  },
  {
   "cell_type": "code",
   "execution_count": null,
   "id": "dc01890a-a3cb-4104-b900-fbeb29d53305",
   "metadata": {},
   "outputs": [],
   "source": [
    "# 128 x 128 Model - validation_generator\n",
    "'''\n",
    "37/37 [==============================] - 6s 174ms/step - loss: 0.2950 - accuracy: 0.9048 - recall: 0.9433 - precision: 0.7764 - false_positives: 91.0000 - true_positives: 316.0000 - false_negatives: 19.0000\n",
    "Test accuracy : 0.9048442840576172\n",
    "Test recall : 0.9432835578918457\n",
    "Test precision : 0.7764127850532532\n",
    "False Positive : 91.0\n",
    "True Positive : 316.0\n",
    "False Negative : 19.0\n",
    "True Negative : -389.0\n",
    "F1 : 0.8517520168979397\n",
    "'''"
   ]
  },
  {
   "cell_type": "code",
   "execution_count": null,
   "id": "5bc310bb-ffb3-48b1-ad47-b0ef46d33c3e",
   "metadata": {},
   "outputs": [],
   "source": [
    "# 128 x 128 Model - train_generator\n",
    "'''\n",
    "88/88 [==============================] - 27s 306ms/step - loss: 0.0193 - accuracy: 0.9950 - recall: 0.9957 - precision: 0.9943 - false_positives: 8.0000 - true_positives: 1394.0000 - false_negatives: 6.0000\n",
    "Test accuracy : 0.9950000047683716\n",
    "Test recall : 0.9957143068313599\n",
    "Test precision : 0.9942938685417175\n",
    "False Positive : 8.0\n",
    "True Positive : 1394.0\n",
    "False Negative : 6.0\n",
    "True Negative : -1320.0\n",
    "F1 : 0.9950035807426578\n",
    "'''"
   ]
  },
  {
   "cell_type": "code",
   "execution_count": null,
   "id": "d6cf753b-5017-4823-b1cd-6a7b071fd5aa",
   "metadata": {},
   "outputs": [],
   "source": []
  },
  {
   "cell_type": "code",
   "execution_count": null,
   "id": "b7c84417-cf34-4174-9167-965eca3091e6",
   "metadata": {},
   "outputs": [],
   "source": [
    "# 128 x 128 Model - test_generator\n",
    "'''\n",
    "25/25 [==============================] - 8s 286ms/step - loss: 0.2774 - accuracy: 0.9087 - recall: 0.9325 - precision: 0.8902 - false_positives: 46.0000 - true_positives: 373.0000 - false_negatives: 27.0000\n",
    "Test accuracy : 0.9087499976158142\n",
    "Test recall : 0.9325000047683716\n",
    "Test precision : 0.8902148008346558\n",
    "False Positive : 46.0\n",
    "True Positive : 373.0\n",
    "False Negative : 27.0\n",
    "True Negative : -421.0\n",
    "F1 : 0.9108669150778667\n",
    "'''"
   ]
  },
  {
   "cell_type": "code",
   "execution_count": null,
   "id": "35f0ebff-94a6-43e7-8046-e610ccdd6f3c",
   "metadata": {},
   "outputs": [],
   "source": []
  },
  {
   "cell_type": "code",
   "execution_count": null,
   "id": "f032d197-6338-49a5-b152-2deb479053d8",
   "metadata": {},
   "outputs": [],
   "source": []
  },
  {
   "cell_type": "code",
   "execution_count": 49,
   "id": "f2fb84a5-2fba-4fd0-86f8-4542765640f4",
   "metadata": {},
   "outputs": [],
   "source": [
    "model.save('../train_w_model01A/wHC_1_1.h5')"
   ]
  },
  {
   "cell_type": "code",
   "execution_count": null,
   "id": "79c443b5-c464-410f-8427-af85f007cd2d",
   "metadata": {},
   "outputs": [],
   "source": []
  },
  {
   "cell_type": "code",
   "execution_count": 48,
   "id": "1753ae18-7385-4a1d-b703-bc2e2f77dbb4",
   "metadata": {},
   "outputs": [
    {
     "data": {
      "image/png": "[encoded data removed]",
      "text/plain": [
       "<Figure size 800x800 with 2 Axes>"
      ]
     },
     "metadata": {},
     "output_type": "display_data"
    }
   ],
   "source": [
    "acc = history.history['accuracy']\n",
    "val_acc = history.history['val_accuracy']\n",
    "\n",
    "loss = history.history['loss']\n",
    "val_loss = history.history['val_loss']\n",
    "\n",
    "epochs_range = range(epochs)\n",
    "\n",
    "plt.figure(figsize=(8, 8))\n",
    "plt.subplot(1, 2, 1)\n",
    "plt.plot(epochs_range, acc, label='Training Accuracy')\n",
    "plt.plot(epochs_range, val_acc, label='Validation Accuracy')\n",
    "plt.legend(loc='lower right')\n",
    "plt.title('Training and Validation Accuracy')\n",
    "\n",
    "plt.subplot(1, 2, 2)\n",
    "plt.plot(epochs_range, loss, label='Training Loss')\n",
    "plt.plot(epochs_range, val_loss, label='Validation Loss')\n",
    "plt.legend(loc='upper right')\n",
    "plt.title('Training and Validation Loss')\n",
    "plt.show()"
   ]
  },
  {
   "cell_type": "code",
   "execution_count": null,
   "id": "fedeabe4-0a57-4e07-99c1-e62455175612",
   "metadata": {},
   "outputs": [],
   "source": []
  },
  {
   "cell_type": "code",
   "execution_count": null,
   "id": "92d25ed2-674c-487c-ba4c-ad4493fb14b0",
   "metadata": {},
   "outputs": [],
   "source": []
  },
  {
   "cell_type": "code",
   "execution_count": null,
   "id": "d19e1f1e-2106-4834-893b-89d670b8f490",
   "metadata": {},
   "outputs": [],
   "source": []
  },
  {
   "cell_type": "code",
   "execution_count": null,
   "id": "f916dc78-bf0c-4aec-8772-aa3452eb8172",
   "metadata": {},
   "outputs": [],
   "source": []
  },
  {
   "cell_type": "code",
   "execution_count": null,
   "id": "bd39aa29-0f1d-450c-bbf6-09f748745606",
   "metadata": {},
   "outputs": [],
   "source": []
  },
  {
   "cell_type": "code",
   "execution_count": null,
   "id": "36d97121-93c5-4d54-80ff-b20bd410449a",
   "metadata": {},
   "outputs": [],
   "source": []
  },
  {
   "cell_type": "code",
   "execution_count": null,
   "id": "6b017d12-4bf6-4b11-a537-317ecd1b9728",
   "metadata": {},
   "outputs": [],
   "source": []
  },
  {
   "cell_type": "code",
   "execution_count": null,
   "id": "fc358d85-51c5-4275-b4bf-c2f6ab289fc7",
   "metadata": {},
   "outputs": [],
   "source": []
  },
  {
   "cell_type": "code",
   "execution_count": null,
   "id": "386ace8b-9527-4117-8da1-06030d394986",
   "metadata": {},
   "outputs": [],
   "source": []
  },
  {
   "cell_type": "code",
   "execution_count": null,
   "id": "8a81477c-7052-4735-8ebd-e8604253da79",
   "metadata": {},
   "outputs": [],
   "source": []
  },
  {
   "cell_type": "code",
   "execution_count": 24,
   "id": "0a6f8845-8dee-4500-a486-702810af0808",
   "metadata": {},
   "outputs": [],
   "source": [
    "'''\n",
    "from pathlib import Path\n",
    "import imghdr\n",
    "\n",
    "data_dir = \"test01/val/jaguar\"\n",
    "image_extensions = [\".png\", \".jpg\"]  # add there all your images file extensions\n",
    "\n",
    "img_type_accepted_by_tf = [\"bmp\", \"gif\", \"jpeg\", \"png\"]\n",
    "for filepath in Path(data_dir).rglob(\"*\"):\n",
    "    if filepath.suffix.lower() in image_extensions:\n",
    "        img_type = imghdr.what(filepath)\n",
    "        if img_type is None:\n",
    "            print(f\"{filepath} is not an image\")\n",
    "        elif img_type not in img_type_accepted_by_tf:\n",
    "            print(f\"{filepath} is a {img_type}, not accepted by TensorFlow\")\n",
    "'''"
   ]
  },
  {
   "cell_type": "code",
   "execution_count": null,
   "id": "2aaa09e5-4df5-452f-bc58-0d9aa3cda15d",
   "metadata": {},
   "outputs": [],
   "source": []
  }
 ],
 "metadata": {
  "kernelspec": {
   "display_name": "python-3.7.10",
   "language": "python",
   "name": "python-3.7.10"
  },
  "language_info": {
   "codemirror_mode": {
    "name": "ipython",
    "version": 3
   },
   "file_extension": ".py",
   "mimetype": "text/x-python",
   "name": "python",
   "nbconvert_exporter": "python",
   "pygments_lexer": "ipython3",
   "version": "3.7.10"
  }
 },
 "nbformat": 4,
 "nbformat_minor": 5
}
