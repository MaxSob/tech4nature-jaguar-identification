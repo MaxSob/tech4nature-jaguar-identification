{
 "cells": [
  {
   "cell_type": "markdown",
   "id": "3834ba7f-2754-4878-9ede-c27c426eca9d",
   "metadata": {},
   "source": [
    "# Multiclass Object Detection"
   ]
  },
  {
   "cell_type": "code",
   "execution_count": 1,
   "id": "3bbe4260-7740-4179-a0d3-2957a6e64c18",
   "metadata": {},
   "outputs": [
    {
     "name": "stdout",
     "output_type": "stream",
     "text": [
      "Looking in indexes: http://192.168.0.94:8888/repository/pypi/simple\n",
      "Requirement already satisfied: imutils in /home/ma-user/anaconda3/envs/python-3.7.10/lib/python3.7/site-packages (0.5.4)\n",
      "\u001b[33mWARNING: You are using pip version 20.3.3; however, version 23.0.1 is available.\n",
      "You should consider upgrading via the '/home/ma-user/anaconda3/envs/python-3.7.10/bin/python3.7 -m pip install --upgrade pip' command.\u001b[0m\n"
     ]
    }
   ],
   "source": [
    "!pip install imutils"
   ]
  },
  {
   "cell_type": "code",
   "execution_count": 2,
   "id": "dc3202d2-a762-4965-ac42-f3cece2847d1",
   "metadata": {},
   "outputs": [
    {
     "name": "stdout",
     "output_type": "stream",
     "text": [
      "Looking in indexes: http://192.168.0.94:8888/repository/pypi/simple\n",
      "Requirement already satisfied: scikit-learn in /home/ma-user/anaconda3/envs/python-3.7.10/lib/python3.7/site-packages (1.0.2)\n",
      "Requirement already satisfied: scipy>=1.1.0 in /home/ma-user/anaconda3/envs/python-3.7.10/lib/python3.7/site-packages (from scikit-learn) (1.7.3)\n",
      "Requirement already satisfied: numpy>=1.14.6 in /home/ma-user/anaconda3/envs/python-3.7.10/lib/python3.7/site-packages (from scikit-learn) (1.21.6)\n",
      "Requirement already satisfied: joblib>=0.11 in /home/ma-user/anaconda3/envs/python-3.7.10/lib/python3.7/site-packages (from scikit-learn) (1.2.0)\n",
      "Requirement already satisfied: threadpoolctl>=2.0.0 in /home/ma-user/anaconda3/envs/python-3.7.10/lib/python3.7/site-packages (from scikit-learn) (3.1.0)\n",
      "\u001b[33mWARNING: You are using pip version 20.3.3; however, version 23.0.1 is available.\n",
      "You should consider upgrading via the '/home/ma-user/anaconda3/envs/python-3.7.10/bin/python3.7 -m pip install --upgrade pip' command.\u001b[0m\n"
     ]
    }
   ],
   "source": [
    "!pip install scikit-learn"
   ]
  },
  {
   "cell_type": "code",
   "execution_count": 3,
   "id": "38fc8427-e4b8-4b2e-a358-5517207f34d6",
   "metadata": {},
   "outputs": [
    {
     "name": "stderr",
     "output_type": "stream",
     "text": [
      "2023-04-14 20:34:54.513714: I tensorflow/core/platform/cpu_feature_guard.cc:193] This TensorFlow binary is optimized with oneAPI Deep Neural Network Library (oneDNN) to use the following CPU instructions in performance-critical operations:  AVX2 AVX512F AVX512_VNNI FMA\n",
      "To enable them in other operations, rebuild TensorFlow with the appropriate compiler flags.\n",
      "2023-04-14 20:34:54.665861: I tensorflow/core/util/port.cc:104] oneDNN custom operations are on. You may see slightly different numerical results due to floating-point round-off errors from different computation orders. To turn them off, set the environment variable `TF_ENABLE_ONEDNN_OPTS=0`.\n",
      "2023-04-14 20:34:54.670864: W tensorflow/compiler/xla/stream_executor/platform/default/dso_loader.cc:64] Could not load dynamic library 'libcudart.so.11.0'; dlerror: libcudart.so.11.0: cannot open shared object file: No such file or directory; LD_LIBRARY_PATH: /home/ma-user/modelarts-dev/common-algo-toolkit/cv2/../../lib64:/usr/local/cuda/lib64:/usr/local/cuda/extras/CUPTI/lib64:/usr/local/nvidia/lib:/usr/local/nvidia/lib64:/usr/lib/x86_64-linux-gnu/\n",
      "2023-04-14 20:34:54.670887: I tensorflow/compiler/xla/stream_executor/cuda/cudart_stub.cc:29] Ignore above cudart dlerror if you do not have a GPU set up on your machine.\n",
      "2023-04-14 20:34:55.332850: W tensorflow/compiler/xla/stream_executor/platform/default/dso_loader.cc:64] Could not load dynamic library 'libnvinfer.so.7'; dlerror: libnvinfer.so.7: cannot open shared object file: No such file or directory; LD_LIBRARY_PATH: /home/ma-user/modelarts-dev/common-algo-toolkit/cv2/../../lib64:/usr/local/cuda/lib64:/usr/local/cuda/extras/CUPTI/lib64:/usr/local/nvidia/lib:/usr/local/nvidia/lib64:/usr/lib/x86_64-linux-gnu/\n",
      "2023-04-14 20:34:55.332980: W tensorflow/compiler/xla/stream_executor/platform/default/dso_loader.cc:64] Could not load dynamic library 'libnvinfer_plugin.so.7'; dlerror: libnvinfer_plugin.so.7: cannot open shared object file: No such file or directory; LD_LIBRARY_PATH: /home/ma-user/modelarts-dev/common-algo-toolkit/cv2/../../lib64:/usr/local/cuda/lib64:/usr/local/cuda/extras/CUPTI/lib64:/usr/local/nvidia/lib:/usr/local/nvidia/lib64:/usr/lib/x86_64-linux-gnu/\n",
      "2023-04-14 20:34:55.332990: W tensorflow/compiler/tf2tensorrt/utils/py_utils.cc:38] TF-TRT Warning: Cannot dlopen some TensorRT libraries. If you would like to use Nvidia GPU with TensorRT, please make sure the missing libraries mentioned above are installed properly.\n"
     ]
    }
   ],
   "source": [
    "import imutils\n",
    "import os\n",
    "import cv2\n",
    "import datetime\n",
    "import numpy as np\n",
    "\n",
    "import matplotlib.pyplot as plt\n",
    "from sklearn.model_selection import train_test_split\n",
    "\n",
    "from tensorflow.keras.layers import Flatten\n",
    "from tensorflow.keras.layers import Dense\n",
    "from tensorflow.keras.layers import Input\n",
    "from tensorflow.keras.models import Model\n",
    "from tensorflow.keras.optimizers import Adam\n",
    "from tensorflow.keras.preprocessing.image import img_to_array\n",
    "from tensorflow.keras.preprocessing.image import load_img\n",
    "from tensorflow.keras.models import load_model\n",
    "from tensorflow.keras.applications import VGG16\n",
    "from tensorflow.keras.layers import Dropout\n",
    "from tensorflow.keras.utils import to_categorical\n",
    "from sklearn.preprocessing import LabelBinarizer\n",
    "\n",
    "import pickle"
   ]
  },
  {
   "cell_type": "code",
   "execution_count": 4,
   "id": "f71bd3bf-16e7-404f-b39a-09afa708530a",
   "metadata": {},
   "outputs": [],
   "source": [
    "data = []\n",
    "labels = []\n",
    "imagePaths = []"
   ]
  },
  {
   "cell_type": "code",
   "execution_count": 5,
   "id": "1d56b6bf-871a-47e8-a493-e1af1e07df7d",
   "metadata": {},
   "outputs": [],
   "source": [
    "import pandas as pd"
   ]
  },
  {
   "cell_type": "code",
   "execution_count": 6,
   "id": "18a20fd1-755b-4386-880b-5ae8f3763ddc",
   "metadata": {},
   "outputs": [],
   "source": [
    "df = pd.read_csv(\"../datasets/train_sample_df.csv\")"
   ]
  },
  {
   "cell_type": "code",
   "execution_count": null,
   "id": "502885f5-7cfa-40dc-afd1-997c0ffa5910",
   "metadata": {},
   "outputs": [],
   "source": [
    "df"
   ]
  },
  {
   "cell_type": "code",
   "execution_count": 8,
   "id": "bd36409a-324b-47c5-bcee-cacba2eb845e",
   "metadata": {},
   "outputs": [],
   "source": [
    "# Data cleaning \n",
    "#for index, row in df.iterrows():\n",
    "    \n",
    "# loop over the rows\n",
    "for index, row in df.iterrows():\n",
    "    # break the row into the \n",
    "    # filename and bounding box coordinates\n",
    "    #3row = row.split(\",\")\n",
    "\n",
    "    #filename = row[0]\n",
    "    #filename = filename.split(\".\")[0]\n",
    "    #filename = filename.split(\"_\")[-1]\n",
    "    #filename = \"image_\" + filename + \".jpg\"\n",
    "\n",
    "    #coords = row[1:]\n",
    "    #coords = [int(c) for c in coords]\n",
    "\n",
    "    label = row[\"label\"]\n",
    "\n",
    "    image_path = row[\"name\"]\n",
    "\n",
    "    image = cv2.imread(image_path)\n",
    "    (h, w) = image.shape[:2]\n",
    "\n",
    "    # scale the bounding box coordinates \n",
    "    # relative to the \n",
    "    # dimensions of the input image\n",
    "    #Xmin = float(row[\"xmin\"]) / w\n",
    "    #Ymin = float(row[\"ymin\"]) / h\n",
    "    #Xmax = float(row[\"xmax\"]) / w\n",
    "    #Ymax = float(row[\"ymax\"]) / h\n",
    "\n",
    "\n",
    "    # load the image\n",
    "    image = load_img(image_path, target_size=(128, 128))\n",
    "    image = img_to_array(image)\n",
    "\n",
    "\n",
    "    data.append(image)\n",
    "    labels.append(label)\n",
    "    #bboxes.append((Xmin, Ymin, Xmax, Ymax))\n",
    "    imagePaths.append(image_path)"
   ]
  },
  {
   "cell_type": "code",
   "execution_count": 9,
   "id": "17d499d1-5c36-480c-8fa7-8389dfae3477",
   "metadata": {},
   "outputs": [],
   "source": [
    "## Data Preparation\n",
    "## convert from the range [0, 255] to [0, 1]\n",
    "data1 = np.array(data, dtype=\"float32\") / 255.0\n",
    "\n",
    "# convert to numpy array\n",
    "labels1 = np.array(labels)\n",
    "#bboxes1 = np.array(bboxes, dtype=\"float32\")\n",
    "imagePaths1 = np.array(imagePaths)"
   ]
  },
  {
   "cell_type": "code",
   "execution_count": null,
   "id": "3d39fac9-e70e-496c-8132-46e0cfed2d3f",
   "metadata": {},
   "outputs": [],
   "source": []
  },
  {
   "cell_type": "code",
   "execution_count": null,
   "id": "e3a6d079-1bda-49ef-b5fe-256e7c34dbdd",
   "metadata": {},
   "outputs": [],
   "source": []
  },
  {
   "cell_type": "code",
   "execution_count": 10,
   "id": "ef4269df-8c1b-4922-9c5c-df9922f12c52",
   "metadata": {},
   "outputs": [],
   "source": [
    "# one-hot encoding on the labels\n",
    "lb = LabelBinarizer()\n",
    "labels = lb.fit_transform(labels1)"
   ]
  },
  {
   "cell_type": "code",
   "execution_count": 11,
   "id": "4fe06637-5e03-4ff0-a905-ba05d685e64c",
   "metadata": {},
   "outputs": [
    {
     "data": {
      "text/plain": [
       "array([[0],\n",
       "       [0],\n",
       "       [0],\n",
       "       ...,\n",
       "       [1],\n",
       "       [1],\n",
       "       [1]])"
      ]
     },
     "execution_count": 11,
     "metadata": {},
     "output_type": "execute_result"
    }
   ],
   "source": [
    "labels"
   ]
  },
  {
   "cell_type": "code",
   "execution_count": 12,
   "id": "a7c5dfae-60aa-4873-b73b-769b82da20ce",
   "metadata": {},
   "outputs": [
    {
     "name": "stdout",
     "output_type": "stream",
     "text": [
      "two classes\n"
     ]
    }
   ],
   "source": [
    "if len(lb.classes_) == 2:\n",
    "    print(\"two classes\")\n",
    "    labels = to_categorical(labels)"
   ]
  },
  {
   "cell_type": "code",
   "execution_count": 13,
   "id": "7193df59-ea70-418e-a285-7476f92a6363",
   "metadata": {},
   "outputs": [],
   "source": [
    "split = train_test_split(data1,\n",
    "                         labels,\n",
    "                         imagePaths1,\n",
    "                         test_size=0.20,\n",
    "                         random_state=42)"
   ]
  },
  {
   "cell_type": "code",
   "execution_count": null,
   "id": "24347e2b-67f8-4d02-ac5e-b91a86c4b540",
   "metadata": {},
   "outputs": [],
   "source": [
    "split"
   ]
  },
  {
   "cell_type": "code",
   "execution_count": 15,
   "id": "8877b871-e72f-4cd1-a052-d19883179512",
   "metadata": {},
   "outputs": [],
   "source": [
    "# unpack the data split\n",
    "(trainImages, testImages) = split[:2]\n",
    "(trainLabels, testLabels) = split[2:4]\n",
    "(trainPaths, testPaths) = split[4:]"
   ]
  },
  {
   "cell_type": "code",
   "execution_count": 16,
   "id": "110ac44a-759e-4789-acc1-b6f1366a3b32",
   "metadata": {},
   "outputs": [],
   "source": [
    "f = open(\"testing_multiclass_128.txt\", \"w\")\n",
    "f.write(\"\\n\".join(testPaths))\n",
    "f.close()"
   ]
  },
  {
   "cell_type": "code",
   "execution_count": 17,
   "id": "4210dd2d-d8a5-4aac-ad9b-5d75f7098abc",
   "metadata": {},
   "outputs": [
    {
     "name": "stderr",
     "output_type": "stream",
     "text": [
      "2023-04-14 20:37:22.976264: W tensorflow/compiler/xla/stream_executor/platform/default/dso_loader.cc:64] Could not load dynamic library 'libcudart.so.11.0'; dlerror: libcudart.so.11.0: cannot open shared object file: No such file or directory; LD_LIBRARY_PATH: /home/ma-user/modelarts-dev/common-algo-toolkit/cv2/../../lib64:/usr/local/cuda/lib64:/usr/local/cuda/extras/CUPTI/lib64:/usr/local/nvidia/lib:/usr/local/nvidia/lib64:/usr/lib/x86_64-linux-gnu/\n",
      "2023-04-14 20:37:22.976432: W tensorflow/compiler/xla/stream_executor/platform/default/dso_loader.cc:64] Could not load dynamic library 'libcublas.so.11'; dlerror: libcublas.so.11: cannot open shared object file: No such file or directory; LD_LIBRARY_PATH: /home/ma-user/modelarts-dev/common-algo-toolkit/cv2/../../lib64:/usr/local/cuda/lib64:/usr/local/cuda/extras/CUPTI/lib64:/usr/local/nvidia/lib:/usr/local/nvidia/lib64:/usr/lib/x86_64-linux-gnu/\n",
      "2023-04-14 20:37:22.976523: W tensorflow/compiler/xla/stream_executor/platform/default/dso_loader.cc:64] Could not load dynamic library 'libcublasLt.so.11'; dlerror: libcublasLt.so.11: cannot open shared object file: No such file or directory; LD_LIBRARY_PATH: /home/ma-user/modelarts-dev/common-algo-toolkit/cv2/../../lib64:/usr/local/cuda/lib64:/usr/local/cuda/extras/CUPTI/lib64:/usr/local/nvidia/lib:/usr/local/nvidia/lib64:/usr/lib/x86_64-linux-gnu/\n",
      "2023-04-14 20:37:23.021072: W tensorflow/compiler/xla/stream_executor/platform/default/dso_loader.cc:64] Could not load dynamic library 'libcusolver.so.11'; dlerror: libcusolver.so.11: cannot open shared object file: No such file or directory; LD_LIBRARY_PATH: /home/ma-user/modelarts-dev/common-algo-toolkit/cv2/../../lib64:/usr/local/cuda/lib64:/usr/local/cuda/extras/CUPTI/lib64:/usr/local/nvidia/lib:/usr/local/nvidia/lib64:/usr/lib/x86_64-linux-gnu/\n",
      "2023-04-14 20:37:23.021169: W tensorflow/compiler/xla/stream_executor/platform/default/dso_loader.cc:64] Could not load dynamic library 'libcusparse.so.11'; dlerror: libcusparse.so.11: cannot open shared object file: No such file or directory; LD_LIBRARY_PATH: /home/ma-user/modelarts-dev/common-algo-toolkit/cv2/../../lib64:/usr/local/cuda/lib64:/usr/local/cuda/extras/CUPTI/lib64:/usr/local/nvidia/lib:/usr/local/nvidia/lib64:/usr/lib/x86_64-linux-gnu/\n",
      "2023-04-14 20:37:23.021236: W tensorflow/compiler/xla/stream_executor/platform/default/dso_loader.cc:64] Could not load dynamic library 'libcudnn.so.8'; dlerror: libcudnn.so.8: cannot open shared object file: No such file or directory; LD_LIBRARY_PATH: /home/ma-user/modelarts-dev/common-algo-toolkit/cv2/../../lib64:/usr/local/cuda/lib64:/usr/local/cuda/extras/CUPTI/lib64:/usr/local/nvidia/lib:/usr/local/nvidia/lib64:/usr/lib/x86_64-linux-gnu/\n",
      "2023-04-14 20:37:23.021260: W tensorflow/core/common_runtime/gpu/gpu_device.cc:1934] Cannot dlopen some GPU libraries. Please make sure the missing libraries mentioned above are installed properly if you would like to use GPU. Follow the guide at https://www.tensorflow.org/install/gpu for how to download and setup the required libraries for your platform.\n",
      "Skipping registering GPU devices...\n",
      "2023-04-14 20:37:23.021799: I tensorflow/core/platform/cpu_feature_guard.cc:193] This TensorFlow binary is optimized with oneAPI Deep Neural Network Library (oneDNN) to use the following CPU instructions in performance-critical operations:  AVX2 AVX512F AVX512_VNNI FMA\n",
      "To enable them in other operations, rebuild TensorFlow with the appropriate compiler flags.\n"
     ]
    },
    {
     "name": "stdout",
     "output_type": "stream",
     "text": [
      "Downloading data from https://storage.googleapis.com/tensorflow/keras-applications/vgg16/vgg16_weights_tf_dim_ordering_tf_kernels_notop.h5\n",
      "58889256/58889256 [==============================] - 3s 0us/step\n"
     ]
    }
   ],
   "source": [
    "vgg = VGG16(weights=\"imagenet\",\n",
    "            include_top=False,\n",
    "            input_tensor=Input(shape=(128, 128, 3)))"
   ]
  },
  {
   "cell_type": "code",
   "execution_count": 18,
   "id": "844e0014-7962-4407-8452-23acbe22144f",
   "metadata": {},
   "outputs": [],
   "source": [
    "# freeze all layers of VGG in order not to train them\n",
    "vgg.trainable = False"
   ]
  },
  {
   "cell_type": "code",
   "execution_count": 19,
   "id": "776c82c6-9df8-4771-96cd-87ef9e59ccf6",
   "metadata": {},
   "outputs": [],
   "source": [
    "# flatten the max-pooling output of VGG\n",
    "flatten = vgg.output\n",
    "flatten = Flatten()(flatten)"
   ]
  },
  {
   "cell_type": "markdown",
   "id": "e2692964-2426-41e8-87d7-5ed888b1a667",
   "metadata": {},
   "source": [
    "As we can see, we have 2 tasks in 1: predict the class of the object in the image and predict the coordinates of the object location. That's why we need to construct two different outputs for our VGG16: one for classification (classes) and one for regression (coordinates).\n",
    "\n",
    "\n",
    "For coordinates prediciton (regression) we'll have a sigmoid activation function. The output of each four neurons lies in the range [0, 1] (because we normalized coordinates in while reading them in the beginning, and four neurons stand for four coordinates).\n",
    "\n"
   ]
  },
  {
   "cell_type": "code",
   "execution_count": null,
   "id": "c0ce319f-f554-4db0-a9c7-c5b34784e7cb",
   "metadata": {},
   "outputs": [],
   "source": []
  },
  {
   "cell_type": "code",
   "execution_count": 20,
   "id": "d2695ff6-8747-4a62-b0a0-9fe3c0a7e52e",
   "metadata": {},
   "outputs": [],
   "source": [
    "# construct a second fully-connected \n",
    "# layer header to predict\n",
    "# the class label\n",
    "\n",
    "softmaxHead = Dense(512, activation=\"relu\")(flatten)\n",
    "softmaxHead = Dropout(0.5)(softmaxHead)\n",
    "softmaxHead = Dense(512, activation=\"relu\")(softmaxHead)\n",
    "softmaxHead = Dropout(0.5)(softmaxHead)\n",
    "softmaxHead = Dense(len(lb.classes_), activation=\"softmax\", name=\"class_label\")(softmaxHead)"
   ]
  },
  {
   "cell_type": "code",
   "execution_count": 21,
   "id": "d8c452c0-8aa0-4f16-b9d5-b95f7eeea838",
   "metadata": {},
   "outputs": [],
   "source": [
    "model = Model(\n",
    "    inputs=vgg.input,\n",
    "    outputs=(softmaxHead))"
   ]
  },
  {
   "cell_type": "code",
   "execution_count": 27,
   "id": "95535da8-ee96-41e3-9b61-a6c9406c81b1",
   "metadata": {},
   "outputs": [],
   "source": [
    "INIT_LR = 1e-3\n",
    "NUM_EPOCHS = 100\n",
    "BATCH_SIZE = 16"
   ]
  },
  {
   "cell_type": "code",
   "execution_count": 28,
   "id": "2035b78a-61da-462a-8386-7b8e54d78b1d",
   "metadata": {},
   "outputs": [],
   "source": [
    "losses = {\n",
    "    \"class_label\": \"binary_crossentropy\",\n",
    "    #\"bounding_box\": \"mean_squared_error\",\n",
    "}"
   ]
  },
  {
   "cell_type": "code",
   "execution_count": 29,
   "id": "93da8f5e-de7b-4c7b-82c4-024d04f07a6e",
   "metadata": {},
   "outputs": [],
   "source": [
    "lossWeights = {\n",
    "    \"class_label\": 1.0,\n",
    "    #\"bounding_box\": 1.0\n",
    "}"
   ]
  },
  {
   "cell_type": "code",
   "execution_count": 30,
   "id": "06735e70-7937-442c-8f68-3b412375644b",
   "metadata": {},
   "outputs": [],
   "source": [
    "trainTargets = {\n",
    "    \"class_label\": trainLabels,\n",
    "    #\"bounding_box\": trainBBoxes\n",
    "}"
   ]
  },
  {
   "cell_type": "code",
   "execution_count": 31,
   "id": "6889f582-fb83-4f6d-a6dc-cb6255f7c481",
   "metadata": {},
   "outputs": [],
   "source": [
    "testTargets = {\n",
    "    \"class_label\": testLabels,\n",
    "    #\"bounding_box\": testBBoxes\n",
    "}"
   ]
  },
  {
   "cell_type": "code",
   "execution_count": 33,
   "id": "371dc785-b784-48da-9f65-a15acf61f950",
   "metadata": {},
   "outputs": [
    {
     "name": "stdout",
     "output_type": "stream",
     "text": [
      "Model: \"model\"\n",
      "_________________________________________________________________\n",
      " Layer (type)                Output Shape              Param #   \n",
      "=================================================================\n",
      " input_1 (InputLayer)        [(None, 128, 128, 3)]     0         \n",
      "                                                                 \n",
      " block1_conv1 (Conv2D)       (None, 128, 128, 64)      1792      \n",
      "                                                                 \n",
      " block1_conv2 (Conv2D)       (None, 128, 128, 64)      36928     \n",
      "                                                                 \n",
      " block1_pool (MaxPooling2D)  (None, 64, 64, 64)        0         \n",
      "                                                                 \n",
      " block2_conv1 (Conv2D)       (None, 64, 64, 128)       73856     \n",
      "                                                                 \n",
      " block2_conv2 (Conv2D)       (None, 64, 64, 128)       147584    \n",
      "                                                                 \n",
      " block2_pool (MaxPooling2D)  (None, 32, 32, 128)       0         \n",
      "                                                                 \n",
      " block3_conv1 (Conv2D)       (None, 32, 32, 256)       295168    \n",
      "                                                                 \n",
      " block3_conv2 (Conv2D)       (None, 32, 32, 256)       590080    \n",
      "                                                                 \n",
      " block3_conv3 (Conv2D)       (None, 32, 32, 256)       590080    \n",
      "                                                                 \n",
      " block3_pool (MaxPooling2D)  (None, 16, 16, 256)       0         \n",
      "                                                                 \n",
      " block4_conv1 (Conv2D)       (None, 16, 16, 512)       1180160   \n",
      "                                                                 \n",
      " block4_conv2 (Conv2D)       (None, 16, 16, 512)       2359808   \n",
      "                                                                 \n",
      " block4_conv3 (Conv2D)       (None, 16, 16, 512)       2359808   \n",
      "                                                                 \n",
      " block4_pool (MaxPooling2D)  (None, 8, 8, 512)         0         \n",
      "                                                                 \n",
      " block5_conv1 (Conv2D)       (None, 8, 8, 512)         2359808   \n",
      "                                                                 \n",
      " block5_conv2 (Conv2D)       (None, 8, 8, 512)         2359808   \n",
      "                                                                 \n",
      " block5_conv3 (Conv2D)       (None, 8, 8, 512)         2359808   \n",
      "                                                                 \n",
      " block5_pool (MaxPooling2D)  (None, 4, 4, 512)         0         \n",
      "                                                                 \n",
      " flatten (Flatten)           (None, 8192)              0         \n",
      "                                                                 \n",
      " dense (Dense)               (None, 512)               4194816   \n",
      "                                                                 \n",
      " dropout (Dropout)           (None, 512)               0         \n",
      "                                                                 \n",
      " dense_1 (Dense)             (None, 512)               262656    \n",
      "                                                                 \n",
      " dropout_1 (Dropout)         (None, 512)               0         \n",
      "                                                                 \n",
      " class_label (Dense)         (None, 2)                 1026      \n",
      "                                                                 \n",
      "=================================================================\n",
      "Total params: 19,173,186\n",
      "Trainable params: 4,458,498\n",
      "Non-trainable params: 14,714,688\n",
      "_________________________________________________________________\n",
      "None\n"
     ]
    }
   ],
   "source": [
    "opt = Adam(INIT_LR)\n",
    "\n",
    "model.compile(loss=losses,\n",
    "              optimizer=opt,\n",
    "              metrics=['accuracy','Recall', 'Precision', 'FalsePositives', 'TruePositives', 'FalseNegatives'])\n",
    "              #loss_weights=lossWeights)\n",
    "\n",
    "print(model.summary())"
   ]
  },
  {
   "cell_type": "code",
   "execution_count": 34,
   "id": "f219e131-bc16-4037-8b7c-115ede744c16",
   "metadata": {},
   "outputs": [
    {
     "name": "stdout",
     "output_type": "stream",
     "text": [
      "Epoch 1/100\n",
      "140/140 [==============================] - 45s 306ms/step - loss: 0.5706 - accuracy: 0.7554 - recall: 0.7554 - precision: 0.7554 - false_positives: 548.0000 - true_positives: 1692.0000 - false_negatives: 548.0000 - val_loss: 0.3720 - val_accuracy: 0.8321 - val_recall: 0.8321 - val_precision: 0.8321 - val_false_positives: 94.0000 - val_true_positives: 466.0000 - val_false_negatives: 94.0000\n",
      "Epoch 2/100\n",
      "140/140 [==============================] - 41s 296ms/step - loss: 0.3301 - accuracy: 0.8580 - recall: 0.8580 - precision: 0.8580 - false_positives: 318.0000 - true_positives: 1922.0000 - false_negatives: 318.0000 - val_loss: 0.3256 - val_accuracy: 0.8500 - val_recall: 0.8500 - val_precision: 0.8500 - val_false_positives: 84.0000 - val_true_positives: 476.0000 - val_false_negatives: 84.0000\n",
      "Epoch 3/100\n",
      "140/140 [==============================] - 41s 297ms/step - loss: 0.2758 - accuracy: 0.8830 - recall: 0.8830 - precision: 0.8830 - false_positives: 262.0000 - true_positives: 1978.0000 - false_negatives: 262.0000 - val_loss: 0.2998 - val_accuracy: 0.8518 - val_recall: 0.8518 - val_precision: 0.8518 - val_false_positives: 83.0000 - val_true_positives: 477.0000 - val_false_negatives: 83.0000\n",
      "Epoch 4/100\n",
      "140/140 [==============================] - 41s 295ms/step - loss: 0.2603 - accuracy: 0.8911 - recall: 0.8911 - precision: 0.8911 - false_positives: 244.0000 - true_positives: 1996.0000 - false_negatives: 244.0000 - val_loss: 0.2859 - val_accuracy: 0.8536 - val_recall: 0.8536 - val_precision: 0.8536 - val_false_positives: 82.0000 - val_true_positives: 478.0000 - val_false_negatives: 82.0000\n",
      "Epoch 5/100\n",
      "140/140 [==============================] - 41s 294ms/step - loss: 0.2496 - accuracy: 0.8969 - recall: 0.8969 - precision: 0.8969 - false_positives: 231.0000 - true_positives: 2009.0000 - false_negatives: 231.0000 - val_loss: 0.2778 - val_accuracy: 0.8804 - val_recall: 0.8804 - val_precision: 0.8804 - val_false_positives: 67.0000 - val_true_positives: 493.0000 - val_false_negatives: 67.0000\n",
      "Epoch 6/100\n",
      "140/140 [==============================] - 40s 288ms/step - loss: 0.2410 - accuracy: 0.8893 - recall: 0.8893 - precision: 0.8893 - false_positives: 248.0000 - true_positives: 1992.0000 - false_negatives: 248.0000 - val_loss: 0.2674 - val_accuracy: 0.8732 - val_recall: 0.8732 - val_precision: 0.8732 - val_false_positives: 71.0000 - val_true_positives: 489.0000 - val_false_negatives: 71.0000\n",
      "Epoch 7/100\n",
      "140/140 [==============================] - 41s 295ms/step - loss: 0.2205 - accuracy: 0.9004 - recall: 0.9004 - precision: 0.9004 - false_positives: 223.0000 - true_positives: 2017.0000 - false_negatives: 223.0000 - val_loss: 0.2599 - val_accuracy: 0.8839 - val_recall: 0.8839 - val_precision: 0.8839 - val_false_positives: 65.0000 - val_true_positives: 495.0000 - val_false_negatives: 65.0000\n",
      "Epoch 8/100\n",
      "140/140 [==============================] - 41s 290ms/step - loss: 0.1830 - accuracy: 0.9192 - recall: 0.9192 - precision: 0.9192 - false_positives: 181.0000 - true_positives: 2059.0000 - false_negatives: 181.0000 - val_loss: 0.2566 - val_accuracy: 0.8929 - val_recall: 0.8929 - val_precision: 0.8929 - val_false_positives: 60.0000 - val_true_positives: 500.0000 - val_false_negatives: 60.0000\n",
      "Epoch 9/100\n",
      "140/140 [==============================] - 40s 289ms/step - loss: 0.1820 - accuracy: 0.9201 - recall: 0.9201 - precision: 0.9201 - false_positives: 179.0000 - true_positives: 2061.0000 - false_negatives: 179.0000 - val_loss: 0.2918 - val_accuracy: 0.8768 - val_recall: 0.8768 - val_precision: 0.8768 - val_false_positives: 69.0000 - val_true_positives: 491.0000 - val_false_negatives: 69.0000\n",
      "Epoch 10/100\n",
      "140/140 [==============================] - 41s 295ms/step - loss: 0.1783 - accuracy: 0.9219 - recall: 0.9219 - precision: 0.9219 - false_positives: 175.0000 - true_positives: 2065.0000 - false_negatives: 175.0000 - val_loss: 0.2818 - val_accuracy: 0.8786 - val_recall: 0.8786 - val_precision: 0.8786 - val_false_positives: 68.0000 - val_true_positives: 492.0000 - val_false_negatives: 68.0000\n",
      "Epoch 11/100\n",
      "140/140 [==============================] - 41s 295ms/step - loss: 0.1556 - accuracy: 0.9393 - recall: 0.9393 - precision: 0.9393 - false_positives: 136.0000 - true_positives: 2104.0000 - false_negatives: 136.0000 - val_loss: 0.3201 - val_accuracy: 0.8839 - val_recall: 0.8839 - val_precision: 0.8839 - val_false_positives: 65.0000 - val_true_positives: 495.0000 - val_false_negatives: 65.0000\n",
      "Epoch 12/100\n",
      "140/140 [==============================] - 41s 297ms/step - loss: 0.1453 - accuracy: 0.9366 - recall: 0.9366 - precision: 0.9366 - false_positives: 142.0000 - true_positives: 2098.0000 - false_negatives: 142.0000 - val_loss: 0.2630 - val_accuracy: 0.8911 - val_recall: 0.8911 - val_precision: 0.8911 - val_false_positives: 61.0000 - val_true_positives: 499.0000 - val_false_negatives: 61.0000\n",
      "Epoch 13/100\n",
      "140/140 [==============================] - 41s 295ms/step - loss: 0.1542 - accuracy: 0.9286 - recall: 0.9286 - precision: 0.9286 - false_positives: 160.0000 - true_positives: 2080.0000 - false_negatives: 160.0000 - val_loss: 0.2993 - val_accuracy: 0.8804 - val_recall: 0.8804 - val_precision: 0.8804 - val_false_positives: 67.0000 - val_true_positives: 493.0000 - val_false_negatives: 67.0000\n",
      "Epoch 14/100\n",
      "140/140 [==============================] - 41s 297ms/step - loss: 0.1247 - accuracy: 0.9487 - recall: 0.9487 - precision: 0.9487 - false_positives: 115.0000 - true_positives: 2125.0000 - false_negatives: 115.0000 - val_loss: 0.3305 - val_accuracy: 0.8875 - val_recall: 0.8875 - val_precision: 0.8875 - val_false_positives: 63.0000 - val_true_positives: 497.0000 - val_false_negatives: 63.0000\n",
      "Epoch 15/100\n",
      "140/140 [==============================] - 41s 293ms/step - loss: 0.1374 - accuracy: 0.9397 - recall: 0.9397 - precision: 0.9397 - false_positives: 135.0000 - true_positives: 2105.0000 - false_negatives: 135.0000 - val_loss: 0.2931 - val_accuracy: 0.8893 - val_recall: 0.8893 - val_precision: 0.8893 - val_false_positives: 62.0000 - val_true_positives: 498.0000 - val_false_negatives: 62.0000\n",
      "Epoch 16/100\n",
      "140/140 [==============================] - 41s 295ms/step - loss: 0.1690 - accuracy: 0.9214 - recall: 0.9214 - precision: 0.9214 - false_positives: 176.0000 - true_positives: 2064.0000 - false_negatives: 176.0000 - val_loss: 0.2755 - val_accuracy: 0.8875 - val_recall: 0.8875 - val_precision: 0.8875 - val_false_positives: 63.0000 - val_true_positives: 497.0000 - val_false_negatives: 63.0000\n",
      "Epoch 17/100\n",
      "140/140 [==============================] - 41s 296ms/step - loss: 0.1578 - accuracy: 0.9299 - recall: 0.9299 - precision: 0.9299 - false_positives: 157.0000 - true_positives: 2083.0000 - false_negatives: 157.0000 - val_loss: 0.2702 - val_accuracy: 0.8875 - val_recall: 0.8875 - val_precision: 0.8875 - val_false_positives: 63.0000 - val_true_positives: 497.0000 - val_false_negatives: 63.0000\n",
      "Epoch 18/100\n",
      "140/140 [==============================] - 41s 293ms/step - loss: 0.1331 - accuracy: 0.9388 - recall: 0.9388 - precision: 0.9388 - false_positives: 137.0000 - true_positives: 2103.0000 - false_negatives: 137.0000 - val_loss: 0.2689 - val_accuracy: 0.8946 - val_recall: 0.8946 - val_precision: 0.8946 - val_false_positives: 59.0000 - val_true_positives: 501.0000 - val_false_negatives: 59.0000\n",
      "Epoch 19/100\n",
      "140/140 [==============================] - 42s 298ms/step - loss: 0.1289 - accuracy: 0.9402 - recall: 0.9402 - precision: 0.9402 - false_positives: 134.0000 - true_positives: 2106.0000 - false_negatives: 134.0000 - val_loss: 0.2607 - val_accuracy: 0.9054 - val_recall: 0.9054 - val_precision: 0.9054 - val_false_positives: 53.0000 - val_true_positives: 507.0000 - val_false_negatives: 53.0000\n",
      "Epoch 20/100\n",
      "140/140 [==============================] - 42s 298ms/step - loss: 0.1266 - accuracy: 0.9388 - recall: 0.9388 - precision: 0.9388 - false_positives: 137.0000 - true_positives: 2103.0000 - false_negatives: 137.0000 - val_loss: 0.4150 - val_accuracy: 0.8911 - val_recall: 0.8911 - val_precision: 0.8911 - val_false_positives: 61.0000 - val_true_positives: 499.0000 - val_false_negatives: 61.0000\n",
      "Epoch 21/100\n",
      "140/140 [==============================] - 42s 298ms/step - loss: 0.1210 - accuracy: 0.9438 - recall: 0.9438 - precision: 0.9438 - false_positives: 126.0000 - true_positives: 2114.0000 - false_negatives: 126.0000 - val_loss: 0.2928 - val_accuracy: 0.8964 - val_recall: 0.8964 - val_precision: 0.8964 - val_false_positives: 58.0000 - val_true_positives: 502.0000 - val_false_negatives: 58.0000\n",
      "Epoch 22/100\n",
      "140/140 [==============================] - 41s 295ms/step - loss: 0.0826 - accuracy: 0.9670 - recall: 0.9670 - precision: 0.9670 - false_positives: 74.0000 - true_positives: 2166.0000 - false_negatives: 74.0000 - val_loss: 0.4174 - val_accuracy: 0.8875 - val_recall: 0.8875 - val_precision: 0.8875 - val_false_positives: 63.0000 - val_true_positives: 497.0000 - val_false_negatives: 63.0000\n",
      "Epoch 23/100\n",
      "140/140 [==============================] - 42s 299ms/step - loss: 0.0930 - accuracy: 0.9589 - recall: 0.9589 - precision: 0.9589 - false_positives: 92.0000 - true_positives: 2148.0000 - false_negatives: 92.0000 - val_loss: 0.3874 - val_accuracy: 0.8982 - val_recall: 0.8982 - val_precision: 0.8982 - val_false_positives: 57.0000 - val_true_positives: 503.0000 - val_false_negatives: 57.0000\n",
      "Epoch 24/100\n",
      "140/140 [==============================] - 41s 296ms/step - loss: 0.1012 - accuracy: 0.9513 - recall: 0.9513 - precision: 0.9513 - false_positives: 109.0000 - true_positives: 2131.0000 - false_negatives: 109.0000 - val_loss: 0.3485 - val_accuracy: 0.9018 - val_recall: 0.9018 - val_precision: 0.9018 - val_false_positives: 55.0000 - val_true_positives: 505.0000 - val_false_negatives: 55.0000\n",
      "Epoch 25/100\n",
      "140/140 [==============================] - 42s 298ms/step - loss: 0.1123 - accuracy: 0.9549 - recall: 0.9549 - precision: 0.9549 - false_positives: 101.0000 - true_positives: 2139.0000 - false_negatives: 101.0000 - val_loss: 0.2788 - val_accuracy: 0.9089 - val_recall: 0.9089 - val_precision: 0.9089 - val_false_positives: 51.0000 - val_true_positives: 509.0000 - val_false_negatives: 51.0000\n",
      "Epoch 26/100\n",
      "140/140 [==============================] - 42s 298ms/step - loss: 0.1210 - accuracy: 0.9491 - recall: 0.9491 - precision: 0.9491 - false_positives: 114.0000 - true_positives: 2126.0000 - false_negatives: 114.0000 - val_loss: 0.3416 - val_accuracy: 0.8946 - val_recall: 0.8946 - val_precision: 0.8946 - val_false_positives: 59.0000 - val_true_positives: 501.0000 - val_false_negatives: 59.0000\n",
      "Epoch 27/100\n",
      "140/140 [==============================] - 42s 299ms/step - loss: 0.1223 - accuracy: 0.9469 - recall: 0.9469 - precision: 0.9469 - false_positives: 119.0000 - true_positives: 2121.0000 - false_negatives: 119.0000 - val_loss: 0.3325 - val_accuracy: 0.8875 - val_recall: 0.8875 - val_precision: 0.8875 - val_false_positives: 63.0000 - val_true_positives: 497.0000 - val_false_negatives: 63.0000\n",
      "Epoch 28/100\n",
      "140/140 [==============================] - 42s 303ms/step - loss: 0.1027 - accuracy: 0.9518 - recall: 0.9518 - precision: 0.9518 - false_positives: 108.0000 - true_positives: 2132.0000 - false_negatives: 108.0000 - val_loss: 0.2939 - val_accuracy: 0.8911 - val_recall: 0.8911 - val_precision: 0.8911 - val_false_positives: 61.0000 - val_true_positives: 499.0000 - val_false_negatives: 61.0000\n",
      "Epoch 29/100\n",
      "140/140 [==============================] - 43s 305ms/step - loss: 0.1003 - accuracy: 0.9567 - recall: 0.9567 - precision: 0.9567 - false_positives: 97.0000 - true_positives: 2143.0000 - false_negatives: 97.0000 - val_loss: 0.3550 - val_accuracy: 0.9000 - val_recall: 0.9000 - val_precision: 0.9000 - val_false_positives: 56.0000 - val_true_positives: 504.0000 - val_false_negatives: 56.0000\n",
      "Epoch 30/100\n",
      "140/140 [==============================] - 42s 299ms/step - loss: 0.0887 - accuracy: 0.9549 - recall: 0.9549 - precision: 0.9549 - false_positives: 101.0000 - true_positives: 2139.0000 - false_negatives: 101.0000 - val_loss: 0.4164 - val_accuracy: 0.8911 - val_recall: 0.8911 - val_precision: 0.8911 - val_false_positives: 61.0000 - val_true_positives: 499.0000 - val_false_negatives: 61.0000\n",
      "Epoch 31/100\n",
      "140/140 [==============================] - 42s 300ms/step - loss: 0.0960 - accuracy: 0.9585 - recall: 0.9585 - precision: 0.9585 - false_positives: 93.0000 - true_positives: 2147.0000 - false_negatives: 93.0000 - val_loss: 0.3300 - val_accuracy: 0.9036 - val_recall: 0.9036 - val_precision: 0.9036 - val_false_positives: 54.0000 - val_true_positives: 506.0000 - val_false_negatives: 54.0000\n",
      "Epoch 32/100\n",
      "140/140 [==============================] - 42s 303ms/step - loss: 0.1241 - accuracy: 0.9469 - recall: 0.9469 - precision: 0.9469 - false_positives: 119.0000 - true_positives: 2121.0000 - false_negatives: 119.0000 - val_loss: 0.3824 - val_accuracy: 0.8839 - val_recall: 0.8839 - val_precision: 0.8839 - val_false_positives: 65.0000 - val_true_positives: 495.0000 - val_false_negatives: 65.0000\n",
      "Epoch 33/100\n",
      "140/140 [==============================] - 42s 299ms/step - loss: 0.1084 - accuracy: 0.9513 - recall: 0.9513 - precision: 0.9513 - false_positives: 109.0000 - true_positives: 2131.0000 - false_negatives: 109.0000 - val_loss: 0.3426 - val_accuracy: 0.8982 - val_recall: 0.8982 - val_precision: 0.8982 - val_false_positives: 57.0000 - val_true_positives: 503.0000 - val_false_negatives: 57.0000\n",
      "Epoch 34/100\n",
      "140/140 [==============================] - 42s 297ms/step - loss: 0.0989 - accuracy: 0.9580 - recall: 0.9580 - precision: 0.9580 - false_positives: 94.0000 - true_positives: 2146.0000 - false_negatives: 94.0000 - val_loss: 0.6053 - val_accuracy: 0.8786 - val_recall: 0.8786 - val_precision: 0.8786 - val_false_positives: 68.0000 - val_true_positives: 492.0000 - val_false_negatives: 68.0000\n",
      "Epoch 35/100\n",
      "140/140 [==============================] - 42s 302ms/step - loss: 0.1046 - accuracy: 0.9518 - recall: 0.9518 - precision: 0.9518 - false_positives: 108.0000 - true_positives: 2132.0000 - false_negatives: 108.0000 - val_loss: 0.4477 - val_accuracy: 0.8929 - val_recall: 0.8929 - val_precision: 0.8929 - val_false_positives: 60.0000 - val_true_positives: 500.0000 - val_false_negatives: 60.0000\n",
      "Epoch 36/100\n",
      "140/140 [==============================] - 41s 295ms/step - loss: 0.0888 - accuracy: 0.9585 - recall: 0.9585 - precision: 0.9585 - false_positives: 93.0000 - true_positives: 2147.0000 - false_negatives: 93.0000 - val_loss: 0.5297 - val_accuracy: 0.8804 - val_recall: 0.8804 - val_precision: 0.8804 - val_false_positives: 67.0000 - val_true_positives: 493.0000 - val_false_negatives: 67.0000\n",
      "Epoch 37/100\n",
      "140/140 [==============================] - 41s 291ms/step - loss: 0.0830 - accuracy: 0.9594 - recall: 0.9594 - precision: 0.9594 - false_positives: 91.0000 - true_positives: 2149.0000 - false_negatives: 91.0000 - val_loss: 0.4150 - val_accuracy: 0.9018 - val_recall: 0.9018 - val_precision: 0.9018 - val_false_positives: 55.0000 - val_true_positives: 505.0000 - val_false_negatives: 55.0000\n",
      "Epoch 38/100\n",
      "140/140 [==============================] - 41s 291ms/step - loss: 0.0797 - accuracy: 0.9612 - recall: 0.9612 - precision: 0.9612 - false_positives: 87.0000 - true_positives: 2153.0000 - false_negatives: 87.0000 - val_loss: 0.5262 - val_accuracy: 0.8929 - val_recall: 0.8929 - val_precision: 0.8929 - val_false_positives: 60.0000 - val_true_positives: 500.0000 - val_false_negatives: 60.0000\n",
      "Epoch 39/100\n",
      "140/140 [==============================] - 41s 295ms/step - loss: 0.0764 - accuracy: 0.9674 - recall: 0.9674 - precision: 0.9674 - false_positives: 73.0000 - true_positives: 2167.0000 - false_negatives: 73.0000 - val_loss: 0.4303 - val_accuracy: 0.8982 - val_recall: 0.8982 - val_precision: 0.8982 - val_false_positives: 57.0000 - val_true_positives: 503.0000 - val_false_negatives: 57.0000\n",
      "Epoch 40/100\n",
      "140/140 [==============================] - 41s 296ms/step - loss: 0.0779 - accuracy: 0.9656 - recall: 0.9656 - precision: 0.9656 - false_positives: 77.0000 - true_positives: 2163.0000 - false_negatives: 77.0000 - val_loss: 0.4456 - val_accuracy: 0.9000 - val_recall: 0.9000 - val_precision: 0.9000 - val_false_positives: 56.0000 - val_true_positives: 504.0000 - val_false_negatives: 56.0000\n",
      "Epoch 41/100\n",
      "140/140 [==============================] - 41s 297ms/step - loss: 0.1566 - accuracy: 0.9415 - recall: 0.9415 - precision: 0.9415 - false_positives: 131.0000 - true_positives: 2109.0000 - false_negatives: 131.0000 - val_loss: 0.3430 - val_accuracy: 0.8893 - val_recall: 0.8893 - val_precision: 0.8893 - val_false_positives: 62.0000 - val_true_positives: 498.0000 - val_false_negatives: 62.0000\n",
      "Epoch 42/100\n",
      "140/140 [==============================] - 42s 299ms/step - loss: 0.1115 - accuracy: 0.9540 - recall: 0.9540 - precision: 0.9540 - false_positives: 103.0000 - true_positives: 2137.0000 - false_negatives: 103.0000 - val_loss: 0.3436 - val_accuracy: 0.8857 - val_recall: 0.8857 - val_precision: 0.8857 - val_false_positives: 64.0000 - val_true_positives: 496.0000 - val_false_negatives: 64.0000\n",
      "Epoch 43/100\n",
      "140/140 [==============================] - 41s 296ms/step - loss: 0.0822 - accuracy: 0.9647 - recall: 0.9647 - precision: 0.9647 - false_positives: 79.0000 - true_positives: 2161.0000 - false_negatives: 79.0000 - val_loss: 0.4502 - val_accuracy: 0.9054 - val_recall: 0.9054 - val_precision: 0.9054 - val_false_positives: 53.0000 - val_true_positives: 507.0000 - val_false_negatives: 53.0000\n",
      "Epoch 44/100\n",
      "140/140 [==============================] - 42s 304ms/step - loss: 0.0978 - accuracy: 0.9616 - recall: 0.9616 - precision: 0.9616 - false_positives: 86.0000 - true_positives: 2154.0000 - false_negatives: 86.0000 - val_loss: 0.3315 - val_accuracy: 0.9018 - val_recall: 0.9018 - val_precision: 0.9018 - val_false_positives: 55.0000 - val_true_positives: 505.0000 - val_false_negatives: 55.0000\n",
      "Epoch 45/100\n",
      "140/140 [==============================] - 42s 300ms/step - loss: 0.0975 - accuracy: 0.9607 - recall: 0.9607 - precision: 0.9607 - false_positives: 88.0000 - true_positives: 2152.0000 - false_negatives: 88.0000 - val_loss: 0.3337 - val_accuracy: 0.9107 - val_recall: 0.9107 - val_precision: 0.9107 - val_false_positives: 50.0000 - val_true_positives: 510.0000 - val_false_negatives: 50.0000\n",
      "Epoch 46/100\n",
      "140/140 [==============================] - 41s 294ms/step - loss: 0.0982 - accuracy: 0.9594 - recall: 0.9594 - precision: 0.9594 - false_positives: 91.0000 - true_positives: 2149.0000 - false_negatives: 91.0000 - val_loss: 0.5307 - val_accuracy: 0.9125 - val_recall: 0.9125 - val_precision: 0.9125 - val_false_positives: 49.0000 - val_true_positives: 511.0000 - val_false_negatives: 49.0000\n",
      "Epoch 47/100\n",
      "140/140 [==============================] - 42s 299ms/step - loss: 0.0763 - accuracy: 0.9705 - recall: 0.9705 - precision: 0.9705 - false_positives: 66.0000 - true_positives: 2174.0000 - false_negatives: 66.0000 - val_loss: 0.5627 - val_accuracy: 0.9000 - val_recall: 0.9000 - val_precision: 0.9000 - val_false_positives: 56.0000 - val_true_positives: 504.0000 - val_false_negatives: 56.0000\n",
      "Epoch 48/100\n",
      "140/140 [==============================] - 42s 300ms/step - loss: 0.0835 - accuracy: 0.9714 - recall: 0.9714 - precision: 0.9714 - false_positives: 64.0000 - true_positives: 2176.0000 - false_negatives: 64.0000 - val_loss: 0.3478 - val_accuracy: 0.8982 - val_recall: 0.8982 - val_precision: 0.8982 - val_false_positives: 57.0000 - val_true_positives: 503.0000 - val_false_negatives: 57.0000\n",
      "Epoch 49/100\n",
      "140/140 [==============================] - 41s 295ms/step - loss: 0.0947 - accuracy: 0.9585 - recall: 0.9585 - precision: 0.9585 - false_positives: 93.0000 - true_positives: 2147.0000 - false_negatives: 93.0000 - val_loss: 0.3770 - val_accuracy: 0.8911 - val_recall: 0.8911 - val_precision: 0.8911 - val_false_positives: 61.0000 - val_true_positives: 499.0000 - val_false_negatives: 61.0000\n",
      "Epoch 50/100\n",
      "140/140 [==============================] - 42s 298ms/step - loss: 0.0874 - accuracy: 0.9652 - recall: 0.9652 - precision: 0.9652 - false_positives: 78.0000 - true_positives: 2162.0000 - false_negatives: 78.0000 - val_loss: 0.4561 - val_accuracy: 0.9036 - val_recall: 0.9036 - val_precision: 0.9036 - val_false_positives: 54.0000 - val_true_positives: 506.0000 - val_false_negatives: 54.0000\n",
      "Epoch 51/100\n",
      "140/140 [==============================] - 42s 298ms/step - loss: 0.0876 - accuracy: 0.9643 - recall: 0.9643 - precision: 0.9643 - false_positives: 80.0000 - true_positives: 2160.0000 - false_negatives: 80.0000 - val_loss: 0.4514 - val_accuracy: 0.9089 - val_recall: 0.9089 - val_precision: 0.9089 - val_false_positives: 51.0000 - val_true_positives: 509.0000 - val_false_negatives: 51.0000\n",
      "Epoch 52/100\n",
      "140/140 [==============================] - 41s 295ms/step - loss: 0.0894 - accuracy: 0.9670 - recall: 0.9670 - precision: 0.9670 - false_positives: 74.0000 - true_positives: 2166.0000 - false_negatives: 74.0000 - val_loss: 0.4047 - val_accuracy: 0.9000 - val_recall: 0.9000 - val_precision: 0.9000 - val_false_positives: 56.0000 - val_true_positives: 504.0000 - val_false_negatives: 56.0000\n",
      "Epoch 53/100\n",
      "140/140 [==============================] - 41s 297ms/step - loss: 0.0632 - accuracy: 0.9741 - recall: 0.9741 - precision: 0.9741 - false_positives: 58.0000 - true_positives: 2182.0000 - false_negatives: 58.0000 - val_loss: 0.5188 - val_accuracy: 0.8946 - val_recall: 0.8946 - val_precision: 0.8946 - val_false_positives: 59.0000 - val_true_positives: 501.0000 - val_false_negatives: 59.0000\n",
      "Epoch 54/100\n",
      "140/140 [==============================] - 41s 294ms/step - loss: 0.0799 - accuracy: 0.9679 - recall: 0.9679 - precision: 0.9679 - false_positives: 72.0000 - true_positives: 2168.0000 - false_negatives: 72.0000 - val_loss: 0.4196 - val_accuracy: 0.9143 - val_recall: 0.9143 - val_precision: 0.9143 - val_false_positives: 48.0000 - val_true_positives: 512.0000 - val_false_negatives: 48.0000\n",
      "Epoch 55/100\n",
      "140/140 [==============================] - 41s 296ms/step - loss: 0.0671 - accuracy: 0.9723 - recall: 0.9723 - precision: 0.9723 - false_positives: 62.0000 - true_positives: 2178.0000 - false_negatives: 62.0000 - val_loss: 0.5063 - val_accuracy: 0.8929 - val_recall: 0.8929 - val_precision: 0.8929 - val_false_positives: 60.0000 - val_true_positives: 500.0000 - val_false_negatives: 60.0000\n",
      "Epoch 56/100\n",
      "140/140 [==============================] - 42s 302ms/step - loss: 0.1093 - accuracy: 0.9536 - recall: 0.9536 - precision: 0.9536 - false_positives: 104.0000 - true_positives: 2136.0000 - false_negatives: 104.0000 - val_loss: 0.4249 - val_accuracy: 0.9000 - val_recall: 0.9000 - val_precision: 0.9000 - val_false_positives: 56.0000 - val_true_positives: 504.0000 - val_false_negatives: 56.0000\n",
      "Epoch 57/100\n",
      "140/140 [==============================] - 41s 294ms/step - loss: 0.0921 - accuracy: 0.9563 - recall: 0.9563 - precision: 0.9563 - false_positives: 98.0000 - true_positives: 2142.0000 - false_negatives: 98.0000 - val_loss: 0.4483 - val_accuracy: 0.8893 - val_recall: 0.8893 - val_precision: 0.8893 - val_false_positives: 62.0000 - val_true_positives: 498.0000 - val_false_negatives: 62.0000\n",
      "Epoch 58/100\n",
      "140/140 [==============================] - 41s 294ms/step - loss: 0.0682 - accuracy: 0.9732 - recall: 0.9732 - precision: 0.9732 - false_positives: 60.0000 - true_positives: 2180.0000 - false_negatives: 60.0000 - val_loss: 0.6170 - val_accuracy: 0.9018 - val_recall: 0.9018 - val_precision: 0.9018 - val_false_positives: 55.0000 - val_true_positives: 505.0000 - val_false_negatives: 55.0000\n",
      "Epoch 59/100\n",
      "140/140 [==============================] - 41s 295ms/step - loss: 0.0734 - accuracy: 0.9701 - recall: 0.9701 - precision: 0.9701 - false_positives: 67.0000 - true_positives: 2173.0000 - false_negatives: 67.0000 - val_loss: 0.5376 - val_accuracy: 0.8982 - val_recall: 0.8982 - val_precision: 0.8982 - val_false_positives: 57.0000 - val_true_positives: 503.0000 - val_false_negatives: 57.0000\n",
      "Epoch 60/100\n",
      "140/140 [==============================] - 42s 297ms/step - loss: 0.0700 - accuracy: 0.9688 - recall: 0.9688 - precision: 0.9688 - false_positives: 70.0000 - true_positives: 2170.0000 - false_negatives: 70.0000 - val_loss: 0.4803 - val_accuracy: 0.9054 - val_recall: 0.9054 - val_precision: 0.9054 - val_false_positives: 53.0000 - val_true_positives: 507.0000 - val_false_negatives: 53.0000\n",
      "Epoch 61/100\n",
      "140/140 [==============================] - 42s 301ms/step - loss: 0.0801 - accuracy: 0.9652 - recall: 0.9652 - precision: 0.9652 - false_positives: 78.0000 - true_positives: 2162.0000 - false_negatives: 78.0000 - val_loss: 0.4524 - val_accuracy: 0.8964 - val_recall: 0.8964 - val_precision: 0.8964 - val_false_positives: 58.0000 - val_true_positives: 502.0000 - val_false_negatives: 58.0000\n",
      "Epoch 62/100\n",
      "140/140 [==============================] - 42s 300ms/step - loss: 0.0671 - accuracy: 0.9710 - recall: 0.9710 - precision: 0.9710 - false_positives: 65.0000 - true_positives: 2175.0000 - false_negatives: 65.0000 - val_loss: 0.5748 - val_accuracy: 0.8893 - val_recall: 0.8893 - val_precision: 0.8893 - val_false_positives: 62.0000 - val_true_positives: 498.0000 - val_false_negatives: 62.0000\n",
      "Epoch 63/100\n",
      "140/140 [==============================] - 42s 297ms/step - loss: 0.0639 - accuracy: 0.9714 - recall: 0.9714 - precision: 0.9714 - false_positives: 64.0000 - true_positives: 2176.0000 - false_negatives: 64.0000 - val_loss: 0.4131 - val_accuracy: 0.9036 - val_recall: 0.9036 - val_precision: 0.9036 - val_false_positives: 54.0000 - val_true_positives: 506.0000 - val_false_negatives: 54.0000\n",
      "Epoch 64/100\n",
      "140/140 [==============================] - 42s 299ms/step - loss: 0.0739 - accuracy: 0.9643 - recall: 0.9643 - precision: 0.9643 - false_positives: 80.0000 - true_positives: 2160.0000 - false_negatives: 80.0000 - val_loss: 0.5350 - val_accuracy: 0.8982 - val_recall: 0.8982 - val_precision: 0.8982 - val_false_positives: 57.0000 - val_true_positives: 503.0000 - val_false_negatives: 57.0000\n",
      "Epoch 65/100\n",
      "140/140 [==============================] - 42s 299ms/step - loss: 0.0751 - accuracy: 0.9683 - recall: 0.9683 - precision: 0.9683 - false_positives: 71.0000 - true_positives: 2169.0000 - false_negatives: 71.0000 - val_loss: 0.4903 - val_accuracy: 0.9089 - val_recall: 0.9089 - val_precision: 0.9089 - val_false_positives: 51.0000 - val_true_positives: 509.0000 - val_false_negatives: 51.0000\n",
      "Epoch 66/100\n",
      "140/140 [==============================] - 41s 293ms/step - loss: 0.0565 - accuracy: 0.9772 - recall: 0.9772 - precision: 0.9772 - false_positives: 51.0000 - true_positives: 2189.0000 - false_negatives: 51.0000 - val_loss: 0.4580 - val_accuracy: 0.8946 - val_recall: 0.8946 - val_precision: 0.8946 - val_false_positives: 59.0000 - val_true_positives: 501.0000 - val_false_negatives: 59.0000\n",
      "Epoch 67/100\n",
      "140/140 [==============================] - 42s 299ms/step - loss: 0.0799 - accuracy: 0.9688 - recall: 0.9688 - precision: 0.9688 - false_positives: 70.0000 - true_positives: 2170.0000 - false_negatives: 70.0000 - val_loss: 0.5099 - val_accuracy: 0.9018 - val_recall: 0.9018 - val_precision: 0.9018 - val_false_positives: 55.0000 - val_true_positives: 505.0000 - val_false_negatives: 55.0000\n",
      "Epoch 68/100\n",
      "140/140 [==============================] - 41s 296ms/step - loss: 0.0658 - accuracy: 0.9701 - recall: 0.9701 - precision: 0.9701 - false_positives: 67.0000 - true_positives: 2173.0000 - false_negatives: 67.0000 - val_loss: 0.5909 - val_accuracy: 0.8929 - val_recall: 0.8929 - val_precision: 0.8929 - val_false_positives: 60.0000 - val_true_positives: 500.0000 - val_false_negatives: 60.0000\n",
      "Epoch 69/100\n",
      "140/140 [==============================] - 41s 294ms/step - loss: 0.0558 - accuracy: 0.9750 - recall: 0.9750 - precision: 0.9750 - false_positives: 56.0000 - true_positives: 2184.0000 - false_negatives: 56.0000 - val_loss: 0.6963 - val_accuracy: 0.8946 - val_recall: 0.8946 - val_precision: 0.8946 - val_false_positives: 59.0000 - val_true_positives: 501.0000 - val_false_negatives: 59.0000\n",
      "Epoch 70/100\n",
      "140/140 [==============================] - 42s 299ms/step - loss: 0.0753 - accuracy: 0.9634 - recall: 0.9634 - precision: 0.9634 - false_positives: 82.0000 - true_positives: 2158.0000 - false_negatives: 82.0000 - val_loss: 0.5810 - val_accuracy: 0.8982 - val_recall: 0.8982 - val_precision: 0.8982 - val_false_positives: 57.0000 - val_true_positives: 503.0000 - val_false_negatives: 57.0000\n",
      "Epoch 71/100\n",
      "140/140 [==============================] - 42s 300ms/step - loss: 0.0774 - accuracy: 0.9674 - recall: 0.9674 - precision: 0.9674 - false_positives: 73.0000 - true_positives: 2167.0000 - false_negatives: 73.0000 - val_loss: 0.4989 - val_accuracy: 0.8893 - val_recall: 0.8893 - val_precision: 0.8893 - val_false_positives: 62.0000 - val_true_positives: 498.0000 - val_false_negatives: 62.0000\n",
      "Epoch 72/100\n",
      "140/140 [==============================] - 41s 295ms/step - loss: 0.0670 - accuracy: 0.9683 - recall: 0.9683 - precision: 0.9683 - false_positives: 71.0000 - true_positives: 2169.0000 - false_negatives: 71.0000 - val_loss: 0.4888 - val_accuracy: 0.8964 - val_recall: 0.8964 - val_precision: 0.8964 - val_false_positives: 58.0000 - val_true_positives: 502.0000 - val_false_negatives: 58.0000\n",
      "Epoch 73/100\n",
      "140/140 [==============================] - 41s 294ms/step - loss: 0.0681 - accuracy: 0.9754 - recall: 0.9754 - precision: 0.9754 - false_positives: 55.0000 - true_positives: 2185.0000 - false_negatives: 55.0000 - val_loss: 0.5028 - val_accuracy: 0.9071 - val_recall: 0.9071 - val_precision: 0.9071 - val_false_positives: 52.0000 - val_true_positives: 508.0000 - val_false_negatives: 52.0000\n",
      "Epoch 74/100\n",
      "140/140 [==============================] - 41s 295ms/step - loss: 0.0520 - accuracy: 0.9790 - recall: 0.9790 - precision: 0.9790 - false_positives: 47.0000 - true_positives: 2193.0000 - false_negatives: 47.0000 - val_loss: 0.6049 - val_accuracy: 0.9036 - val_recall: 0.9036 - val_precision: 0.9036 - val_false_positives: 54.0000 - val_true_positives: 506.0000 - val_false_negatives: 54.0000\n",
      "Epoch 75/100\n",
      "140/140 [==============================] - 41s 293ms/step - loss: 0.0869 - accuracy: 0.9629 - recall: 0.9629 - precision: 0.9629 - false_positives: 83.0000 - true_positives: 2157.0000 - false_negatives: 83.0000 - val_loss: 0.4882 - val_accuracy: 0.9125 - val_recall: 0.9125 - val_precision: 0.9125 - val_false_positives: 49.0000 - val_true_positives: 511.0000 - val_false_negatives: 49.0000\n",
      "Epoch 76/100\n",
      "140/140 [==============================] - 41s 297ms/step - loss: 0.0669 - accuracy: 0.9701 - recall: 0.9701 - precision: 0.9701 - false_positives: 67.0000 - true_positives: 2173.0000 - false_negatives: 67.0000 - val_loss: 0.7547 - val_accuracy: 0.8982 - val_recall: 0.8982 - val_precision: 0.8982 - val_false_positives: 57.0000 - val_true_positives: 503.0000 - val_false_negatives: 57.0000\n",
      "Epoch 77/100\n",
      "140/140 [==============================] - 41s 292ms/step - loss: 0.0843 - accuracy: 0.9638 - recall: 0.9638 - precision: 0.9638 - false_positives: 81.0000 - true_positives: 2159.0000 - false_negatives: 81.0000 - val_loss: 0.4936 - val_accuracy: 0.8964 - val_recall: 0.8964 - val_precision: 0.8964 - val_false_positives: 58.0000 - val_true_positives: 502.0000 - val_false_negatives: 58.0000\n",
      "Epoch 78/100\n",
      "140/140 [==============================] - 42s 299ms/step - loss: 0.0655 - accuracy: 0.9683 - recall: 0.9683 - precision: 0.9683 - false_positives: 71.0000 - true_positives: 2169.0000 - false_negatives: 71.0000 - val_loss: 0.6124 - val_accuracy: 0.9018 - val_recall: 0.9018 - val_precision: 0.9018 - val_false_positives: 55.0000 - val_true_positives: 505.0000 - val_false_negatives: 55.0000\n",
      "Epoch 79/100\n",
      "140/140 [==============================] - 42s 300ms/step - loss: 0.0608 - accuracy: 0.9696 - recall: 0.9696 - precision: 0.9696 - false_positives: 68.0000 - true_positives: 2172.0000 - false_negatives: 68.0000 - val_loss: 0.6302 - val_accuracy: 0.9071 - val_recall: 0.9071 - val_precision: 0.9071 - val_false_positives: 52.0000 - val_true_positives: 508.0000 - val_false_negatives: 52.0000\n",
      "Epoch 80/100\n",
      "140/140 [==============================] - 42s 298ms/step - loss: 0.0484 - accuracy: 0.9804 - recall: 0.9804 - precision: 0.9804 - false_positives: 44.0000 - true_positives: 2196.0000 - false_negatives: 44.0000 - val_loss: 0.6290 - val_accuracy: 0.9107 - val_recall: 0.9107 - val_precision: 0.9107 - val_false_positives: 50.0000 - val_true_positives: 510.0000 - val_false_negatives: 50.0000\n",
      "Epoch 81/100\n",
      "140/140 [==============================] - 41s 296ms/step - loss: 0.0529 - accuracy: 0.9746 - recall: 0.9746 - precision: 0.9746 - false_positives: 57.0000 - true_positives: 2183.0000 - false_negatives: 57.0000 - val_loss: 0.6357 - val_accuracy: 0.9000 - val_recall: 0.9000 - val_precision: 0.9000 - val_false_positives: 56.0000 - val_true_positives: 504.0000 - val_false_negatives: 56.0000\n",
      "Epoch 82/100\n",
      "140/140 [==============================] - 41s 296ms/step - loss: 0.0510 - accuracy: 0.9781 - recall: 0.9781 - precision: 0.9781 - false_positives: 49.0000 - true_positives: 2191.0000 - false_negatives: 49.0000 - val_loss: 0.6291 - val_accuracy: 0.9054 - val_recall: 0.9054 - val_precision: 0.9054 - val_false_positives: 53.0000 - val_true_positives: 507.0000 - val_false_negatives: 53.0000\n",
      "Epoch 83/100\n",
      "140/140 [==============================] - 41s 296ms/step - loss: 0.0542 - accuracy: 0.9777 - recall: 0.9777 - precision: 0.9777 - false_positives: 50.0000 - true_positives: 2190.0000 - false_negatives: 50.0000 - val_loss: 0.7378 - val_accuracy: 0.9054 - val_recall: 0.9054 - val_precision: 0.9054 - val_false_positives: 53.0000 - val_true_positives: 507.0000 - val_false_negatives: 53.0000\n",
      "Epoch 84/100\n",
      "140/140 [==============================] - 42s 300ms/step - loss: 0.0680 - accuracy: 0.9754 - recall: 0.9754 - precision: 0.9754 - false_positives: 55.0000 - true_positives: 2185.0000 - false_negatives: 55.0000 - val_loss: 0.6181 - val_accuracy: 0.9036 - val_recall: 0.9036 - val_precision: 0.9036 - val_false_positives: 54.0000 - val_true_positives: 506.0000 - val_false_negatives: 54.0000\n",
      "Epoch 85/100\n",
      "140/140 [==============================] - 41s 292ms/step - loss: 0.0890 - accuracy: 0.9652 - recall: 0.9652 - precision: 0.9652 - false_positives: 78.0000 - true_positives: 2162.0000 - false_negatives: 78.0000 - val_loss: 0.4998 - val_accuracy: 0.8982 - val_recall: 0.8982 - val_precision: 0.8982 - val_false_positives: 57.0000 - val_true_positives: 503.0000 - val_false_negatives: 57.0000\n",
      "Epoch 86/100\n",
      "140/140 [==============================] - 42s 297ms/step - loss: 0.0647 - accuracy: 0.9705 - recall: 0.9705 - precision: 0.9705 - false_positives: 66.0000 - true_positives: 2174.0000 - false_negatives: 66.0000 - val_loss: 0.6103 - val_accuracy: 0.9036 - val_recall: 0.9036 - val_precision: 0.9036 - val_false_positives: 54.0000 - val_true_positives: 506.0000 - val_false_negatives: 54.0000\n",
      "Epoch 87/100\n",
      "140/140 [==============================] - 41s 295ms/step - loss: 0.0525 - accuracy: 0.9795 - recall: 0.9795 - precision: 0.9795 - false_positives: 46.0000 - true_positives: 2194.0000 - false_negatives: 46.0000 - val_loss: 0.7170 - val_accuracy: 0.8982 - val_recall: 0.8982 - val_precision: 0.8982 - val_false_positives: 57.0000 - val_true_positives: 503.0000 - val_false_negatives: 57.0000\n",
      "Epoch 88/100\n",
      "140/140 [==============================] - 41s 291ms/step - loss: 0.0724 - accuracy: 0.9728 - recall: 0.9728 - precision: 0.9728 - false_positives: 61.0000 - true_positives: 2179.0000 - false_negatives: 61.0000 - val_loss: 0.4413 - val_accuracy: 0.9018 - val_recall: 0.9018 - val_precision: 0.9018 - val_false_positives: 55.0000 - val_true_positives: 505.0000 - val_false_negatives: 55.0000\n",
      "Epoch 89/100\n",
      "140/140 [==============================] - 41s 291ms/step - loss: 0.0831 - accuracy: 0.9652 - recall: 0.9652 - precision: 0.9652 - false_positives: 78.0000 - true_positives: 2162.0000 - false_negatives: 78.0000 - val_loss: 0.4977 - val_accuracy: 0.9036 - val_recall: 0.9036 - val_precision: 0.9036 - val_false_positives: 54.0000 - val_true_positives: 506.0000 - val_false_negatives: 54.0000\n",
      "Epoch 90/100\n",
      "140/140 [==============================] - 41s 295ms/step - loss: 0.0509 - accuracy: 0.9790 - recall: 0.9790 - precision: 0.9790 - false_positives: 47.0000 - true_positives: 2193.0000 - false_negatives: 47.0000 - val_loss: 0.5664 - val_accuracy: 0.9071 - val_recall: 0.9071 - val_precision: 0.9071 - val_false_positives: 52.0000 - val_true_positives: 508.0000 - val_false_negatives: 52.0000\n",
      "Epoch 91/100\n",
      "140/140 [==============================] - 41s 295ms/step - loss: 0.0529 - accuracy: 0.9799 - recall: 0.9799 - precision: 0.9799 - false_positives: 45.0000 - true_positives: 2195.0000 - false_negatives: 45.0000 - val_loss: 0.6771 - val_accuracy: 0.9018 - val_recall: 0.9018 - val_precision: 0.9018 - val_false_positives: 55.0000 - val_true_positives: 505.0000 - val_false_negatives: 55.0000\n",
      "Epoch 92/100\n",
      "140/140 [==============================] - 41s 295ms/step - loss: 0.0913 - accuracy: 0.9598 - recall: 0.9598 - precision: 0.9598 - false_positives: 90.0000 - true_positives: 2150.0000 - false_negatives: 90.0000 - val_loss: 0.5018 - val_accuracy: 0.9036 - val_recall: 0.9036 - val_precision: 0.9036 - val_false_positives: 54.0000 - val_true_positives: 506.0000 - val_false_negatives: 54.0000\n",
      "Epoch 93/100\n",
      "140/140 [==============================] - 42s 299ms/step - loss: 0.0672 - accuracy: 0.9737 - recall: 0.9737 - precision: 0.9737 - false_positives: 59.0000 - true_positives: 2181.0000 - false_negatives: 59.0000 - val_loss: 0.6108 - val_accuracy: 0.8982 - val_recall: 0.8982 - val_precision: 0.8982 - val_false_positives: 57.0000 - val_true_positives: 503.0000 - val_false_negatives: 57.0000\n",
      "Epoch 94/100\n",
      "140/140 [==============================] - 41s 293ms/step - loss: 0.0576 - accuracy: 0.9777 - recall: 0.9777 - precision: 0.9777 - false_positives: 50.0000 - true_positives: 2190.0000 - false_negatives: 50.0000 - val_loss: 0.5889 - val_accuracy: 0.8946 - val_recall: 0.8946 - val_precision: 0.8946 - val_false_positives: 59.0000 - val_true_positives: 501.0000 - val_false_negatives: 59.0000\n",
      "Epoch 95/100\n",
      "140/140 [==============================] - 40s 289ms/step - loss: 0.0593 - accuracy: 0.9795 - recall: 0.9795 - precision: 0.9795 - false_positives: 46.0000 - true_positives: 2194.0000 - false_negatives: 46.0000 - val_loss: 0.6338 - val_accuracy: 0.9018 - val_recall: 0.9018 - val_precision: 0.9018 - val_false_positives: 55.0000 - val_true_positives: 505.0000 - val_false_negatives: 55.0000\n",
      "Epoch 96/100\n",
      "140/140 [==============================] - 41s 295ms/step - loss: 0.0480 - accuracy: 0.9817 - recall: 0.9817 - precision: 0.9817 - false_positives: 41.0000 - true_positives: 2199.0000 - false_negatives: 41.0000 - val_loss: 0.8115 - val_accuracy: 0.8964 - val_recall: 0.8964 - val_precision: 0.8964 - val_false_positives: 58.0000 - val_true_positives: 502.0000 - val_false_negatives: 58.0000\n",
      "Epoch 97/100\n",
      "140/140 [==============================] - 42s 298ms/step - loss: 0.0683 - accuracy: 0.9723 - recall: 0.9723 - precision: 0.9723 - false_positives: 62.0000 - true_positives: 2178.0000 - false_negatives: 62.0000 - val_loss: 0.5624 - val_accuracy: 0.9089 - val_recall: 0.9089 - val_precision: 0.9089 - val_false_positives: 51.0000 - val_true_positives: 509.0000 - val_false_negatives: 51.0000\n",
      "Epoch 98/100\n",
      "140/140 [==============================] - 41s 297ms/step - loss: 0.0666 - accuracy: 0.9723 - recall: 0.9723 - precision: 0.9723 - false_positives: 62.0000 - true_positives: 2178.0000 - false_negatives: 62.0000 - val_loss: 0.5657 - val_accuracy: 0.9054 - val_recall: 0.9054 - val_precision: 0.9054 - val_false_positives: 53.0000 - val_true_positives: 507.0000 - val_false_negatives: 53.0000\n",
      "Epoch 99/100\n",
      "140/140 [==============================] - 41s 293ms/step - loss: 0.0457 - accuracy: 0.9826 - recall: 0.9826 - precision: 0.9826 - false_positives: 39.0000 - true_positives: 2201.0000 - false_negatives: 39.0000 - val_loss: 0.6347 - val_accuracy: 0.9071 - val_recall: 0.9071 - val_precision: 0.9071 - val_false_positives: 52.0000 - val_true_positives: 508.0000 - val_false_negatives: 52.0000\n",
      "Epoch 100/100\n",
      "140/140 [==============================] - 41s 293ms/step - loss: 0.0635 - accuracy: 0.9772 - recall: 0.9772 - precision: 0.9772 - false_positives: 51.0000 - true_positives: 2189.0000 - false_negatives: 51.0000 - val_loss: 0.4736 - val_accuracy: 0.9054 - val_recall: 0.9054 - val_precision: 0.9054 - val_false_positives: 53.0000 - val_true_positives: 507.0000 - val_false_negatives: 53.0000\n"
     ]
    }
   ],
   "source": [
    "history = model.fit(\n",
    "    trainImages, trainTargets,\n",
    "    validation_data=(testImages, testTargets),\n",
    "    batch_size=BATCH_SIZE,\n",
    "    epochs=NUM_EPOCHS,\n",
    "    verbose=1)"
   ]
  },
  {
   "cell_type": "code",
   "execution_count": 35,
   "id": "2fae19b3-11c3-4396-8b06-3db9b3332e02",
   "metadata": {},
   "outputs": [],
   "source": [
    "model.save('../train_w_model03v2/wHC_1.h5')"
   ]
  },
  {
   "cell_type": "code",
   "execution_count": 36,
   "id": "40bb19ca-38b6-45fd-a4ce-8cd7393f405c",
   "metadata": {},
   "outputs": [
    {
     "name": "stdout",
     "output_type": "stream",
     "text": [
      "70/70 [==============================] - 30s 412ms/step - loss: 0.0169 - accuracy: 0.9924 - recall: 0.9924 - precision: 0.9924 - false_positives: 17.0000 - true_positives: 2223.0000 - false_negatives: 17.0000\n",
      "Test accuracy : 0.9924107193946838\n",
      "Test recall : 0.9924107193946838\n",
      "Test precision : 0.9924107193946838\n",
      "False Positive : 17.0\n",
      "True Positive : 2223.0\n",
      "False Negative : 17.0\n",
      "True Negative : -17.0\n",
      "F1 : 0.9924107193946838\n"
     ]
    }
   ],
   "source": [
    "loss, accuracy, recall, precision, fp, tp, fn = model.evaluate(trainImages, trainTargets)\n",
    "print('Test accuracy :', accuracy)\n",
    "print('Test recall :', recall)\n",
    "print('Test precision :', precision)\n",
    "print('False Positive :', fp)\n",
    "print('True Positive :', tp)\n",
    "print('False Negative :', fn)\n",
    "tn = len(trainImages)-fp-tp-fn\n",
    "print('True Negative :', tn)\n",
    "print('F1 :', (2*(precision*recall))/(precision + recall))"
   ]
  },
  {
   "cell_type": "code",
   "execution_count": 37,
   "id": "c06d3723-1ee6-4a34-9251-eb801076e3c7",
   "metadata": {},
   "outputs": [
    {
     "name": "stdout",
     "output_type": "stream",
     "text": [
      "18/18 [==============================] - 7s 378ms/step - loss: 0.4736 - accuracy: 0.9054 - recall: 0.9054 - precision: 0.9054 - false_positives: 53.0000 - true_positives: 507.0000 - false_negatives: 53.0000\n",
      "Test accuracy : 0.9053571224212646\n",
      "Test recall : 0.9053571224212646\n",
      "Test precision : 0.9053571224212646\n",
      "False Positive : 53.0\n",
      "True Positive : 507.0\n",
      "False Negative : 53.0\n",
      "True Negative : -53.0\n",
      "F1 : 0.9053571224212646\n"
     ]
    }
   ],
   "source": [
    "loss, accuracy, recall, precision, fp, tp, fn = model.evaluate(testImages, testTargets)\n",
    "print('Test accuracy :', accuracy)\n",
    "print('Test recall :', recall)\n",
    "print('Test precision :', precision)\n",
    "print('False Positive :', fp)\n",
    "print('True Positive :', tp)\n",
    "print('False Negative :', fn)\n",
    "tn = len(testImages)-fp-tp-fn\n",
    "print('True Negative :', tn)\n",
    "print('F1 :', (2*(precision*recall))/(precision + recall))"
   ]
  },
  {
   "cell_type": "code",
   "execution_count": 86,
   "id": "ee8934b2-4254-4347-b5c1-6c3ec1b17c5c",
   "metadata": {},
   "outputs": [],
   "source": [
    "epochs = 100"
   ]
  },
  {
   "cell_type": "code",
   "execution_count": null,
   "id": "0820b095-a030-4223-873d-2d8ab732afe8",
   "metadata": {},
   "outputs": [],
   "source": []
  },
  {
   "cell_type": "code",
   "execution_count": null,
   "id": "7a82df97-620f-4f27-8901-2b3dbac8f92a",
   "metadata": {},
   "outputs": [],
   "source": [
    "# 128 x 128 Model - val_generator\n",
    "'''\n",
    "18/18 [==============================] - 7s 387ms/step - loss: 0.6295 - accuracy: 0.9036 - recall: 0.9036 - precision: 0.9036 - false_positives: 54.0000 - true_positives: 506.0000 - false_negatives: 54.0000\n",
    "Test accuracy : 0.9035714268684387\n",
    "Test recall : 0.9035714268684387\n",
    "Test precision : 0.9035714268684387\n",
    "False Positive : 54.0\n",
    "True Positive : 506.0\n",
    "False Negative : 54.0\n",
    "True Negative : -54.0\n",
    "F1 : 0.9035714268684387\n",
    "'''"
   ]
  },
  {
   "cell_type": "code",
   "execution_count": null,
   "id": "6c0b7ce4-c7ad-41f6-95d5-47036a1b3a83",
   "metadata": {},
   "outputs": [],
   "source": [
    "# 128 x 128 Model - train_generator\n",
    "'''\n",
    "70/70 [==============================] - 28s 393ms/step - loss: 0.0034 - accuracy: 0.9987 - recall: 0.9987 - precision: 0.9987 - false_positives: 3.0000 - true_positives: 2237.0000 - false_negatives: 3.0000\n",
    "Test accuracy : 0.9986607432365417\n",
    "Test recall : 0.9986607432365417\n",
    "Test precision : 0.9986607432365417\n",
    "False Positive : 3.0\n",
    "True Positive : 2237.0\n",
    "False Negative : 3.0\n",
    "True Negative : -1683.0\n",
    "F1 : 0.9986607432365417\n",
    "'''"
   ]
  },
  {
   "cell_type": "code",
   "execution_count": null,
   "id": "4349ab12-34c0-428f-93f8-d8e1ee2a2bdd",
   "metadata": {},
   "outputs": [],
   "source": []
  },
  {
   "cell_type": "code",
   "execution_count": null,
   "id": "ba1b8213-3fb5-4897-9215-f29b9e6c951a",
   "metadata": {},
   "outputs": [],
   "source": [
    "# 224 x 224 Model - train_generator\n",
    "'''\n",
    "70/70 [==============================] - 82s 1s/step - loss: 0.0049 - accuracy: 0.9973 - recall: 0.9973 - precision: 0.9973 - false_positives: 6.0000 - true_positives: 2234.0000 - false_negatives: 6.0000\n",
    "Test accuracy : 0.9973214268684387\n",
    "Test recall : 0.9973214268684387\n",
    "Test precision : 0.9973214268684387\n",
    "False Positive : 6.0\n",
    "True Positive : 2234.0\n",
    "False Negative : 6.0\n",
    "True Negative : -6.0\n",
    "F1 : 0.9973214268684387\n",
    "'''"
   ]
  },
  {
   "cell_type": "code",
   "execution_count": null,
   "id": "600b4747-c5e4-4100-a17f-02d5dd95b482",
   "metadata": {},
   "outputs": [],
   "source": [
    "# 224 x 224 Model - val_generator\n",
    "'''\n",
    "18/18 [==============================] - 22s 1s/step - loss: 0.7200 - accuracy: 0.9393 - recall: 0.9393 - precision: 0.9393 - false_positives: 34.0000 - true_positives: 526.0000 - false_negatives: 34.0000\n",
    "Test accuracy : 0.9392856955528259\n",
    "Test recall : 0.9392856955528259\n",
    "Test precision : 0.9392856955528259\n",
    "False Positive : 34.0\n",
    "True Positive : 526.0\n",
    "False Negative : 34.0\n",
    "True Negative : -34.0\n",
    "F1 : 0.9392856955528259\n",
    "'''"
   ]
  },
  {
   "cell_type": "code",
   "execution_count": null,
   "id": "f30e9591-983b-41df-8d4c-9b54ada94fae",
   "metadata": {},
   "outputs": [],
   "source": []
  },
  {
   "cell_type": "code",
   "execution_count": 5,
   "id": "ba9eb976-8c02-422b-a78a-817283126aac",
   "metadata": {},
   "outputs": [],
   "source": [
    "import moxing as mox\n",
    "mox.file.copy('/home/ma-user/work/model03v2.zip', 'obs://bucket-beta-test/model03v2.zip')\n"
   ]
  },
  {
   "cell_type": "code",
   "execution_count": null,
   "id": "d955869c-1da3-4a17-86ed-229f54e4221d",
   "metadata": {},
   "outputs": [],
   "source": []
  }
 ],
 "metadata": {
  "kernelspec": {
   "display_name": "python-3.7.10",
   "language": "python",
   "name": "python-3.7.10"
  },
  "language_info": {
   "codemirror_mode": {
    "name": "ipython",
    "version": 3
   },
   "file_extension": ".py",
   "mimetype": "text/x-python",
   "name": "python",
   "nbconvert_exporter": "python",
   "pygments_lexer": "ipython3",
   "version": "3.7.10"
  }
 },
 "nbformat": 4,
 "nbformat_minor": 5
}
